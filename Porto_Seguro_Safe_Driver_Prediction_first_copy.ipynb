{
 "cells": [
  {
   "cell_type": "code",
   "execution_count": 1,
   "id": "technological-kennedy",
   "metadata": {},
   "outputs": [
    {
     "data": {
      "text/html": [
       "        <script type=\"text/javascript\">\n",
       "        window.PlotlyConfig = {MathJaxConfig: 'local'};\n",
       "        if (window.MathJax) {MathJax.Hub.Config({SVG: {font: \"STIX-Web\"}});}\n",
       "        if (typeof require !== 'undefined') {\n",
       "        require.undef(\"plotly\");\n",
       "        requirejs.config({\n",
       "            paths: {\n",
       "                'plotly': ['https://cdn.plot.ly/plotly-latest.min']\n",
       "            }\n",
       "        });\n",
       "        require(['plotly'], function(Plotly) {\n",
       "            window._Plotly = Plotly;\n",
       "        });\n",
       "        }\n",
       "        </script>\n",
       "        "
      ]
     },
     "metadata": {},
     "output_type": "display_data"
    }
   ],
   "source": [
    "import pandas as pd\n",
    "import numpy as np\n",
    "import seaborn as sns\n",
    "import matplotlib.pyplot as plt\n",
    "%matplotlib inline\n",
    "\n",
    "import plotly.offline as py\n",
    "py.init_notebook_mode(connected = True)\n",
    "import plotly.graph_objs as go\n",
    "import plotly.tools as tls\n",
    "import warnings\n",
    "from collections import Counter\n",
    "from sklearn.feature_selection import mutual_info_classif\n",
    "from sklearn.model_selection import KFold\n",
    "warnings.filterwarnings('ignore')"
   ]
  },
  {
   "cell_type": "code",
   "execution_count": 2,
   "id": "fossil-renaissance",
   "metadata": {},
   "outputs": [
    {
     "data": {
      "text/html": [
       "<div>\n",
       "<style scoped>\n",
       "    .dataframe tbody tr th:only-of-type {\n",
       "        vertical-align: middle;\n",
       "    }\n",
       "\n",
       "    .dataframe tbody tr th {\n",
       "        vertical-align: top;\n",
       "    }\n",
       "\n",
       "    .dataframe thead th {\n",
       "        text-align: right;\n",
       "    }\n",
       "</style>\n",
       "<table border=\"1\" class=\"dataframe\">\n",
       "  <thead>\n",
       "    <tr style=\"text-align: right;\">\n",
       "      <th></th>\n",
       "      <th>id</th>\n",
       "      <th>target</th>\n",
       "      <th>ps_ind_01</th>\n",
       "      <th>ps_ind_02_cat</th>\n",
       "      <th>ps_ind_03</th>\n",
       "      <th>ps_ind_04_cat</th>\n",
       "      <th>ps_ind_05_cat</th>\n",
       "      <th>ps_ind_06_bin</th>\n",
       "      <th>ps_ind_07_bin</th>\n",
       "      <th>ps_ind_08_bin</th>\n",
       "      <th>...</th>\n",
       "      <th>ps_calc_11</th>\n",
       "      <th>ps_calc_12</th>\n",
       "      <th>ps_calc_13</th>\n",
       "      <th>ps_calc_14</th>\n",
       "      <th>ps_calc_15_bin</th>\n",
       "      <th>ps_calc_16_bin</th>\n",
       "      <th>ps_calc_17_bin</th>\n",
       "      <th>ps_calc_18_bin</th>\n",
       "      <th>ps_calc_19_bin</th>\n",
       "      <th>ps_calc_20_bin</th>\n",
       "    </tr>\n",
       "  </thead>\n",
       "  <tbody>\n",
       "    <tr>\n",
       "      <th>0</th>\n",
       "      <td>7</td>\n",
       "      <td>0</td>\n",
       "      <td>2</td>\n",
       "      <td>2</td>\n",
       "      <td>5</td>\n",
       "      <td>1</td>\n",
       "      <td>0</td>\n",
       "      <td>0</td>\n",
       "      <td>1</td>\n",
       "      <td>0</td>\n",
       "      <td>...</td>\n",
       "      <td>9</td>\n",
       "      <td>1</td>\n",
       "      <td>5</td>\n",
       "      <td>8</td>\n",
       "      <td>0</td>\n",
       "      <td>1</td>\n",
       "      <td>1</td>\n",
       "      <td>0</td>\n",
       "      <td>0</td>\n",
       "      <td>1</td>\n",
       "    </tr>\n",
       "    <tr>\n",
       "      <th>1</th>\n",
       "      <td>9</td>\n",
       "      <td>0</td>\n",
       "      <td>1</td>\n",
       "      <td>1</td>\n",
       "      <td>7</td>\n",
       "      <td>0</td>\n",
       "      <td>0</td>\n",
       "      <td>0</td>\n",
       "      <td>0</td>\n",
       "      <td>1</td>\n",
       "      <td>...</td>\n",
       "      <td>3</td>\n",
       "      <td>1</td>\n",
       "      <td>1</td>\n",
       "      <td>9</td>\n",
       "      <td>0</td>\n",
       "      <td>1</td>\n",
       "      <td>1</td>\n",
       "      <td>0</td>\n",
       "      <td>1</td>\n",
       "      <td>0</td>\n",
       "    </tr>\n",
       "    <tr>\n",
       "      <th>2</th>\n",
       "      <td>13</td>\n",
       "      <td>0</td>\n",
       "      <td>5</td>\n",
       "      <td>4</td>\n",
       "      <td>9</td>\n",
       "      <td>1</td>\n",
       "      <td>0</td>\n",
       "      <td>0</td>\n",
       "      <td>0</td>\n",
       "      <td>1</td>\n",
       "      <td>...</td>\n",
       "      <td>4</td>\n",
       "      <td>2</td>\n",
       "      <td>7</td>\n",
       "      <td>7</td>\n",
       "      <td>0</td>\n",
       "      <td>1</td>\n",
       "      <td>1</td>\n",
       "      <td>0</td>\n",
       "      <td>1</td>\n",
       "      <td>0</td>\n",
       "    </tr>\n",
       "    <tr>\n",
       "      <th>3</th>\n",
       "      <td>16</td>\n",
       "      <td>0</td>\n",
       "      <td>0</td>\n",
       "      <td>1</td>\n",
       "      <td>2</td>\n",
       "      <td>0</td>\n",
       "      <td>0</td>\n",
       "      <td>1</td>\n",
       "      <td>0</td>\n",
       "      <td>0</td>\n",
       "      <td>...</td>\n",
       "      <td>2</td>\n",
       "      <td>2</td>\n",
       "      <td>4</td>\n",
       "      <td>9</td>\n",
       "      <td>0</td>\n",
       "      <td>0</td>\n",
       "      <td>0</td>\n",
       "      <td>0</td>\n",
       "      <td>0</td>\n",
       "      <td>0</td>\n",
       "    </tr>\n",
       "    <tr>\n",
       "      <th>4</th>\n",
       "      <td>17</td>\n",
       "      <td>0</td>\n",
       "      <td>0</td>\n",
       "      <td>2</td>\n",
       "      <td>0</td>\n",
       "      <td>1</td>\n",
       "      <td>0</td>\n",
       "      <td>1</td>\n",
       "      <td>0</td>\n",
       "      <td>0</td>\n",
       "      <td>...</td>\n",
       "      <td>3</td>\n",
       "      <td>1</td>\n",
       "      <td>1</td>\n",
       "      <td>3</td>\n",
       "      <td>0</td>\n",
       "      <td>0</td>\n",
       "      <td>0</td>\n",
       "      <td>1</td>\n",
       "      <td>1</td>\n",
       "      <td>0</td>\n",
       "    </tr>\n",
       "  </tbody>\n",
       "</table>\n",
       "<p>5 rows × 59 columns</p>\n",
       "</div>"
      ],
      "text/plain": [
       "   id  target  ps_ind_01  ps_ind_02_cat  ps_ind_03  ps_ind_04_cat  \\\n",
       "0   7       0          2              2          5              1   \n",
       "1   9       0          1              1          7              0   \n",
       "2  13       0          5              4          9              1   \n",
       "3  16       0          0              1          2              0   \n",
       "4  17       0          0              2          0              1   \n",
       "\n",
       "   ps_ind_05_cat  ps_ind_06_bin  ps_ind_07_bin  ps_ind_08_bin  ...  \\\n",
       "0              0              0              1              0  ...   \n",
       "1              0              0              0              1  ...   \n",
       "2              0              0              0              1  ...   \n",
       "3              0              1              0              0  ...   \n",
       "4              0              1              0              0  ...   \n",
       "\n",
       "   ps_calc_11  ps_calc_12  ps_calc_13  ps_calc_14  ps_calc_15_bin  \\\n",
       "0           9           1           5           8               0   \n",
       "1           3           1           1           9               0   \n",
       "2           4           2           7           7               0   \n",
       "3           2           2           4           9               0   \n",
       "4           3           1           1           3               0   \n",
       "\n",
       "   ps_calc_16_bin  ps_calc_17_bin  ps_calc_18_bin  ps_calc_19_bin  \\\n",
       "0               1               1               0               0   \n",
       "1               1               1               0               1   \n",
       "2               1               1               0               1   \n",
       "3               0               0               0               0   \n",
       "4               0               0               1               1   \n",
       "\n",
       "   ps_calc_20_bin  \n",
       "0               1  \n",
       "1               0  \n",
       "2               0  \n",
       "3               0  \n",
       "4               0  \n",
       "\n",
       "[5 rows x 59 columns]"
      ]
     },
     "execution_count": 2,
     "metadata": {},
     "output_type": "execute_result"
    }
   ],
   "source": [
    "train = pd.read_csv('C:/Users/user/Desktop/Porto_Seguro/train.csv')\n",
    "train.head()"
   ]
  },
  {
   "cell_type": "code",
   "execution_count": 3,
   "id": "solar-cosmetic",
   "metadata": {},
   "outputs": [
    {
     "name": "stdout",
     "output_type": "stream",
     "text": [
      "The train dataset contains 595212 rows and 59 columns\n"
     ]
    }
   ],
   "source": [
    "rows = train.shape[0]\n",
    "columns = train.shape[1]\n",
    "print('The train dataset contains {0} rows and {1} columns'.format(rows, columns))"
   ]
  },
  {
   "cell_type": "code",
   "execution_count": 4,
   "id": "right-compilation",
   "metadata": {},
   "outputs": [
    {
     "data": {
      "text/plain": [
       "False"
      ]
     },
     "execution_count": 4,
     "metadata": {},
     "output_type": "execute_result"
    }
   ],
   "source": [
    "train.isnull().any().any()"
   ]
  },
  {
   "cell_type": "code",
   "execution_count": 5,
   "id": "respiratory-teddy",
   "metadata": {},
   "outputs": [],
   "source": [
    "train_copy = train\n",
    "train_copy = train_copy.replace(-1, np.NaN)"
   ]
  },
  {
   "cell_type": "code",
   "execution_count": 6,
   "id": "attached-rocket",
   "metadata": {},
   "outputs": [
    {
     "data": {
      "text/plain": [
       "<AxesSubplot:>"
      ]
     },
     "execution_count": 6,
     "metadata": {},
     "output_type": "execute_result"
    },
    {
     "data": {
      "image/png": "[encoded data removed]",
      "text/plain": [
       "<Figure size 1440x1008 with 2 Axes>"
      ]
     },
     "metadata": {
      "needs_background": "light"
     },
     "output_type": "display_data"
    }
   ],
   "source": [
    "import missingno as msno\n",
    "msno.matrix(df = train_copy.iloc[:,2:39], figsize = (20, 14), color = (0.42, 0.1, 0.05))"
   ]
  },
  {
   "cell_type": "code",
   "execution_count": 12,
   "id": "italic-career",
   "metadata": {},
   "outputs": [
    {
     "data": {
      "application/vnd.plotly.v1+json": {
       "config": {
        "linkText": "Export to plot.ly",
        "plotlyServerURL": "https://plot.ly",
        "showLink": false
       },
       "data": [
        {
         "text": "Distribution of target variable",
         "type": "bar",
         "x": [
          0,
          1
         ],
         "y": [
          573518,
          21694
         ]
        }
       ],
       "layout": {
        "template": {
         "data": {
          "bar": [
           {
            "error_x": {
             "color": "#2a3f5f"
            },
            "error_y": {
             "color": "#2a3f5f"
            },
            "marker": {
             "line": {
              "color": "#E5ECF6",
              "width": 0.5
             }
            },
            "type": "bar"
           }
          ],
          "barpolar": [
           {
            "marker": {
             "line": {
              "color": "#E5ECF6",
              "width": 0.5
             }
            },
            "type": "barpolar"
           }
          ],
          "carpet": [
           {
            "aaxis": {
             "endlinecolor": "#2a3f5f",
             "gridcolor": "white",
             "linecolor": "white",
             "minorgridcolor": "white",
             "startlinecolor": "#2a3f5f"
            },
            "baxis": {
             "endlinecolor": "#2a3f5f",
             "gridcolor": "white",
             "linecolor": "white",
             "minorgridcolor": "white",
             "startlinecolor": "#2a3f5f"
            },
            "type": "carpet"
           }
          ],
          "choropleth": [
           {
            "colorbar": {
             "outlinewidth": 0,
             "ticks": ""
            },
            "type": "choropleth"
           }
          ],
          "contour": [
           {
            "colorbar": {
             "outlinewidth": 0,
             "ticks": ""
            },
            "colorscale": [
             [
              0,
              "#0d0887"
             ],
             [
              0.1111111111111111,
              "#46039f"
             ],
             [
              0.2222222222222222,
              "#7201a8"
             ],
             [
              0.3333333333333333,
              "#9c179e"
             ],
             [
              0.4444444444444444,
              "#bd3786"
             ],
             [
              0.5555555555555556,
              "#d8576b"
             ],
             [
              0.6666666666666666,
              "#ed7953"
             ],
             [
              0.7777777777777778,
              "#fb9f3a"
             ],
             [
              0.8888888888888888,
              "#fdca26"
             ],
             [
              1,
              "#f0f921"
             ]
            ],
            "type": "contour"
           }
          ],
          "contourcarpet": [
           {
            "colorbar": {
             "outlinewidth": 0,
             "ticks": ""
            },
            "type": "contourcarpet"
           }
          ],
          "heatmap": [
           {
            "colorbar": {
             "outlinewidth": 0,
             "ticks": ""
            },
            "colorscale": [
             [
              0,
              "#0d0887"
             ],
             [
              0.1111111111111111,
              "#46039f"
             ],
             [
              0.2222222222222222,
              "#7201a8"
             ],
             [
              0.3333333333333333,
              "#9c179e"
             ],
             [
              0.4444444444444444,
              "#bd3786"
             ],
             [
              0.5555555555555556,
              "#d8576b"
             ],
             [
              0.6666666666666666,
              "#ed7953"
             ],
             [
              0.7777777777777778,
              "#fb9f3a"
             ],
             [
              0.8888888888888888,
              "#fdca26"
             ],
             [
              1,
              "#f0f921"
             ]
            ],
            "type": "heatmap"
           }
          ],
          "heatmapgl": [
           {
            "colorbar": {
             "outlinewidth": 0,
             "ticks": ""
            },
            "colorscale": [
             [
              0,
              "#0d0887"
             ],
             [
              0.1111111111111111,
              "#46039f"
             ],
             [
              0.2222222222222222,
              "#7201a8"
             ],
             [
              0.3333333333333333,
              "#9c179e"
             ],
             [
              0.4444444444444444,
              "#bd3786"
             ],
             [
              0.5555555555555556,
              "#d8576b"
             ],
             [
              0.6666666666666666,
              "#ed7953"
             ],
             [
              0.7777777777777778,
              "#fb9f3a"
             ],
             [
              0.8888888888888888,
              "#fdca26"
             ],
             [
              1,
              "#f0f921"
             ]
            ],
            "type": "heatmapgl"
           }
          ],
          "histogram": [
           {
            "marker": {
             "colorbar": {
              "outlinewidth": 0,
              "ticks": ""
             }
            },
            "type": "histogram"
           }
          ],
          "histogram2d": [
           {
            "colorbar": {
             "outlinewidth": 0,
             "ticks": ""
            },
            "colorscale": [
             [
              0,
              "#0d0887"
             ],
             [
              0.1111111111111111,
              "#46039f"
             ],
             [
              0.2222222222222222,
              "#7201a8"
             ],
             [
              0.3333333333333333,
              "#9c179e"
             ],
             [
              0.4444444444444444,
              "#bd3786"
             ],
             [
              0.5555555555555556,
              "#d8576b"
             ],
             [
              0.6666666666666666,
              "#ed7953"
             ],
             [
              0.7777777777777778,
              "#fb9f3a"
             ],
             [
              0.8888888888888888,
              "#fdca26"
             ],
             [
              1,
              "#f0f921"
             ]
            ],
            "type": "histogram2d"
           }
          ],
          "histogram2dcontour": [
           {
            "colorbar": {
             "outlinewidth": 0,
             "ticks": ""
            },
            "colorscale": [
             [
              0,
              "#0d0887"
             ],
             [
              0.1111111111111111,
              "#46039f"
             ],
             [
              0.2222222222222222,
              "#7201a8"
             ],
             [
              0.3333333333333333,
              "#9c179e"
             ],
             [
              0.4444444444444444,
              "#bd3786"
             ],
             [
              0.5555555555555556,
              "#d8576b"
             ],
             [
              0.6666666666666666,
              "#ed7953"
             ],
             [
              0.7777777777777778,
              "#fb9f3a"
             ],
             [
              0.8888888888888888,
              "#fdca26"
             ],
             [
              1,
              "#f0f921"
             ]
            ],
            "type": "histogram2dcontour"
           }
          ],
          "mesh3d": [
           {
            "colorbar": {
             "outlinewidth": 0,
             "ticks": ""
            },
            "type": "mesh3d"
           }
          ],
          "parcoords": [
           {
            "line": {
             "colorbar": {
              "outlinewidth": 0,
              "ticks": ""
             }
            },
            "type": "parcoords"
           }
          ],
          "pie": [
           {
            "automargin": true,
            "type": "pie"
           }
          ],
          "scatter": [
           {
            "marker": {
             "colorbar": {
              "outlinewidth": 0,
              "ticks": ""
             }
            },
            "type": "scatter"
           }
          ],
          "scatter3d": [
           {
            "line": {
             "colorbar": {
              "outlinewidth": 0,
              "ticks": ""
             }
            },
            "marker": {
             "colorbar": {
              "outlinewidth": 0,
              "ticks": ""
             }
            },
            "type": "scatter3d"
           }
          ],
          "scattercarpet": [
           {
            "marker": {
             "colorbar": {
              "outlinewidth": 0,
              "ticks": ""
             }
            },
            "type": "scattercarpet"
           }
          ],
          "scattergeo": [
           {
            "marker": {
             "colorbar": {
              "outlinewidth": 0,
              "ticks": ""
             }
            },
            "type": "scattergeo"
           }
          ],
          "scattergl": [
           {
            "marker": {
             "colorbar": {
              "outlinewidth": 0,
              "ticks": ""
             }
            },
            "type": "scattergl"
           }
          ],
          "scattermapbox": [
           {
            "marker": {
             "colorbar": {
              "outlinewidth": 0,
              "ticks": ""
             }
            },
            "type": "scattermapbox"
           }
          ],
          "scatterpolar": [
           {
            "marker": {
             "colorbar": {
              "outlinewidth": 0,
              "ticks": ""
             }
            },
            "type": "scatterpolar"
           }
          ],
          "scatterpolargl": [
           {
            "marker": {
             "colorbar": {
              "outlinewidth": 0,
              "ticks": ""
             }
            },
            "type": "scatterpolargl"
           }
          ],
          "scatterternary": [
           {
            "marker": {
             "colorbar": {
              "outlinewidth": 0,
              "ticks": ""
             }
            },
            "type": "scatterternary"
           }
          ],
          "surface": [
           {
            "colorbar": {
             "outlinewidth": 0,
             "ticks": ""
            },
            "colorscale": [
             [
              0,
              "#0d0887"
             ],
             [
              0.1111111111111111,
              "#46039f"
             ],
             [
              0.2222222222222222,
              "#7201a8"
             ],
             [
              0.3333333333333333,
              "#9c179e"
             ],
             [
              0.4444444444444444,
              "#bd3786"
             ],
             [
              0.5555555555555556,
              "#d8576b"
             ],
             [
              0.6666666666666666,
              "#ed7953"
             ],
             [
              0.7777777777777778,
              "#fb9f3a"
             ],
             [
              0.8888888888888888,
              "#fdca26"
             ],
             [
              1,
              "#f0f921"
             ]
            ],
            "type": "surface"
           }
          ],
          "table": [
           {
            "cells": {
             "fill": {
              "color": "#EBF0F8"
             },
             "line": {
              "color": "white"
             }
            },
            "header": {
             "fill": {
              "color": "#C8D4E3"
             },
             "line": {
              "color": "white"
             }
            },
            "type": "table"
           }
          ]
         },
         "layout": {
          "annotationdefaults": {
           "arrowcolor": "#2a3f5f",
           "arrowhead": 0,
           "arrowwidth": 1
          },
          "autotypenumbers": "strict",
          "coloraxis": {
           "colorbar": {
            "outlinewidth": 0,
            "ticks": ""
           }
          },
          "colorscale": {
           "diverging": [
            [
             0,
             "#8e0152"
            ],
            [
             0.1,
             "#c51b7d"
            ],
            [
             0.2,
             "#de77ae"
            ],
            [
             0.3,
             "#f1b6da"
            ],
            [
             0.4,
             "#fde0ef"
            ],
            [
             0.5,
             "#f7f7f7"
            ],
            [
             0.6,
             "#e6f5d0"
            ],
            [
             0.7,
             "#b8e186"
            ],
            [
             0.8,
             "#7fbc41"
            ],
            [
             0.9,
             "#4d9221"
            ],
            [
             1,
             "#276419"
            ]
           ],
           "sequential": [
            [
             0,
             "#0d0887"
            ],
            [
             0.1111111111111111,
             "#46039f"
            ],
            [
             0.2222222222222222,
             "#7201a8"
            ],
            [
             0.3333333333333333,
             "#9c179e"
            ],
            [
             0.4444444444444444,
             "#bd3786"
            ],
            [
             0.5555555555555556,
             "#d8576b"
            ],
            [
             0.6666666666666666,
             "#ed7953"
            ],
            [
             0.7777777777777778,
             "#fb9f3a"
            ],
            [
             0.8888888888888888,
             "#fdca26"
            ],
            [
             1,
             "#f0f921"
            ]
           ],
           "sequentialminus": [
            [
             0,
             "#0d0887"
            ],
            [
             0.1111111111111111,
             "#46039f"
            ],
            [
             0.2222222222222222,
             "#7201a8"
            ],
            [
             0.3333333333333333,
             "#9c179e"
            ],
            [
             0.4444444444444444,
             "#bd3786"
            ],
            [
             0.5555555555555556,
             "#d8576b"
            ],
            [
             0.6666666666666666,
             "#ed7953"
            ],
            [
             0.7777777777777778,
             "#fb9f3a"
            ],
            [
             0.8888888888888888,
             "#fdca26"
            ],
            [
             1,
             "#f0f921"
            ]
           ]
          },
          "colorway": [
           "#636efa",
           "#EF553B",
           "#00cc96",
           "#ab63fa",
           "#FFA15A",
           "#19d3f3",
           "#FF6692",
           "#B6E880",
           "#FF97FF",
           "#FECB52"
          ],
          "font": {
           "color": "#2a3f5f"
          },
          "geo": {
           "bgcolor": "white",
           "lakecolor": "white",
           "landcolor": "#E5ECF6",
           "showlakes": true,
           "showland": true,
           "subunitcolor": "white"
          },
          "hoverlabel": {
           "align": "left"
          },
          "hovermode": "closest",
          "mapbox": {
           "style": "light"
          },
          "paper_bgcolor": "white",
          "plot_bgcolor": "#E5ECF6",
          "polar": {
           "angularaxis": {
            "gridcolor": "white",
            "linecolor": "white",
            "ticks": ""
           },
           "bgcolor": "#E5ECF6",
           "radialaxis": {
            "gridcolor": "white",
            "linecolor": "white",
            "ticks": ""
           }
          },
          "scene": {
           "xaxis": {
            "backgroundcolor": "#E5ECF6",
            "gridcolor": "white",
            "gridwidth": 2,
            "linecolor": "white",
            "showbackground": true,
            "ticks": "",
            "zerolinecolor": "white"
           },
           "yaxis": {
            "backgroundcolor": "#E5ECF6",
            "gridcolor": "white",
            "gridwidth": 2,
            "linecolor": "white",
            "showbackground": true,
            "ticks": "",
            "zerolinecolor": "white"
           },
           "zaxis": {
            "backgroundcolor": "#E5ECF6",
            "gridcolor": "white",
            "gridwidth": 2,
            "linecolor": "white",
            "showbackground": true,
            "ticks": "",
            "zerolinecolor": "white"
           }
          },
          "shapedefaults": {
           "line": {
            "color": "#2a3f5f"
           }
          },
          "ternary": {
           "aaxis": {
            "gridcolor": "white",
            "linecolor": "white",
            "ticks": ""
           },
           "baxis": {
            "gridcolor": "white",
            "linecolor": "white",
            "ticks": ""
           },
           "bgcolor": "#E5ECF6",
           "caxis": {
            "gridcolor": "white",
            "linecolor": "white",
            "ticks": ""
           }
          },
          "title": {
           "x": 0.05
          },
          "xaxis": {
           "automargin": true,
           "gridcolor": "white",
           "linecolor": "white",
           "ticks": "",
           "title": {
            "standoff": 15
           },
           "zerolinecolor": "white",
           "zerolinewidth": 2
          },
          "yaxis": {
           "automargin": true,
           "gridcolor": "white",
           "linecolor": "white",
           "ticks": "",
           "title": {
            "standoff": 15
           },
           "zerolinecolor": "white",
           "zerolinewidth": 2
          }
         }
        },
        "title": {
         "text": "Target variable distribution"
        }
       }
      },
      "text/html": [
       "<div>                            <div id=\"c353f8d9-96e8-4508-a7a6-a54959c1f9fc\" class=\"plotly-graph-div\" style=\"height:525px; width:100%;\"></div>            <script type=\"text/javascript\">                require([\"plotly\"], function(Plotly) {                    window.PLOTLYENV=window.PLOTLYENV || {};                                    if (document.getElementById(\"c353f8d9-96e8-4508-a7a6-a54959c1f9fc\")) {                    Plotly.newPlot(                        \"c353f8d9-96e8-4508-a7a6-a54959c1f9fc\",                        [{\"text\": \"Distribution of target variable\", \"type\": \"bar\", \"x\": [0, 1], \"y\": [573518, 21694]}],                        {\"template\": {\"data\": {\"bar\": [{\"error_x\": {\"color\": \"#2a3f5f\"}, \"error_y\": {\"color\": \"#2a3f5f\"}, \"marker\": {\"line\": {\"color\": \"#E5ECF6\", \"width\": 0.5}}, \"type\": \"bar\"}], \"barpolar\": [{\"marker\": {\"line\": {\"color\": \"#E5ECF6\", \"width\": 0.5}}, \"type\": \"barpolar\"}], \"carpet\": [{\"aaxis\": {\"endlinecolor\": \"#2a3f5f\", \"gridcolor\": \"white\", \"linecolor\": \"white\", \"minorgridcolor\": \"white\", \"startlinecolor\": \"#2a3f5f\"}, \"baxis\": {\"endlinecolor\": \"#2a3f5f\", \"gridcolor\": \"white\", \"linecolor\": \"white\", \"minorgridcolor\": \"white\", \"startlinecolor\": \"#2a3f5f\"}, \"type\": \"carpet\"}], \"choropleth\": [{\"colorbar\": {\"outlinewidth\": 0, \"ticks\": \"\"}, \"type\": \"choropleth\"}], \"contour\": [{\"colorbar\": {\"outlinewidth\": 0, \"ticks\": \"\"}, \"colorscale\": [[0.0, \"#0d0887\"], [0.1111111111111111, \"#46039f\"], [0.2222222222222222, \"#7201a8\"], [0.3333333333333333, \"#9c179e\"], [0.4444444444444444, \"#bd3786\"], [0.5555555555555556, \"#d8576b\"], [0.6666666666666666, \"#ed7953\"], [0.7777777777777778, \"#fb9f3a\"], [0.8888888888888888, \"#fdca26\"], [1.0, \"#f0f921\"]], \"type\": \"contour\"}], \"contourcarpet\": [{\"colorbar\": {\"outlinewidth\": 0, \"ticks\": \"\"}, \"type\": \"contourcarpet\"}], \"heatmap\": [{\"colorbar\": {\"outlinewidth\": 0, \"ticks\": \"\"}, \"colorscale\": [[0.0, \"#0d0887\"], [0.1111111111111111, \"#46039f\"], [0.2222222222222222, \"#7201a8\"], [0.3333333333333333, \"#9c179e\"], [0.4444444444444444, \"#bd3786\"], [0.5555555555555556, \"#d8576b\"], [0.6666666666666666, \"#ed7953\"], [0.7777777777777778, \"#fb9f3a\"], [0.8888888888888888, \"#fdca26\"], [1.0, \"#f0f921\"]], \"type\": \"heatmap\"}], \"heatmapgl\": [{\"colorbar\": {\"outlinewidth\": 0, \"ticks\": \"\"}, \"colorscale\": [[0.0, \"#0d0887\"], [0.1111111111111111, \"#46039f\"], [0.2222222222222222, \"#7201a8\"], [0.3333333333333333, \"#9c179e\"], [0.4444444444444444, \"#bd3786\"], [0.5555555555555556, \"#d8576b\"], [0.6666666666666666, \"#ed7953\"], [0.7777777777777778, \"#fb9f3a\"], [0.8888888888888888, \"#fdca26\"], [1.0, \"#f0f921\"]], \"type\": \"heatmapgl\"}], \"histogram\": [{\"marker\": {\"colorbar\": {\"outlinewidth\": 0, \"ticks\": \"\"}}, \"type\": \"histogram\"}], \"histogram2d\": [{\"colorbar\": {\"outlinewidth\": 0, \"ticks\": \"\"}, \"colorscale\": [[0.0, \"#0d0887\"], [0.1111111111111111, \"#46039f\"], [0.2222222222222222, \"#7201a8\"], [0.3333333333333333, \"#9c179e\"], [0.4444444444444444, \"#bd3786\"], [0.5555555555555556, \"#d8576b\"], [0.6666666666666666, \"#ed7953\"], [0.7777777777777778, \"#fb9f3a\"], [0.8888888888888888, \"#fdca26\"], [1.0, \"#f0f921\"]], \"type\": \"histogram2d\"}], \"histogram2dcontour\": [{\"colorbar\": {\"outlinewidth\": 0, \"ticks\": \"\"}, \"colorscale\": [[0.0, \"#0d0887\"], [0.1111111111111111, \"#46039f\"], [0.2222222222222222, \"#7201a8\"], [0.3333333333333333, \"#9c179e\"], [0.4444444444444444, \"#bd3786\"], [0.5555555555555556, \"#d8576b\"], [0.6666666666666666, \"#ed7953\"], [0.7777777777777778, \"#fb9f3a\"], [0.8888888888888888, \"#fdca26\"], [1.0, \"#f0f921\"]], \"type\": \"histogram2dcontour\"}], \"mesh3d\": [{\"colorbar\": {\"outlinewidth\": 0, \"ticks\": \"\"}, \"type\": \"mesh3d\"}], \"parcoords\": [{\"line\": {\"colorbar\": {\"outlinewidth\": 0, \"ticks\": \"\"}}, \"type\": \"parcoords\"}], \"pie\": [{\"automargin\": true, \"type\": \"pie\"}], \"scatter\": [{\"marker\": {\"colorbar\": {\"outlinewidth\": 0, \"ticks\": \"\"}}, \"type\": \"scatter\"}], \"scatter3d\": [{\"line\": {\"colorbar\": {\"outlinewidth\": 0, \"ticks\": \"\"}}, \"marker\": {\"colorbar\": {\"outlinewidth\": 0, \"ticks\": \"\"}}, \"type\": \"scatter3d\"}], \"scattercarpet\": [{\"marker\": {\"colorbar\": {\"outlinewidth\": 0, \"ticks\": \"\"}}, \"type\": \"scattercarpet\"}], \"scattergeo\": [{\"marker\": {\"colorbar\": {\"outlinewidth\": 0, \"ticks\": \"\"}}, \"type\": \"scattergeo\"}], \"scattergl\": [{\"marker\": {\"colorbar\": {\"outlinewidth\": 0, \"ticks\": \"\"}}, \"type\": \"scattergl\"}], \"scattermapbox\": [{\"marker\": {\"colorbar\": {\"outlinewidth\": 0, \"ticks\": \"\"}}, \"type\": \"scattermapbox\"}], \"scatterpolar\": [{\"marker\": {\"colorbar\": {\"outlinewidth\": 0, \"ticks\": \"\"}}, \"type\": \"scatterpolar\"}], \"scatterpolargl\": [{\"marker\": {\"colorbar\": {\"outlinewidth\": 0, \"ticks\": \"\"}}, \"type\": \"scatterpolargl\"}], \"scatterternary\": [{\"marker\": {\"colorbar\": {\"outlinewidth\": 0, \"ticks\": \"\"}}, \"type\": \"scatterternary\"}], \"surface\": [{\"colorbar\": {\"outlinewidth\": 0, \"ticks\": \"\"}, \"colorscale\": [[0.0, \"#0d0887\"], [0.1111111111111111, \"#46039f\"], [0.2222222222222222, \"#7201a8\"], [0.3333333333333333, \"#9c179e\"], [0.4444444444444444, \"#bd3786\"], [0.5555555555555556, \"#d8576b\"], [0.6666666666666666, \"#ed7953\"], [0.7777777777777778, \"#fb9f3a\"], [0.8888888888888888, \"#fdca26\"], [1.0, \"#f0f921\"]], \"type\": \"surface\"}], \"table\": [{\"cells\": {\"fill\": {\"color\": \"#EBF0F8\"}, \"line\": {\"color\": \"white\"}}, \"header\": {\"fill\": {\"color\": \"#C8D4E3\"}, \"line\": {\"color\": \"white\"}}, \"type\": \"table\"}]}, \"layout\": {\"annotationdefaults\": {\"arrowcolor\": \"#2a3f5f\", \"arrowhead\": 0, \"arrowwidth\": 1}, \"autotypenumbers\": \"strict\", \"coloraxis\": {\"colorbar\": {\"outlinewidth\": 0, \"ticks\": \"\"}}, \"colorscale\": {\"diverging\": [[0, \"#8e0152\"], [0.1, \"#c51b7d\"], [0.2, \"#de77ae\"], [0.3, \"#f1b6da\"], [0.4, \"#fde0ef\"], [0.5, \"#f7f7f7\"], [0.6, \"#e6f5d0\"], [0.7, \"#b8e186\"], [0.8, \"#7fbc41\"], [0.9, \"#4d9221\"], [1, \"#276419\"]], \"sequential\": [[0.0, \"#0d0887\"], [0.1111111111111111, \"#46039f\"], [0.2222222222222222, \"#7201a8\"], [0.3333333333333333, \"#9c179e\"], [0.4444444444444444, \"#bd3786\"], [0.5555555555555556, \"#d8576b\"], [0.6666666666666666, \"#ed7953\"], [0.7777777777777778, \"#fb9f3a\"], [0.8888888888888888, \"#fdca26\"], [1.0, \"#f0f921\"]], \"sequentialminus\": [[0.0, \"#0d0887\"], [0.1111111111111111, \"#46039f\"], [0.2222222222222222, \"#7201a8\"], [0.3333333333333333, \"#9c179e\"], [0.4444444444444444, \"#bd3786\"], [0.5555555555555556, \"#d8576b\"], [0.6666666666666666, \"#ed7953\"], [0.7777777777777778, \"#fb9f3a\"], [0.8888888888888888, \"#fdca26\"], [1.0, \"#f0f921\"]]}, \"colorway\": [\"#636efa\", \"#EF553B\", \"#00cc96\", \"#ab63fa\", \"#FFA15A\", \"#19d3f3\", \"#FF6692\", \"#B6E880\", \"#FF97FF\", \"#FECB52\"], \"font\": {\"color\": \"#2a3f5f\"}, \"geo\": {\"bgcolor\": \"white\", \"lakecolor\": \"white\", \"landcolor\": \"#E5ECF6\", \"showlakes\": true, \"showland\": true, \"subunitcolor\": \"white\"}, \"hoverlabel\": {\"align\": \"left\"}, \"hovermode\": \"closest\", \"mapbox\": {\"style\": \"light\"}, \"paper_bgcolor\": \"white\", \"plot_bgcolor\": \"#E5ECF6\", \"polar\": {\"angularaxis\": {\"gridcolor\": \"white\", \"linecolor\": \"white\", \"ticks\": \"\"}, \"bgcolor\": \"#E5ECF6\", \"radialaxis\": {\"gridcolor\": \"white\", \"linecolor\": \"white\", \"ticks\": \"\"}}, \"scene\": {\"xaxis\": {\"backgroundcolor\": \"#E5ECF6\", \"gridcolor\": \"white\", \"gridwidth\": 2, \"linecolor\": \"white\", \"showbackground\": true, \"ticks\": \"\", \"zerolinecolor\": \"white\"}, \"yaxis\": {\"backgroundcolor\": \"#E5ECF6\", \"gridcolor\": \"white\", \"gridwidth\": 2, \"linecolor\": \"white\", \"showbackground\": true, \"ticks\": \"\", \"zerolinecolor\": \"white\"}, \"zaxis\": {\"backgroundcolor\": \"#E5ECF6\", \"gridcolor\": \"white\", \"gridwidth\": 2, \"linecolor\": \"white\", \"showbackground\": true, \"ticks\": \"\", \"zerolinecolor\": \"white\"}}, \"shapedefaults\": {\"line\": {\"color\": \"#2a3f5f\"}}, \"ternary\": {\"aaxis\": {\"gridcolor\": \"white\", \"linecolor\": \"white\", \"ticks\": \"\"}, \"baxis\": {\"gridcolor\": \"white\", \"linecolor\": \"white\", \"ticks\": \"\"}, \"bgcolor\": \"#E5ECF6\", \"caxis\": {\"gridcolor\": \"white\", \"linecolor\": \"white\", \"ticks\": \"\"}}, \"title\": {\"x\": 0.05}, \"xaxis\": {\"automargin\": true, \"gridcolor\": \"white\", \"linecolor\": \"white\", \"ticks\": \"\", \"title\": {\"standoff\": 15}, \"zerolinecolor\": \"white\", \"zerolinewidth\": 2}, \"yaxis\": {\"automargin\": true, \"gridcolor\": \"white\", \"linecolor\": \"white\", \"ticks\": \"\", \"title\": {\"standoff\": 15}, \"zerolinecolor\": \"white\", \"zerolinewidth\": 2}}}, \"title\": {\"text\": \"Target variable distribution\"}},                        {\"responsive\": true}                    ).then(function(){\n",
       "                            \n",
       "var gd = document.getElementById('c353f8d9-96e8-4508-a7a6-a54959c1f9fc');\n",
       "var x = new MutationObserver(function (mutations, observer) {{\n",
       "        var display = window.getComputedStyle(gd).display;\n",
       "        if (!display || display === 'none') {{\n",
       "            console.log([gd, 'removed!']);\n",
       "            Plotly.purge(gd);\n",
       "            observer.disconnect();\n",
       "        }}\n",
       "}});\n",
       "\n",
       "// Listen for the removal of the full notebook cells\n",
       "var notebookContainer = gd.closest('#notebook-container');\n",
       "if (notebookContainer) {{\n",
       "    x.observe(notebookContainer, {childList: true});\n",
       "}}\n",
       "\n",
       "// Listen for the clearing of the current output cell\n",
       "var outputEl = gd.closest('.output');\n",
       "if (outputEl) {{\n",
       "    x.observe(outputEl, {childList: true});\n",
       "}}\n",
       "\n",
       "                        })                };                });            </script>        </div>"
      ]
     },
     "metadata": {},
     "output_type": "display_data"
    }
   ],
   "source": [
    "data = [go.Bar(\n",
    "            x = train['target'].value_counts().index.values,\n",
    "            y = train['target'].value_counts().values,\n",
    "            text = 'Distribution of target variable'\n",
    "    )]\n",
    "\n",
    "layout = go.Layout(\n",
    "    title = 'Target variable distribution'\n",
    ")\n",
    "\n",
    "fig = go.Figure(data = data, layout = layout)\n",
    "\n",
    "py.iplot(fig, filename = 'basic - bar')"
   ]
  },
  {
   "cell_type": "code",
   "execution_count": 13,
   "id": "upset-crisis",
   "metadata": {},
   "outputs": [
    {
     "data": {
      "text/plain": [
       "Counter({dtype('int64'): 49, dtype('float64'): 10})"
      ]
     },
     "execution_count": 13,
     "metadata": {},
     "output_type": "execute_result"
    }
   ],
   "source": [
    "Counter(train.dtypes.values)"
   ]
  },
  {
   "cell_type": "code",
   "execution_count": 14,
   "id": "distinguished-processing",
   "metadata": {},
   "outputs": [],
   "source": [
    "train_float = train.select_dtypes(include = ['float64'])\n",
    "train_int = train.select_dtypes(include = ['int64'])"
   ]
  },
  {
   "cell_type": "code",
   "execution_count": 15,
   "id": "warming-shaft",
   "metadata": {},
   "outputs": [
    {
     "data": {
      "text/plain": [
       "<AxesSubplot:title={'center':'Pearson correlation of continuous features'}>"
      ]
     },
     "execution_count": 15,
     "metadata": {},
     "output_type": "execute_result"
    },
    {
     "data": {
      "image/png": "[encoded data removed]",
      "text/plain": [
       "<Figure size 1152x864 with 2 Axes>"
      ]
     },
     "metadata": {
      "needs_background": "light"
     },
     "output_type": "display_data"
    }
   ],
   "source": [
    "colormap = plt.cm.magma\n",
    "plt.figure(figsize = (16, 12))\n",
    "plt.title('Pearson correlation of continuous features', y = 1.05, size = 15)\n",
    "sns.heatmap(train_float.corr(), linewidths = 0.1, vmax = 1.0, square = True, cmap = colormap, linecolor = 'white', annot = True)"
   ]
  },
  {
   "cell_type": "code",
   "execution_count": 21,
   "id": "amended-great",
   "metadata": {},
   "outputs": [
    {
     "data": {
      "application/vnd.plotly.v1+json": {
       "config": {
        "linkText": "Export to plot.ly",
        "plotlyServerURL": "https://plot.ly",
        "showLink": false
       },
       "data": [
        {
         "colorscale": [
          [
           0,
           "#440154"
          ],
          [
           0.1111111111111111,
           "#482878"
          ],
          [
           0.2222222222222222,
           "#3e4989"
          ],
          [
           0.3333333333333333,
           "#31688e"
          ],
          [
           0.4444444444444444,
           "#26828e"
          ],
          [
           0.5555555555555556,
           "#1f9e89"
          ],
          [
           0.6666666666666666,
           "#35b779"
          ],
          [
           0.7777777777777778,
           "#6ece58"
          ],
          [
           0.8888888888888888,
           "#b5de2b"
          ],
          [
           1,
           "#fde725"
          ]
         ],
         "opacity": 1,
         "reversescale": false,
         "type": "heatmap",
         "x": [
          "id",
          "target",
          "ps_ind_01",
          "ps_ind_02_cat",
          "ps_ind_03",
          "ps_ind_04_cat",
          "ps_ind_05_cat",
          "ps_ind_06_bin",
          "ps_ind_07_bin",
          "ps_ind_08_bin",
          "ps_ind_09_bin",
          "ps_ind_10_bin",
          "ps_ind_11_bin",
          "ps_ind_12_bin",
          "ps_ind_13_bin",
          "ps_ind_14",
          "ps_ind_15",
          "ps_ind_16_bin",
          "ps_ind_17_bin",
          "ps_ind_18_bin",
          "ps_car_01_cat",
          "ps_car_02_cat",
          "ps_car_03_cat",
          "ps_car_04_cat",
          "ps_car_05_cat",
          "ps_car_06_cat",
          "ps_car_07_cat",
          "ps_car_08_cat",
          "ps_car_09_cat",
          "ps_car_10_cat",
          "ps_car_11_cat",
          "ps_car_11",
          "ps_calc_04",
          "ps_calc_05",
          "ps_calc_06",
          "ps_calc_07",
          "ps_calc_08",
          "ps_calc_09",
          "ps_calc_10",
          "ps_calc_11",
          "ps_calc_12",
          "ps_calc_13",
          "ps_calc_14",
          "ps_calc_15_bin",
          "ps_calc_16_bin",
          "ps_calc_17_bin",
          "ps_calc_18_bin",
          "ps_calc_19_bin",
          "ps_calc_20_bin"
         ],
         "y": [
          "id",
          "target",
          "ps_ind_01",
          "ps_ind_02_cat",
          "ps_ind_03",
          "ps_ind_04_cat",
          "ps_ind_05_cat",
          "ps_ind_06_bin",
          "ps_ind_07_bin",
          "ps_ind_08_bin",
          "ps_ind_09_bin",
          "ps_ind_10_bin",
          "ps_ind_11_bin",
          "ps_ind_12_bin",
          "ps_ind_13_bin",
          "ps_ind_14",
          "ps_ind_15",
          "ps_ind_16_bin",
          "ps_ind_17_bin",
          "ps_ind_18_bin",
          "ps_car_01_cat",
          "ps_car_02_cat",
          "ps_car_03_cat",
          "ps_car_04_cat",
          "ps_car_05_cat",
          "ps_car_06_cat",
          "ps_car_07_cat",
          "ps_car_08_cat",
          "ps_car_09_cat",
          "ps_car_10_cat",
          "ps_car_11_cat",
          "ps_car_11",
          "ps_calc_04",
          "ps_calc_05",
          "ps_calc_06",
          "ps_calc_07",
          "ps_calc_08",
          "ps_calc_09",
          "ps_calc_10",
          "ps_calc_11",
          "ps_calc_12",
          "ps_calc_13",
          "ps_calc_14",
          "ps_calc_15_bin",
          "ps_calc_16_bin",
          "ps_calc_17_bin",
          "ps_calc_18_bin",
          "ps_calc_19_bin",
          "ps_calc_20_bin"
         ],
         "z": [
          [
           1,
           -0.0001884755338288617,
           0.0008258854725725193,
           0.0016461276514639531,
           -0.0013074125556911606,
           0.00016792048870333093,
           2.1710319687882825e-05,
           -9.329673377344849e-05,
           0.0024732074670059754,
           -0.00047893199093797294,
           -0.002207988997674901,
           -0.0012612850576084315,
           -0.0012098044261431328,
           -0.00017701120228207589,
           -0.0017178219451470902,
           -0.0011293527970858794,
           -0.001934992325309598,
           -0.0005004384418482244,
           0.0013438936799832733,
           0.0008157280242293081,
           -0.0010523840432399496,
           -0.0004033449463715611,
           0.0003544609372827726,
           0.0023098896739933137,
           -0.0008497364319568806,
           -0.0010096893760928646,
           -0.0029555818094072015,
           0.0007475961383355612,
           0.0004940853380072005,
           -0.0009282837448050599,
           0.0020474413080606444,
           0.0026413932462155797,
           0.0036383179612103017,
           -0.0005915908500661377,
           0.0009574769937878764,
           0.0007882447910808956,
           0.0008356128476278207,
           0.0005176341988577643,
           0.0009805335540469448,
           -0.0012488250195915361,
           -0.0010934546530963374,
           -0.00015701023640565565,
           0.001609423824807779,
           -0.0012272973917304445,
           -0.0014120059005200628,
           -0.001266582915695949,
           -0.001387012489514096,
           0.00019422494950414269,
           -0.0012665168671921183
          ],
          [
           -0.0001884755338288617,
           1,
           0.018570258657506535,
           0.00453383136849816,
           0.008359590302657097,
           0.009360445255589966,
           0.029164946850886355,
           -0.03401686970378876,
           0.03421807451412262,
           0.01314697843872615,
           -0.00823681598558299,
           0.0018147796965898109,
           0.0020281711723569625,
           0.007810308443393542,
           0.00246029083193403,
           0.007442830964742972,
           -0.021506221687934316,
           -0.027778075788542734,
           0.037052606335855005,
           0.004555455715152848,
           0.016255693742637686,
           -0.03153359612457287,
           0.032400970694275104,
           0.032899874940120546,
           0.020754434132826776,
           0.011536659955726385,
           -0.03639522258780317,
           -0.020341933485980065,
           0.005322494909291872,
           0.0010382993212007298,
           0.006128798326757138,
           -0.0012133568962176696,
           3.2720455100222405e-05,
           0.0007708801365326378,
           8.182225978075785e-05,
           -0.00010347690485278524,
           -0.0010058548384191393,
           0.0007189675843641542,
           0.0010608340444789083,
           0.00037143739489093637,
           -0.0011325853981362505,
           -0.0004464645318087174,
           0.0013622753431191557,
           -0.0004904242506719329,
           0.0006238280115020942,
           -0.00017012817365768916,
           0.0005524351996118682,
           -0.0017438319546571681,
           -0.0010722284275397982
          ],
          [
           0.0008258854725725193,
           0.018570258657506535,
           1,
           -0.0017931329140775944,
           0.22340759382986847,
           0.06664546508353122,
           0.014822561201261034,
           -0.27745768415808075,
           0.00569969365795639,
           0.18858311700154065,
           0.16279998618735886,
           0.0018472289098374266,
           -0.01672658784345133,
           -0.023405980337517524,
           -0.008775500240628932,
           -0.024971197063820172,
           0.12213672531018317,
           0.03689566374827914,
           0.1012570941332376,
           -0.11222626697683716,
           -0.05612096023073561,
           -0.1169866467920175,
           0.04375596050029653,
           0.0790415505477597,
           0.21300928032912675,
           0.07019202187337271,
           -0.0006393452905868237,
           0.13811162890080816,
           -0.1025823298042105,
           0.010793696829651062,
           0.008187861301734246,
           0.00825152755479824,
           -0.0009430787753138474,
           -0.0011711899555747148,
           0.0001468321352008793,
           -0.0006583998180255231,
           0.002992806788917109,
           -8.533923304090555e-05,
           -0.0013449818796920148,
           -0.0012629092646128783,
           0.0015206567146658348,
           0.00019895341092257275,
           -0.0008910685014910404,
           -0.000396790212426193,
           -1.1545248111385099e-05,
           -0.0008675973201928163,
           -0.0015035875469012964,
           -0.00016221628124592368,
           -0.0014640083176233343
          ],
          [
           0.0016461276514639531,
           0.00453383136849816,
           -0.0017931329140775944,
           1,
           -0.06118914649577105,
           0.14710969879178076,
           -0.014859825528708296,
           -0.12565283345802725,
           0.016398444130573675,
           0.030944960292278265,
           0.1100758227176296,
           -0.0007443279033836952,
           0.0007716519259243583,
           -0.004615510735839973,
           -0.0011867308079089051,
           -0.0036493908922690084,
           -0.0038542040298691796,
           0.012682148590420253,
           -0.018727145555724953,
           -0.0003739401590444408,
           0.00214850245374989,
           0.04523308396698348,
           -0.0025317202816092376,
           -0.07218977632989523,
           -0.008406520927741008,
           -0.01730091230637514,
           -0.011780550385044154,
           0.0015257604786327662,
           0.009434534021788725,
           0.011401456422615553,
           0.014955195806606505,
           0.019948833190253253,
           -0.0021110487327914455,
           -0.0015478301217311035,
           8.548689230280353e-05,
           -0.00017173251468899272,
           -0.0027117639544354424,
           0.00035567580972401837,
           -2.5425203495046437e-05,
           3.793867444663322e-05,
           -0.0008836458794260957,
           -0.0008928474834448281,
           -0.0005185257387862071,
           -0.0001091639435274442,
           0.0009195635201452163,
           0.0005472321892405295,
           0.0008240709263778052,
           0.0003668294896141741,
           -0.0020700765230598026
          ],
          [
           -0.0013074125556911606,
           0.008359590302657097,
           0.22340759382986847,
           -0.06118914649577105,
           1,
           -0.09585556869304393,
           0.05325005441445909,
           -0.04515789199467836,
           -0.060367903957314756,
           0.014036610712041087,
           0.11130640018521898,
           0.006865123190642358,
           -0.003986479232333661,
           0.001697689177732781,
           0.003928626513903295,
           0.0019895460604955257,
           0.17044861491667543,
           -0.018251258015265386,
           0.027691181225138046,
           0.0013157749639168585,
           -0.028519891228702923,
           -0.04490674148712065,
           0.09565776668522333,
           0.07298961054229085,
           0.14359654865840238,
           0.008021293226146316,
           0.056336933251669705,
           0.003607155114376228,
           -0.013205469282503664,
           -0.008560954021639582,
           -0.025965901728807413,
           -0.059357784611531364,
           0.0007029223319983066,
           -0.001244839816125983,
           0.0023614979575574675,
           0.0015325306198597161,
           0.001266664959910297,
           -0.0015441777405826916,
           0.000230287338373583,
           -0.0027155418811399185,
           -0.002352333366999052,
           0.00013288787890949408,
           0.00020474960687078366,
           0.0001344327694191131,
           -0.0007442327813944093,
           0.000157731563274207,
           -0.0002179273213074755,
           -0.0008816797556198087,
           -0.003709408579276534
          ],
          [
           0.00016792048870333093,
           0.009360445255589966,
           0.06664546508353122,
           0.14710969879178076,
           -0.09585556869304393,
           1,
           0.013052691401692348,
           -0.2977366046477001,
           0.3049493783334564,
           0.04497847332634309,
           -0.01144165781525834,
           0.0007887076973389001,
           0.0010183114528574887,
           -0.0012169376250814334,
           -0.0008934939930098885,
           -0.0006905936003553212,
           0.07707144391312327,
           0.01749705676812147,
           0.007830396023881593,
           -0.025797485873876425,
           0.02937937195109524,
           0.003162109877964889,
           0.022744376399026083,
           -0.04536129801832949,
           0.06339932427116321,
           0.025323615320999925,
           0.06465523285480476,
           -0.00814754846801753,
           -0.04198301253597798,
           0.02301043283394903,
           -0.0006146254081094967,
           0.07348633332430111,
           0.0008255181087075699,
           0.0010277988730797306,
           0.0026258399586142943,
           -0.00015073832344163923,
           -0.0027755450296133074,
           0.00048656988775536863,
           0.00012727421795224745,
           -0.0020008312385538024,
           -0.0008139493139821727,
           0.0002834052581409762,
           0.0015645496382111165,
           0.0027346762054245234,
           0.002295346203964965,
           0.0007734421027413762,
           0.0009158792230724631,
           -0.0019656334704160304,
           0.001243938381928246
          ],
          [
           2.1710319687882825e-05,
           0.029164946850886355,
           0.014822561201261034,
           -0.014859825528708296,
           0.05325005441445909,
           0.013052691401692348,
           1,
           0.009618800838443482,
           -0.010382188667300002,
           0.004880747623598223,
           -0.005068731202141701,
           0.001742475414532642,
           -0.0006363666372238363,
           -0.001831240440546116,
           0.0013128732605405674,
           -0.0010128313488101447,
           0.012326335746025272,
           0.0043148996980541775,
           0.007162777067762242,
           -0.008252314414916537,
           -0.036212853041022904,
           0.012878919847941928,
           -0.011398778782571815,
           -0.01087319521611484,
           -0.006561608550007696,
           -0.0072299632053995895,
           0.05377652521320651,
           -0.002083953743338254,
           -0.008333774284921073,
           0.002168074446652444,
           -0.002249565476062125,
           0.00107554475707992,
           0.0012916973382756894,
           -0.0006420444921112528,
           -0.00024941758434445855,
           -0.0019023900274815755,
           -0.0001449036161313121,
           -0.0008217959389452798,
           -0.0010698729509168899,
           -0.0015247002980472058,
           0.0009753755080751557,
           0.001549156967187013,
           0.002170835213002712,
           0.0015480474512491566,
           -0.0003682362393573745,
           0.00015309117899007583,
           3.168678414855202e-05,
           0.0002764781762418728,
           0.00027869054705161115
          ],
          [
           -9.329673377344849e-05,
           -0.03401686970378876,
           -0.27745768415808075,
           -0.12565283345802725,
           -0.04515789199467836,
           -0.2977366046477001,
           0.009618800838443482,
           1,
           -0.47400904185590065,
           -0.35683833274578663,
           -0.3843451401407788,
           -0.008977535013244928,
           -0.005229382248971487,
           -0.017498505238443797,
           -0.008390064166738214,
           -0.018333861999931117,
           0.016406205154351216,
           0.02835208353213777,
           -0.03712107367499544,
           -0.011750963576176823,
           -0.07554574375145577,
           0.13638274599348738,
           -0.07572310218075869,
           -0.18701667626422974,
           -0.16489012332440905,
           -0.059887308797517635,
           0.03899368073100131,
           0.03831307031695165,
           0.09918393763824071,
           -0.04105681120507276,
           -0.031296227706447,
           0.019617618116459623,
           -0.0004089715175719974,
           -0.0005006935696663839,
           -0.0014131826801772216,
           -0.0015526558607739192,
           -0.0011636516201258254,
           -0.001955110116004253,
           -0.0011970978269563854,
           0.000822002616531646,
           0.0013465275777943119,
           -0.0013011186998591806,
           0.00030393290259254327,
           0.002087860311907922,
           -0.0003814511646830381,
           -1.2555595091234793e-06,
           -0.0007593038072496054,
           0.0027907331412144387,
           0.00020310560100537925
          ],
          [
           0.0024732074670059754,
           0.03421807451412262,
           0.00569969365795639,
           0.016398444130573675,
           -0.060367903957314756,
           0.3049493783334564,
           -0.010382188667300002,
           -0.47400904185590065,
           1,
           -0.2604376422119483,
           -0.28051342276950764,
           0.010739652662842743,
           0.010118980387019564,
           0.03661915640731901,
           0.012124758822770546,
           0.03557264161494319,
           -0.12072867940687827,
           -0.07232059014992281,
           0.02077615194714269,
           0.07656187216203816,
           0.06206386799788505,
           -0.1626010123600336,
           0.09648343943349459,
           0.19970161209131007,
           0.09210731694598842,
           0.021012550690521433,
           -0.06470797501921204,
           -0.12382519653908655,
           -0.0592293173221672,
           0.03055616289712624,
           0.047940110791918684,
           0.06745692509835807,
           0.0004704805518061534,
           -0.00020263779193792028,
           0.002257467971971457,
           -0.0007715341800744943,
           -0.001416721144687028,
           0.0031034025355962443,
           0.0027643720885982604,
           -0.0004476413449922488,
           -0.0010438535583305107,
           0.0005412369024749237,
           0.0016655249364763605,
           0.0005749746503449937,
           0.0012197619159721711,
           -0.0005167363145836902,
           0.00018148010907771236,
           -0.0013611791678382662,
           -0.0009608000950925157
          ],
          [
           -0.00047893199093797294,
           0.01314697843872615,
           0.18858311700154065,
           0.030944960292278265,
           0.014036610712041087,
           0.04497847332634309,
           0.004880747623598223,
           -0.35683833274578663,
           -0.2604376422119483,
           1,
           -0.21117306476257283,
           0.00648910678812291,
           0.01004126116128275,
           0.012254073500153414,
           0.00789832266424952,
           0.015413123032177485,
           0.05277557417447597,
           0.005854905555369783,
           0.03603562289265076,
           -0.033272544654311044,
           0.0009741110543532989,
           -0.02998861680480674,
           0.038462429631775534,
           0.08495716267080043,
           0.06388874607199731,
           0.0633731246240447,
           -0.010976242373907905,
           0.0427922674881171,
           -0.01092006270648234,
           0.025327537974384917,
           0.04137147693429582,
           -0.08219336872997224,
           -0.000886292161431818,
           0.0006032890364046535,
           0.0012489817846111845,
           0.0015137952726527234,
           0.0008268945510473188,
           -0.0011713719830285256,
           -0.0010929434068361558,
           -0.0006318117597186088,
           -0.0012414424693482822,
           -0.0004320285599226011,
           -0.001959159535716181,
           -0.0027823010069026946,
           -0.002047724572754881,
           -0.0005794594623613974,
           -6.765604151575159e-05,
           -0.0009190393767006633,
           0.0009953591808107968
          ],
          [
           -0.002207988997674901,
           -0.00823681598558299,
           0.16279998618735886,
           0.1100758227176296,
           0.11130640018521898,
           -0.01144165781525834,
           -0.005068731202141701,
           -0.3843451401407788,
           -0.28051342276950764,
           -0.21117306476257283,
           1,
           -0.006972868230142464,
           -0.014372442368659335,
           -0.03085777558224147,
           -0.01061212790836212,
           -0.03164026527129085,
           0.0648696072412233,
           0.04010922430466359,
           -0.011023469836738858,
           -0.039631180000228874,
           0.024264102635430683,
           0.03995547974899175,
           -0.04994363372858587,
           -0.07038654070759681,
           0.042876133486040684,
           -0.008708840542970362,
           0.0342025767359246,
           0.05031732944387525,
           -0.04769976109596489,
           -0.0068714152391403166,
           -0.05398346478905472,
           -0.022223839633944514,
           0.0008295720883777965,
           0.00028269745744931654,
           -0.0019519948882590844,
           0.001377811100217233,
           0.0022687777239878753,
           8.41415927831592e-05,
           -0.0005624466536854737,
           7.181830788419638e-05,
           0.0006636678133101164,
           0.0014390105937547816,
           -0.0003887243838992524,
           -0.000621106833525824,
           0.0010588568857560125,
           0.0011348640561092116,
           0.0008151460825754955,
           -0.0011026523735666283,
           -0.00012315711435225912
          ],
          [
           -0.0012612850576084315,
           0.0018147796965898109,
           0.0018472289098374266,
           -0.0007443279033836952,
           0.006865123190642358,
           0.0007887076973389001,
           0.001742475414532642,
           -0.008977535013244928,
           0.010739652662842743,
           0.00648910678812291,
           -0.006972868230142464,
           1,
           0.06483734787255138,
           0.09799846252846069,
           0.08141549712952234,
           0.26621523092448607,
           -0.022122320890722195,
           -0.02402137565373142,
           0.005366401619387072,
           0.027264135678883677,
           0.007989028500674941,
           -0.015804418556358685,
           0.024833271794445742,
           0.016566215782234283,
           0.015251836567305199,
           0.004487183793875703,
           -0.017804258593691946,
           -0.00365962070244524,
           0.00826644095651261,
           0.0007083813828402774,
           0.005909491658796863,
           0.0025262371890389795,
           3.1000198017766065e-05,
           0.0013288695124036788,
           -0.002677298661139917,
           0.0012737060249414815,
           0.0014216349339402805,
           0.002842382982119299,
           -0.00036716982018740517,
           -0.0023492443946824377,
           0.0013666102034255417,
           0.001968875596117635,
           0.00023239812553012024,
           -0.0032329018832703716,
           0.0010115230415514774,
           0.00034511455870640405,
           0.00023955239726456678,
           0.0015546541592544052,
           -0.003389818864850354
          ],
          [
           -0.0012098044261431328,
           0.0020281711723569625,
           -0.01672658784345133,
           0.0007716519259243583,
           -0.003986479232333661,
           0.0010183114528574887,
           -0.0006363666372238363,
           -0.005229382248971487,
           0.010118980387019564,
           0.01004126116128275,
           -0.014372442368659335,
           0.06483734787255138,
           1,
           0.25007638185970965,
           0.1794321903326253,
           0.5649029739333457,
           -0.061251275473340375,
           -0.0540074226643599,
           0.0035177531682558942,
           0.06901728994326506,
           0.0042048920721662105,
           -0.002474353574915442,
           0.04610459759768675,
           0.0085945059625506,
           0.030782623751734642,
           0.0022573006998290747,
           -0.016299801093019185,
           -0.0044735785340234025,
           0.021168527983197474,
           -0.0018207469445127144,
           0.005671365912101772,
           0.001154208305592368,
           -0.0011960063936610893,
           -0.00011120385630559379,
           0.0009108295017515643,
           -0.0017878545885293084,
           0.0009946385801930036,
           0.0006751295016578906,
           0.0010608594409770634,
           0.00018449154616455044,
           -0.0006120933976261155,
           0.00030406758932433335,
           -0.0007858590549898202,
           -0.0006590162500354598,
           0.0014178496831878235,
           0.0010641208942453434,
           -0.0011015992238865807,
           -0.001240728524270899,
           0.0004094125500090158
          ],
          [
           -0.00017701120228207589,
           0.007810308443393542,
           -0.023405980337517524,
           -0.004615510735839973,
           0.001697689177732781,
           -0.0012169376250814334,
           -0.001831240440546116,
           -0.017498505238443797,
           0.03661915640731901,
           0.012254073500153414,
           -0.03085777558224147,
           0.09799846252846069,
           0.25007638185970965,
           1,
           0.15172760153857986,
           0.8901272526545638,
           -0.11699521962411863,
           -0.09944135106476579,
           0.02518058116953121,
           0.10928667412377306,
           0.016351323808765986,
           -0.01722907241506039,
           0.12076679710050318,
           0.027940354431978034,
           0.07047807765090647,
           0.004409331864014702,
           -0.03441622646998587,
           -0.013323354070164575,
           0.044120564246909987,
           -0.00508592585113693,
           0.011473568431545473,
           0.004440512322791722,
           -0.0010630051163157137,
           0.00018512789954192084,
           0.0005169369254961482,
           0.0017231519792362958,
           0.0037837821118346824,
           -0.0020161776675533686,
           0.0019267518147431442,
           0.00012896012169149823,
           0.0008132382695526005,
           0.0005585972004819212,
           -0.0005013388256770008,
           -0.0016324069179149605,
           0.0017539182011456023,
           0.0013843957989970695,
           -0.0013589599814288781,
           -0.001779382287807932,
           0.0031663201946022547
          ],
          [
           -0.0017178219451470902,
           0.00246029083193403,
           -0.008775500240628932,
           -0.0011867308079089051,
           0.003928626513903295,
           -0.0008934939930098885,
           0.0013128732605405674,
           -0.008390064166738214,
           0.012124758822770546,
           0.00789832266424952,
           -0.01061212790836212,
           0.08141549712952234,
           0.1794321903326253,
           0.15172760153857986,
           1,
           0.4263998836255218,
           -0.040485851127797366,
           -0.04068044208739153,
           0.0041361256641475955,
           0.050823104091766845,
           0.005814603173879321,
           -0.008441249275001582,
           0.0377182760422602,
           0.014655985827389813,
           0.02347110679423096,
           0.0016058356563030697,
           -0.015614273025673404,
           -0.005009607474508767,
           0.014756941996862139,
           0.00025957963229845135,
           0.004531083396472349,
           0.0012340690299426076,
           0.00034928436518941267,
           -0.0004156835108901136,
           -0.0021626888021852183,
           0.0004136479843598627,
           0.002790331203399629,
           -0.002330326502165297,
           0.0009485297239872661,
           -0.00018583926200945724,
           -0.0014181281398898933,
           -0.002125385276738932,
           0.0008745250585350082,
           0.0004916403631589377,
           0.0015699943019599183,
           -0.0029176616014177973,
           -0.00011712544370351973,
           0.002079286759967088,
           -0.0009808134646700517
          ],
          [
           -0.0011293527970858794,
           0.007442830964742972,
           -0.024971197063820172,
           -0.0036493908922690084,
           0.0019895460604955257,
           -0.0006905936003553212,
           -0.0010128313488101447,
           -0.018333861999931117,
           0.03557264161494319,
           0.015413123032177485,
           -0.03164026527129085,
           0.26621523092448607,
           0.5649029739333457,
           0.8901272526545638,
           0.4263998836255218,
           1,
           -0.12154712140311677,
           -0.106239689861127,
           0.02203333701058792,
           0.12147762405541038,
           0.016363129867995888,
           -0.01828775355074768,
           0.11926866345761901,
           0.029994631058182668,
           0.07131983388437584,
           0.005136795765281479,
           -0.03780543277647762,
           -0.013304549300039097,
           0.04508043877617706,
           -0.004272510572028673,
           0.012513326139616473,
           0.004418449708877969,
           -0.0011022975070719497,
           0.00020541688400003567,
           -0.0002416453387590575,
           0.0010228747040333251,
           0.004077353989613895,
           -0.0014427896242199597,
           0.001975748285363052,
           -0.0002432697006175229,
           0.0002840910135919725,
           0.00030681115008979426,
           -0.0003871413338074719,
           -0.001820720685571289,
           0.002318386702039322,
           0.0007408167748215124,
           -0.0013771848219666489,
           -0.0010118034751282255,
           0.0017825538619420395
          ],
          [
           -0.001934992325309598,
           -0.021506221687934316,
           0.12213672531018317,
           -0.0038542040298691796,
           0.17044861491667543,
           0.07707144391312327,
           0.012326335746025272,
           0.016406205154351216,
           -0.12072867940687827,
           0.05277557417447597,
           0.0648696072412233,
           -0.022122320890722195,
           -0.061251275473340375,
           -0.11699521962411863,
           -0.040485851127797366,
           -0.12154712140311677,
           1,
           0.3124495031022657,
           -0.02188413031183136,
           -0.4516894099742072,
           0.02569045128606022,
           0.00899010637483375,
           0.06539839780086634,
           -0.047147427101064614,
           0.05151699052704684,
           0.0008576242267399711,
           0.05970332843157361,
           0.016783815050164748,
           0.03787983280939092,
           0.016128999534946106,
           -0.014094740994885382,
           0.02299969506196376,
           0.001583612723436242,
           0.0008742837980309493,
           3.349415158363572e-05,
           0.0017213970445803973,
           -0.0013086573803491668,
           -0.0009849673818418103,
           -0.0012787059555369506,
           -0.0019515651504138044,
           -0.0012626527588530665,
           -0.000921686741159908,
           0.0013483433788114031,
           0.0007020649300867855,
           -0.001915365956106812,
           0.0011762611405260832,
           -0.0013255253293403624,
           0.0017437917830255083,
           -0.0020395145220801205
          ],
          [
           -0.0005004384418482244,
           -0.027778075788542734,
           0.03689566374827914,
           0.012682148590420253,
           -0.018251258015265386,
           0.01749705676812147,
           0.0043148996980541775,
           0.02835208353213777,
           -0.07232059014992281,
           0.005854905555369783,
           0.04010922430466359,
           -0.02402137565373142,
           -0.0540074226643599,
           -0.09944135106476579,
           -0.04068044208739153,
           -0.106239689861127,
           0.3124495031022657,
           1,
           -0.5180763597376604,
           -0.5942654327422761,
           0.00044932875105786117,
           0.030264159750243883,
           -0.04949269493946449,
           -0.04443245801607432,
           -0.058248842391420516,
           -0.016400415460856074,
           0.04383000428941703,
           0.03026590825430404,
           0.015873261962410123,
           0.006596901955516886,
           -0.009989048367143528,
           0.021089277139603096,
           -0.00015427566393725136,
           0.0013615649246193945,
           -0.0003549050683784064,
           0.0010701810792920843,
           -0.0019205651214934604,
           -0.0004273838950783198,
           -0.0009309516956551648,
           -0.0005474330902515618,
           0.00047885679021953564,
           -0.0012057081347718506,
           -0.00016701443375198525,
           0.000928933859436279,
           -0.0004946092252123201,
           -0.000432323026064183,
           9.26933091093104e-05,
           0.0003020462737220039,
           0.001519207560397156
          ],
          [
           0.0013438936799832733,
           0.037052606335855005,
           0.1012570941332376,
           -0.018727145555724953,
           0.027691181225138046,
           0.007830396023881593,
           0.007162777067762242,
           -0.03712107367499544,
           0.02077615194714269,
           0.03603562289265076,
           -0.011023469836738858,
           0.005366401619387072,
           0.0035177531682558942,
           0.02518058116953121,
           0.0041361256641475955,
           0.02203333701058792,
           -0.02188413031183136,
           -0.5180763597376604,
           1,
           -0.15802098729292113,
           0.058875653615432226,
           -0.05625958463625057,
           0.13732818747640027,
           0.044550019804100456,
           0.06773302596234079,
           0.0340671326887404,
           -0.04366212443161366,
           -0.00820021619366301,
           0.07609946186510466,
           -0.008669005786247434,
           0.007732623493302297,
           0.008827122880141482,
           0.0006707357574948884,
           -0.002826707031906842,
           -0.00033818799337827937,
           -0.0007815553133850878,
           -0.0006022847454017239,
           0.000591321147031268,
           -0.0006993075561928123,
           -0.0010905132359761071,
           -0.0008502466566824664,
           0.00042878043890859477,
           0.0007460892730811583,
           -0.0015898973720920525,
           -0.00021109233161472496,
           -0.0002421374844425615,
           4.6684570862882744e-05,
           -0.0007755225209412626,
           -0.001922700612824353
          ],
          [
           0.0008157280242293081,
           0.004555455715152848,
           -0.11222626697683716,
           -0.0003739401590444408,
           0.0013157749639168585,
           -0.025797485873876425,
           -0.008252314414916537,
           -0.011750963576176823,
           0.07656187216203816,
           -0.033272544654311044,
           -0.039631180000228874,
           0.027264135678883677,
           0.06901728994326506,
           0.10928667412377306,
           0.050823104091766845,
           0.12147762405541038,
           -0.4516894099742072,
           -0.5942654327422761,
           -0.15802098729292113,
           1,
           -0.04596757669594359,
           0.006388259993779028,
           -0.041079456852142725,
           0.018748038227366905,
           -0.003212068860615737,
           -0.007200395427363072,
           -0.017357635513052336,
           -0.027826551074893967,
           -0.044733473917460624,
           -0.003241940278548797,
           0.004609844546416747,
           -0.02613502452139039,
           -0.0009732616497496337,
           -0.0001956279446045222,
           0.001124606656781667,
           -2.5850049554222618e-05,
           0.0018345907179115205,
           0.00011597648018878906,
           0.0013640036829747895,
           0.002110541450555667,
           0.0015743622718326646,
           0.0019922297476804548,
           -0.0012387502670017302,
           -0.0003786053015244637,
           -8.221784186824308e-05,
           6.434466221087021e-05,
           7.039774777351157e-05,
           -0.0007859433395340347,
           0.0007240485980728472
          ],
          [
           -0.0010523840432399496,
           0.016255693742637686,
           -0.05612096023073561,
           0.00214850245374989,
           -0.028519891228702923,
           0.02937937195109524,
           -0.036212853041022904,
           -0.07554574375145577,
           0.06206386799788505,
           0.0009741110543532989,
           0.024264102635430683,
           0.007989028500674941,
           0.0042048920721662105,
           0.016351323808765986,
           0.005814603173879321,
           0.016363129867995888,
           0.02569045128606022,
           0.00044932875105786117,
           0.058875653615432226,
           -0.04596757669594359,
           1,
           -0.1527326305202657,
           0.13805458898633027,
           0.067732393302395,
           -0.14725757311134435,
           0.05332586747347315,
           0.0010712044261129016,
           -0.05954768418603375,
           0.27290021926541275,
           0.006355097797608369,
           0.010497666747185217,
           0.11092050571881658,
           0.0003954303917060711,
           -0.0012297197856098755,
           -0.0012509298116333439,
           -0.0006230035403697138,
           -0.001207073641473125,
           4.220234506755867e-05,
           0.0014431604443318454,
           -0.0004247629899175609,
           -0.0007933308500309729,
           0.0008740417878425334,
           6.95669943874719e-05,
           0.0009652394539101881,
           -0.0010678795853459174,
           0.0004024551616458192,
           0.0003641136670927075,
           0.0005198560815098639,
           -0.0005613985985714569
          ],
          [
           -0.0004033449463715611,
           -0.03153359612457287,
           -0.1169866467920175,
           0.04523308396698348,
           -0.04490674148712065,
           0.003162109877964889,
           0.012878919847941928,
           0.13638274599348738,
           -0.1626010123600336,
           -0.02998861680480674,
           0.03995547974899175,
           -0.015804418556358685,
           -0.002474353574915442,
           -0.01722907241506039,
           -0.008441249275001582,
           -0.01828775355074768,
           0.00899010637483375,
           0.030264159750243883,
           -0.05625958463625057,
           0.006388259993779028,
           -0.1527326305202657,
           1,
           -0.11109462485657533,
           -0.27367236888619156,
           -0.09208322478163421,
           -0.25308889280600144,
           0.10363238078759578,
           0.03604366860466036,
           -0.012977575535680831,
           -0.019088186796559166,
           -0.0009649638104166794,
           -0.09014365639883624,
           0.00028670069159318856,
           0.00043965375966645417,
           -0.0018349663534806147,
           -4.2806839795007884e-05,
           0.000685063371450163,
           -0.0005509059261274756,
           -0.0005988402310767637,
           -0.0008341968657931889,
           0.0020520906048643517,
           0.0012427813649456252,
           -9.926418773619016e-05,
           -1.4807280235949815e-05,
           -0.0029475272140969564,
           -0.001077583489975626,
           -0.0011509779965209698,
           -0.0014296408355096264,
           0.0009304624944871983
          ],
          [
           0.0003544609372827726,
           0.032400970694275104,
           0.04375596050029653,
           -0.0025317202816092376,
           0.09565776668522333,
           0.022744376399026083,
           -0.011398778782571815,
           -0.07572310218075869,
           0.09648343943349459,
           0.038462429631775534,
           -0.04994363372858587,
           0.024833271794445742,
           0.04610459759768675,
           0.12076679710050318,
           0.0377182760422602,
           0.11926866345761901,
           0.06539839780086634,
           -0.04949269493946449,
           0.13732818747640027,
           -0.041079456852142725,
           0.13805458898633027,
           -0.11109462485657533,
           1,
           0.09719274174853969,
           0.48978942740784726,
           0.03305829220475693,
           -0.1483385551523895,
           -0.24866229809247814,
           0.2724071564135307,
           0.014220105244585708,
           0.015778200128538252,
           0.08254922005109025,
           -0.0004509803278143931,
           -0.0003693202386897241,
           0.00043014794862627587,
           0.003070667843488631,
           0.0021179978533095375,
           0.0003282253752557591,
           0.0012104089806038827,
           -0.0026947000599002163,
           -0.002595880715245505,
           0.0008592066483024779,
           0.0012823032623227356,
           -0.0004809622024844747,
           -0.000900009112242032,
           -0.0021900877080210674,
           -0.0013022430575787994,
           -0.00041450859584372094,
           0.0014224541267771362
          ],
          [
           0.0023098896739933137,
           0.032899874940120546,
           0.0790415505477597,
           -0.07218977632989523,
           0.07298961054229085,
           -0.04536129801832949,
           -0.01087319521611484,
           -0.18701667626422974,
           0.19970161209131007,
           0.08495716267080043,
           -0.07038654070759681,
           0.016566215782234283,
           0.0085945059625506,
           0.027940354431978034,
           0.014655985827389813,
           0.029994631058182668,
           -0.047147427101064614,
           -0.04443245801607432,
           0.044550019804100456,
           0.018748038227366905,
           0.067732393302395,
           -0.27367236888619156,
           0.09719274174853969,
           1,
           0.14100313376171197,
           0.19401461615439022,
           -0.18337425915248687,
           -0.051065725258350535,
           -0.039405291747578,
           0.000720610959039244,
           0.0704461484683812,
           -0.0573260789818462,
           0.0009314839836572797,
           0.0015387904761009362,
           0.000871700118205042,
           0.0002434918758918964,
           0.001215931309403626,
           -0.0003188249939387811,
           0.0014737778917998585,
           0.001198066784985588,
           0.0017213100009014935,
           0.00042311633950088267,
           -0.0023388274799040387,
           0.0013882598831327169,
           0.000579727172497131,
           0.0006342039000327394,
           0.00012764466563053707,
           -0.0003200957840412163,
           -0.0005301916337567397
          ],
          [
           -0.0008497364319568806,
           0.020754434132826776,
           0.21300928032912675,
           -0.008406520927741008,
           0.14359654865840238,
           0.06339932427116321,
           -0.006561608550007696,
           -0.16489012332440905,
           0.09210731694598842,
           0.06388874607199731,
           0.042876133486040684,
           0.015251836567305199,
           0.030782623751734642,
           0.07047807765090647,
           0.02347110679423096,
           0.07131983388437584,
           0.05151699052704684,
           -0.058248842391420516,
           0.06773302596234079,
           -0.003212068860615737,
           -0.14725757311134435,
           -0.09208322478163421,
           0.48978942740784726,
           0.14100313376171197,
           1,
           0.0610682766238693,
           -0.08375675814605713,
           -0.039809019414298305,
           -0.3277505348268821,
           0.02348969807689091,
           0.038105414387586516,
           -0.07678547179357709,
           -0.0016589918561348144,
           0.00045146382393345454,
           0.0004128396727017668,
           0.0004412278133604194,
           0.0016640401043848303,
           4.603530801216634e-05,
           -0.0016082481209460618,
           -0.0017017001612186584,
           -0.00035882930966854473,
           0.0013216260013875014,
           0.001863807293097441,
           -0.0014997038236239928,
           0.0013959473143630471,
           -0.0028145541534887798,
           -0.0008849150440565294,
           -0.0024179401571196727,
           0.0001499412738778608
          ],
          [
           -0.0010096893760928646,
           0.011536659955726385,
           0.07019202187337271,
           -0.01730091230637514,
           0.008021293226146316,
           0.025323615320999925,
           -0.0072299632053995895,
           -0.059887308797517635,
           0.021012550690521433,
           0.0633731246240447,
           -0.008708840542970362,
           0.004487183793875703,
           0.0022573006998290747,
           0.004409331864014702,
           0.0016058356563030697,
           0.005136795765281479,
           0.0008576242267399711,
           -0.016400415460856074,
           0.0340671326887404,
           -0.007200395427363072,
           0.05332586747347315,
           -0.25308889280600144,
           0.03305829220475693,
           0.19401461615439022,
           0.0610682766238693,
           1,
           -0.02611622835411814,
           -0.014611818480659572,
           0.00332556907391343,
           -0.0032214358762773622,
           0.02538467026236855,
           -0.030801632989563767,
           0.0008598200601896396,
           0.00157461285245382,
           0.0011103477393886192,
           -4.896531776827232e-05,
           0.0004921695588309738,
           0.0025789004953305486,
           -0.0008241917715071704,
           0.0011949560411559218,
           0.0004671486827777795,
           -0.0020202515720043877,
           0.0008061524226690235,
           0.000689803382340044,
           0.0012045255571496128,
           0.0001356500415863611,
           3.4775541413476665e-05,
           -0.0023403993866281878,
           -0.0005226832895863497
          ],
          [
           -0.0029555818094072015,
           -0.03639522258780317,
           -0.0006393452905868237,
           -0.011780550385044154,
           0.056336933251669705,
           0.06465523285480476,
           0.05377652521320651,
           0.03899368073100131,
           -0.06470797501921204,
           -0.010976242373907905,
           0.0342025767359246,
           -0.017804258593691946,
           -0.016299801093019185,
           -0.03441622646998587,
           -0.015614273025673404,
           -0.03780543277647762,
           0.05970332843157361,
           0.04383000428941703,
           -0.04366212443161366,
           -0.017357635513052336,
           0.0010712044261129016,
           0.10363238078759578,
           -0.1483385551523895,
           -0.18337425915248687,
           -0.08375675814605713,
           -0.02611622835411814,
           1,
           0.06452922604343284,
           -0.03960711477269268,
           0.0044291015579415146,
           -0.07832725913625221,
           0.05573757109188191,
           0.00014317246993780027,
           -0.001766245537550099,
           0.0013053744161650508,
           -9.291203883231048e-05,
           0.0005499792456161905,
           -0.0014661881547167342,
           -0.00126972104570452,
           0.0005028118507514468,
           0.0001369791532856534,
           0.0014953290730697968,
           0.00029514287044668617,
           -0.0004381102787180161,
           -0.0012544219062167932,
           0.0005855222178469649,
           0.00034706241877984433,
           0.001779644692049721,
           -0.0023689086360795504
          ],
          [
           0.0007475961383355612,
           -0.020341933485980065,
           0.13811162890080816,
           0.0015257604786327662,
           0.003607155114376228,
           -0.00814754846801753,
           -0.002083953743338254,
           0.03831307031695165,
           -0.12382519653908655,
           0.0427922674881171,
           0.05031732944387525,
           -0.00365962070244524,
           -0.0044735785340234025,
           -0.013323354070164575,
           -0.005009607474508767,
           -0.013304549300039097,
           0.016783815050164748,
           0.03026590825430404,
           -0.00820021619366301,
           -0.027826551074893967,
           -0.05954768418603375,
           0.03604366860466036,
           -0.24866229809247814,
           -0.051065725258350535,
           -0.039809019414298305,
           -0.014611818480659572,
           0.06452922604343284,
           1,
           -0.01629853642416545,
           -0.03125167998581104,
           0.034364928649546336,
           -0.03852390264179931,
           -0.0013407294190590567,
           -0.0005443907527122171,
           -0.0014563424458635254,
           -0.0014425071088963843,
           2.6762473594795134e-05,
           -0.0005307547879908729,
           -0.002119260300436465,
           0.0015842335640350936,
           0.0006383022193048909,
           0.0003935211621869506,
           -0.0011690267707114414,
           -0.0010101875324818037,
           0.0020955546330995254,
           0.0013782617362007408,
           -0.0010009801233348515,
           0.00037910847774122794,
           0.0002479460755647001
          ],
          [
           0.0004940853380072005,
           0.005322494909291872,
           -0.1025823298042105,
           0.009434534021788725,
           -0.013205469282503664,
           -0.04198301253597798,
           -0.008333774284921073,
           0.09918393763824071,
           -0.0592293173221672,
           -0.01092006270648234,
           -0.04769976109596489,
           0.00826644095651261,
           0.021168527983197474,
           0.044120564246909987,
           0.014756941996862139,
           0.04508043877617706,
           0.03787983280939092,
           0.015873261962410123,
           0.07609946186510466,
           -0.044733473917460624,
           0.27290021926541275,
           -0.012977575535680831,
           0.2724071564135307,
           -0.039405291747578,
           -0.3277505348268821,
           0.00332556907391343,
           -0.03960711477269268,
           -0.01629853642416545,
           1,
           -0.023541068642756197,
           -0.011188268526019807,
           0.11896944421500298,
           0.0010399053973847712,
           0.0007423801429440459,
           -0.0017702971365074723,
           0.0020812179822101546,
           -0.0016920322564635982,
           -0.0012319557421361167,
           0.0012705153842238798,
           -0.0011916824704647467,
           -0.0004672662506228167,
           -0.0004903231499660531,
           -0.0010919839975845078,
           0.0009521778464269998,
           -0.0010595306612710786,
           -0.0005462931019553125,
           0.0016412416111071387,
           0.0012730291759389459,
           0.000545645086234742
          ],
          [
           -0.0009282837448050599,
           0.0010382993212007298,
           0.010793696829651062,
           0.011401456422615553,
           -0.008560954021639582,
           0.02301043283394903,
           0.002168074446652444,
           -0.04105681120507276,
           0.03055616289712624,
           0.025327537974384917,
           -0.0068714152391403166,
           0.0007083813828402774,
           -0.0018207469445127144,
           -0.00508592585113693,
           0.00025957963229845135,
           -0.004272510572028673,
           0.016128999534946106,
           0.006596901955516886,
           -0.008669005786247434,
           -0.003241940278548797,
           0.006355097797608369,
           -0.019088186796559166,
           0.014220105244585708,
           0.000720610959039244,
           0.02348969807689091,
           -0.0032214358762773622,
           0.0044291015579415146,
           -0.03125167998581104,
           -0.023541068642756197,
           1,
           0.0034926119778279107,
           0.013412995647663671,
           -0.0022041886801724966,
           -0.00016428189498505667,
           -0.0016314199086927635,
           3.345833882899232e-06,
           0.002907789216375729,
           -0.0014115273416177374,
           -0.0015616995757234328,
           0.001816659689651751,
           0.0024027112854159804,
           0.0029880880242695684,
           -0.0003593050636786701,
           -0.0008346704499100793,
           0.001021239320656569,
           -0.0005117859571024149,
           0.0007416018344101211,
           -0.0005855613681816042,
           0.00023838942051957303
          ],
          [
           0.0020474413080606444,
           0.006128798326757138,
           0.008187861301734246,
           0.014955195806606505,
           -0.025965901728807413,
           -0.0006146254081094967,
           -0.002249565476062125,
           -0.031296227706447,
           0.047940110791918684,
           0.04137147693429582,
           -0.05398346478905472,
           0.005909491658796863,
           0.005671365912101772,
           0.011473568431545473,
           0.004531083396472349,
           0.012513326139616473,
           -0.014094740994885382,
           -0.009989048367143528,
           0.007732623493302297,
           0.004609844546416747,
           0.010497666747185217,
           -0.0009649638104166794,
           0.015778200128538252,
           0.0704461484683812,
           0.038105414387586516,
           0.02538467026236855,
           -0.07832725913625221,
           0.034364928649546336,
           -0.011188268526019807,
           0.0034926119778279107,
           1,
           -0.04976970779843196,
           0.00021324227842177014,
           -0.00018470178610373135,
           -0.001030552732421399,
           0.0016531383200807618,
           -7.104884064442889e-05,
           0.0016651672130308952,
           0.001661053471775787,
           1.1254065435811081e-05,
           -0.00035862222351401715,
           -0.000578026659641811,
           0.0002478062054979929,
           -0.0011744468682769224,
           0.0020541819917924507,
           0.0029192141505096658,
           -0.0004828954298308084,
           -0.0003423887666784932,
           0.0015132572839368853
          ],
          [
           0.0026413932462155797,
           -0.0012133568962176696,
           0.00825152755479824,
           0.019948833190253253,
           -0.059357784611531364,
           0.07348633332430111,
           0.00107554475707992,
           0.019617618116459623,
           0.06745692509835807,
           -0.08219336872997224,
           -0.022223839633944514,
           0.0025262371890389795,
           0.001154208305592368,
           0.004440512322791722,
           0.0012340690299426076,
           0.004418449708877969,
           0.02299969506196376,
           0.021089277139603096,
           0.008827122880141482,
           -0.02613502452139039,
           0.11092050571881658,
           -0.09014365639883624,
           0.08254922005109025,
           -0.0573260789818462,
           -0.07678547179357709,
           -0.030801632989563767,
           0.05573757109188191,
           -0.03852390264179931,
           0.11896944421500298,
           0.013412995647663671,
           -0.04976970779843196,
           1,
           0.0002249694527866357,
           0.002458872518486961,
           -0.0002511156074101972,
           -0.0003302318320871622,
           -0.002458276048013527,
           -0.0005101365289598746,
           -0.0005672563408689047,
           -0.001206330546667298,
           -0.0011809019951366634,
           0.0011334652327895202,
           0.0009449124419320974,
           -0.0007033351603276393,
           0.0005081330268082903,
           -9.260927347074229e-05,
           0.0009303397770717671,
           0.002231261537685798,
           0.0012800385583023688
          ],
          [
           0.0036383179612103017,
           3.2720455100222405e-05,
           -0.0009430787753138474,
           -0.0021110487327914455,
           0.0007029223319983066,
           0.0008255181087075699,
           0.0012916973382756894,
           -0.0004089715175719974,
           0.0004704805518061534,
           -0.000886292161431818,
           0.0008295720883777965,
           3.1000198017766065e-05,
           -0.0011960063936610893,
           -0.0010630051163157137,
           0.00034928436518941267,
           -0.0011022975070719497,
           0.001583612723436242,
           -0.00015427566393725136,
           0.0006707357574948884,
           -0.0009732616497496337,
           0.0003954303917060711,
           0.00028670069159318856,
           -0.0004509803278143931,
           0.0009314839836572797,
           -0.0016589918561348144,
           0.0008598200601896396,
           0.00014317246993780027,
           -0.0013407294190590567,
           0.0010399053973847712,
           -0.0022041886801724966,
           0.00021324227842177014,
           0.0002249694527866357,
           1,
           0.0006326671086388928,
           -0.0018453210760898278,
           0.0014451241140302868,
           -0.001846554928669249,
           -3.835483364152018e-05,
           5.835325109212987e-08,
           0.00024456774542824333,
           0.0009784493310665636,
           -0.00021462815569388283,
           0.0011795606084717045,
           0.0001718927120025671,
           -0.0008738127601136779,
           0.0011856368490699145,
           0.0011092144691557332,
           0.0009016703557466313,
           0.00014614969739931504
          ],
          [
           -0.0005915908500661377,
           0.0007708801365326378,
           -0.0011711899555747148,
           -0.0015478301217311035,
           -0.001244839816125983,
           0.0010277988730797306,
           -0.0006420444921112528,
           -0.0005006935696663839,
           -0.00020263779193792028,
           0.0006032890364046535,
           0.00028269745744931654,
           0.0013288695124036788,
           -0.00011120385630559379,
           0.00018512789954192084,
           -0.0004156835108901136,
           0.00020541688400003567,
           0.0008742837980309493,
           0.0013615649246193945,
           -0.002826707031906842,
           -0.0001956279446045222,
           -0.0012297197856098755,
           0.00043965375966645417,
           -0.0003693202386897241,
           0.0015387904761009362,
           0.00045146382393345454,
           0.00157461285245382,
           -0.001766245537550099,
           -0.0005443907527122171,
           0.0007423801429440459,
           -0.00016428189498505667,
           -0.00018470178610373135,
           0.002458872518486961,
           0.0006326671086388928,
           1,
           -0.0013940213742289157,
           -0.002211754327912519,
           -0.0017921422616910185,
           0.0011537560131772333,
           -0.00023581508931643148,
           0.00038680272386482404,
           -0.0002117009452892736,
           0.0002703331399211816,
           -0.0009686463055697029,
           7.896468850627976e-05,
           -0.0009427509379795304,
           -0.0009852664395451243,
           -0.0004058525742929777,
           0.00026514988456800864,
           0.0014943221390320992
          ],
          [
           0.0009574769937878764,
           8.182225978075785e-05,
           0.0001468321352008793,
           8.548689230280353e-05,
           0.0023614979575574675,
           0.0026258399586142943,
           -0.00024941758434445855,
           -0.0014131826801772216,
           0.002257467971971457,
           0.0012489817846111845,
           -0.0019519948882590844,
           -0.002677298661139917,
           0.0009108295017515643,
           0.0005169369254961482,
           -0.0021626888021852183,
           -0.0002416453387590575,
           3.349415158363572e-05,
           -0.0003549050683784064,
           -0.00033818799337827937,
           0.001124606656781667,
           -0.0012509298116333439,
           -0.0018349663534806147,
           0.00043014794862627587,
           0.000871700118205042,
           0.0004128396727017668,
           0.0011103477393886192,
           0.0013053744161650508,
           -0.0014563424458635254,
           -0.0017702971365074723,
           -0.0016314199086927635,
           -0.001030552732421399,
           -0.0002511156074101972,
           -0.0018453210760898278,
           -0.0013940213742289157,
           1,
           -7.531912940689786e-05,
           -0.0006033795317028932,
           0.0017095886432573152,
           -0.0015344104636122683,
           -0.0005749585705772388,
           0.0006068798883348734,
           0.0009738384019128626,
           -0.0008696868262333401,
           0.0006305110709911789,
           0.00013999232688368619,
           0.0003201823342854648,
           0.0020048012309301956,
           0.0011850203585599686,
           0.0008642753852533274
          ],
          [
           0.0007882447910808956,
           -0.00010347690485278524,
           -0.0006583998180255231,
           -0.00017173251468899272,
           0.0015325306198597161,
           -0.00015073832344163923,
           -0.0019023900274815755,
           -0.0015526558607739192,
           -0.0007715341800744943,
           0.0015137952726527234,
           0.001377811100217233,
           0.0012737060249414815,
           -0.0017878545885293084,
           0.0017231519792362958,
           0.0004136479843598627,
           0.0010228747040333251,
           0.0017213970445803973,
           0.0010701810792920843,
           -0.0007815553133850878,
           -2.5850049554222618e-05,
           -0.0006230035403697138,
           -4.2806839795007884e-05,
           0.003070667843488631,
           0.0002434918758918964,
           0.0004412278133604194,
           -4.896531776827232e-05,
           -9.291203883231048e-05,
           -0.0014425071088963843,
           0.0020812179822101546,
           3.345833882899232e-06,
           0.0016531383200807618,
           -0.0003302318320871622,
           0.0014451241140302868,
           -0.002211754327912519,
           -7.531912940689786e-05,
           1,
           -0.002084624044028694,
           0.0007561854950545017,
           -0.0005302751847781065,
           -0.00010937354438558475,
           -0.000388693249963843,
           -0.0005993891804417921,
           0.0019081420282568305,
           9.663145891527551e-05,
           -0.001410586889796412,
           -0.00032686988563327866,
           -0.0003107324412774847,
           -0.0011828498563552455,
           0.00039425142162196534
          ],
          [
           0.0008356128476278207,
           -0.0010058548384191393,
           0.002992806788917109,
           -0.0027117639544354424,
           0.001266664959910297,
           -0.0027755450296133074,
           -0.0001449036161313121,
           -0.0011636516201258254,
           -0.001416721144687028,
           0.0008268945510473188,
           0.0022687777239878753,
           0.0014216349339402805,
           0.0009946385801930036,
           0.0037837821118346824,
           0.002790331203399629,
           0.004077353989613895,
           -0.0013086573803491668,
           -0.0019205651214934604,
           -0.0006022847454017239,
           0.0018345907179115205,
           -0.001207073641473125,
           0.000685063371450163,
           0.0021179978533095375,
           0.001215931309403626,
           0.0016640401043848303,
           0.0004921695588309738,
           0.0005499792456161905,
           2.6762473594795134e-05,
           -0.0016920322564635982,
           0.002907789216375729,
           -7.104884064442889e-05,
           -0.002458276048013527,
           -0.001846554928669249,
           -0.0017921422616910185,
           -0.0006033795317028932,
           -0.002084624044028694,
           1,
           1.3082467919241126e-05,
           -0.002665668626238483,
           0.0020156141257340952,
           0.00010930539163796438,
           -0.00030400026811709164,
           -0.00017056886242362965,
           -0.000265653880402289,
           0.002133458533910172,
           -0.0005416628791602605,
           0.00020163232378118568,
           0.0007846466422613709,
           -0.000767841727863593
          ],
          [
           0.0005176341988577643,
           0.0007189675843641542,
           -8.533923304090555e-05,
           0.00035567580972401837,
           -0.0015441777405826916,
           0.00048656988775536863,
           -0.0008217959389452798,
           -0.001955110116004253,
           0.0031034025355962443,
           -0.0011713719830285256,
           8.41415927831592e-05,
           0.002842382982119299,
           0.0006751295016578906,
           -0.0020161776675533686,
           -0.002330326502165297,
           -0.0014427896242199597,
           -0.0009849673818418103,
           -0.0004273838950783198,
           0.000591321147031268,
           0.00011597648018878906,
           4.220234506755867e-05,
           -0.0005509059261274756,
           0.0003282253752557591,
           -0.0003188249939387811,
           4.603530801216634e-05,
           0.0025789004953305486,
           -0.0014661881547167342,
           -0.0005307547879908729,
           -0.0012319557421361167,
           -0.0014115273416177374,
           0.0016651672130308952,
           -0.0005101365289598746,
           -3.835483364152018e-05,
           0.0011537560131772333,
           0.0017095886432573152,
           0.0007561854950545017,
           1.3082467919241126e-05,
           1,
           -0.00018191557849844383,
           -0.0008978648417160443,
           -0.0014087261304251072,
           -0.000629603966515466,
           -6.618237838926016e-05,
           0.0009232509440580107,
           -0.0012912698712921724,
           -0.0008141216438973746,
           -0.0010941080196175384,
           0.00044405455709718906,
           6.652856730239221e-05
          ],
          [
           0.0009805335540469448,
           0.0010608340444789083,
           -0.0013449818796920148,
           -2.5425203495046437e-05,
           0.000230287338373583,
           0.00012727421795224745,
           -0.0010698729509168899,
           -0.0011970978269563854,
           0.0027643720885982604,
           -0.0010929434068361558,
           -0.0005624466536854737,
           -0.00036716982018740517,
           0.0010608594409770634,
           0.0019267518147431442,
           0.0009485297239872661,
           0.001975748285363052,
           -0.0012787059555369506,
           -0.0009309516956551648,
           -0.0006993075561928123,
           0.0013640036829747895,
           0.0014431604443318454,
           -0.0005988402310767637,
           0.0012104089806038827,
           0.0014737778917998585,
           -0.0016082481209460618,
           -0.0008241917715071704,
           -0.00126972104570452,
           -0.002119260300436465,
           0.0012705153842238798,
           -0.0015616995757234328,
           0.001661053471775787,
           -0.0005672563408689047,
           5.835325109212987e-08,
           -0.00023581508931643148,
           -0.0015344104636122683,
           -0.0005302751847781065,
           -0.002665668626238483,
           -0.00018191557849844383,
           1,
           0.00039421911394115384,
           0.0020861464734087494,
           0.0012790179252293843,
           0.0012524127188469519,
           -0.0003206519285674346,
           0.00042152585442363353,
           0.0003662380118529723,
           -0.0016175662068407665,
           -0.001302425409365104,
           -0.00033573429390100083
          ],
          [
           -0.0012488250195915361,
           0.00037143739489093637,
           -0.0012629092646128783,
           3.793867444663322e-05,
           -0.0027155418811399185,
           -0.0020008312385538024,
           -0.0015247002980472058,
           0.000822002616531646,
           -0.0004476413449922488,
           -0.0006318117597186088,
           7.181830788419638e-05,
           -0.0023492443946824377,
           0.00018449154616455044,
           0.00012896012169149823,
           -0.00018583926200945724,
           -0.0002432697006175229,
           -0.0019515651504138044,
           -0.0005474330902515618,
           -0.0010905132359761071,
           0.002110541450555667,
           -0.0004247629899175609,
           -0.0008341968657931889,
           -0.0026947000599002163,
           0.001198066784985588,
           -0.0017017001612186584,
           0.0011949560411559218,
           0.0005028118507514468,
           0.0015842335640350936,
           -0.0011916824704647467,
           0.001816659689651751,
           1.1254065435811081e-05,
           -0.001206330546667298,
           0.00024456774542824333,
           0.00038680272386482404,
           -0.0005749585705772388,
           -0.00010937354438558475,
           0.0020156141257340952,
           -0.0008978648417160443,
           0.00039421911394115384,
           1,
           0.0010363096506184925,
           0.003702293503296481,
           0.0004796006799337871,
           0.0008337638553276428,
           0.0008795353242781085,
           -0.0012352831533956282,
           -0.0009601810727423088,
           -0.00137650887645121,
           -0.00016434196923967553
          ],
          [
           -0.0010934546530963374,
           -0.0011325853981362505,
           0.0015206567146658348,
           -0.0008836458794260957,
           -0.002352333366999052,
           -0.0008139493139821727,
           0.0009753755080751557,
           0.0013465275777943119,
           -0.0010438535583305107,
           -0.0012414424693482822,
           0.0006636678133101164,
           0.0013666102034255417,
           -0.0006120933976261155,
           0.0008132382695526005,
           -0.0014181281398898933,
           0.0002840910135919725,
           -0.0012626527588530665,
           0.00047885679021953564,
           -0.0008502466566824664,
           0.0015743622718326646,
           -0.0007933308500309729,
           0.0020520906048643517,
           -0.002595880715245505,
           0.0017213100009014935,
           -0.00035882930966854473,
           0.0004671486827777795,
           0.0001369791532856534,
           0.0006383022193048909,
           -0.0004672662506228167,
           0.0024027112854159804,
           -0.00035862222351401715,
           -0.0011809019951366634,
           0.0009784493310665636,
           -0.0002117009452892736,
           0.0006068798883348734,
           -0.000388693249963843,
           0.00010930539163796438,
           -0.0014087261304251072,
           0.0020861464734087494,
           0.0010363096506184925,
           1,
           -0.00030006427820138517,
           0.000980441223865989,
           0.0015570118184771945,
           -0.0009128274758467554,
           0.0035645904480776313,
           8.383414231002459e-05,
           0.0010213745943391099,
           -0.0005819389857347308
          ],
          [
           -0.00015701023640565565,
           -0.0004464645318087174,
           0.00019895341092257275,
           -0.0008928474834448281,
           0.00013288787890949408,
           0.0002834052581409762,
           0.001549156967187013,
           -0.0013011186998591806,
           0.0005412369024749237,
           -0.0004320285599226011,
           0.0014390105937547816,
           0.001968875596117635,
           0.00030406758932433335,
           0.0005585972004819212,
           -0.002125385276738932,
           0.00030681115008979426,
           -0.000921686741159908,
           -0.0012057081347718506,
           0.00042878043890859477,
           0.0019922297476804548,
           0.0008740417878425334,
           0.0012427813649456252,
           0.0008592066483024779,
           0.00042311633950088267,
           0.0013216260013875014,
           -0.0020202515720043877,
           0.0014953290730697968,
           0.0003935211621869506,
           -0.0004903231499660531,
           0.0029880880242695684,
           -0.000578026659641811,
           0.0011334652327895202,
           -0.00021462815569388283,
           0.0002703331399211816,
           0.0009738384019128626,
           -0.0005993891804417921,
           -0.00030400026811709164,
           -0.000629603966515466,
           0.0012790179252293843,
           0.003702293503296481,
           -0.00030006427820138517,
           1,
           -0.0023253997103759288,
           0.0007633285228823364,
           0.0026328685607141223,
           -0.000782295667836372,
           0.0005639452300591455,
           0.001945194513245508,
           -0.0016489428988119895
          ],
          [
           0.001609423824807779,
           0.0013622753431191557,
           -0.0008910685014910404,
           -0.0005185257387862071,
           0.00020474960687078366,
           0.0015645496382111165,
           0.002170835213002712,
           0.00030393290259254327,
           0.0016655249364763605,
           -0.001959159535716181,
           -0.0003887243838992524,
           0.00023239812553012024,
           -0.0007858590549898202,
           -0.0005013388256770008,
           0.0008745250585350082,
           -0.0003871413338074719,
           0.0013483433788114031,
           -0.00016701443375198525,
           0.0007460892730811583,
           -0.0012387502670017302,
           6.95669943874719e-05,
           -9.926418773619016e-05,
           0.0012823032623227356,
           -0.0023388274799040387,
           0.001863807293097441,
           0.0008061524226690235,
           0.00029514287044668617,
           -0.0011690267707114414,
           -0.0010919839975845078,
           -0.0003593050636786701,
           0.0002478062054979929,
           0.0009449124419320974,
           0.0011795606084717045,
           -0.0009686463055697029,
           -0.0008696868262333401,
           0.0019081420282568305,
           -0.00017056886242362965,
           -6.618237838926016e-05,
           0.0012524127188469519,
           0.0004796006799337871,
           0.000980441223865989,
           -0.0023253997103759288,
           1,
           0.001713387982008056,
           0.00019854594292474138,
           -0.001287343165201063,
           -0.001062548766009112,
           -7.567114607784398e-05,
           -0.00047695089701226727
          ],
          [
           -0.0012272973917304445,
           -0.0004904242506719329,
           -0.000396790212426193,
           -0.0001091639435274442,
           0.0001344327694191131,
           0.0027346762054245234,
           0.0015480474512491566,
           0.002087860311907922,
           0.0005749746503449937,
           -0.0027823010069026946,
           -0.000621106833525824,
           -0.0032329018832703716,
           -0.0006590162500354598,
           -0.0016324069179149605,
           0.0004916403631589377,
           -0.001820720685571289,
           0.0007020649300867855,
           0.000928933859436279,
           -0.0015898973720920525,
           -0.0003786053015244637,
           0.0009652394539101881,
           -1.4807280235949815e-05,
           -0.0004809622024844747,
           0.0013882598831327169,
           -0.0014997038236239928,
           0.000689803382340044,
           -0.0004381102787180161,
           -0.0010101875324818037,
           0.0009521778464269998,
           -0.0008346704499100793,
           -0.0011744468682769224,
           -0.0007033351603276393,
           0.0001718927120025671,
           7.896468850627976e-05,
           0.0006305110709911789,
           9.663145891527551e-05,
           -0.000265653880402289,
           0.0009232509440580107,
           -0.0003206519285674346,
           0.0008337638553276428,
           0.0015570118184771945,
           0.0007633285228823364,
           0.001713387982008056,
           1,
           0.0003847799596326076,
           0.0010284195630865856,
           -0.0008488737176590117,
           0.0008350357428591773,
           0.0028691848832983202
          ],
          [
           -0.0014120059005200628,
           0.0006238280115020942,
           -1.1545248111385099e-05,
           0.0009195635201452163,
           -0.0007442327813944093,
           0.002295346203964965,
           -0.0003682362393573745,
           -0.0003814511646830381,
           0.0012197619159721711,
           -0.002047724572754881,
           0.0010588568857560125,
           0.0010115230415514774,
           0.0014178496831878235,
           0.0017539182011456023,
           0.0015699943019599183,
           0.002318386702039322,
           -0.001915365956106812,
           -0.0004946092252123201,
           -0.00021109233161472496,
           -8.221784186824308e-05,
           -0.0010678795853459174,
           -0.0029475272140969564,
           -0.000900009112242032,
           0.000579727172497131,
           0.0013959473143630471,
           0.0012045255571496128,
           -0.0012544219062167932,
           0.0020955546330995254,
           -0.0010595306612710786,
           0.001021239320656569,
           0.0020541819917924507,
           0.0005081330268082903,
           -0.0008738127601136779,
           -0.0009427509379795304,
           0.00013999232688368619,
           -0.001410586889796412,
           0.002133458533910172,
           -0.0012912698712921724,
           0.00042152585442363353,
           0.0008795353242781085,
           -0.0009128274758467554,
           0.0026328685607141223,
           0.00019854594292474138,
           0.0003847799596326076,
           1,
           -0.0016701318625782552,
           0.0007356946834426283,
           7.729719133329158e-05,
           -8.498697276466257e-05
          ],
          [
           -0.001266582915695949,
           -0.00017012817365768916,
           -0.0008675973201928163,
           0.0005472321892405295,
           0.000157731563274207,
           0.0007734421027413762,
           0.00015309117899007583,
           -1.2555595091234793e-06,
           -0.0005167363145836902,
           -0.0005794594623613974,
           0.0011348640561092116,
           0.00034511455870640405,
           0.0010641208942453434,
           0.0013843957989970695,
           -0.0029176616014177973,
           0.0007408167748215124,
           0.0011762611405260832,
           -0.000432323026064183,
           -0.0002421374844425615,
           6.434466221087021e-05,
           0.0004024551616458192,
           -0.001077583489975626,
           -0.0021900877080210674,
           0.0006342039000327394,
           -0.0028145541534887798,
           0.0001356500415863611,
           0.0005855222178469649,
           0.0013782617362007408,
           -0.0005462931019553125,
           -0.0005117859571024149,
           0.0029192141505096658,
           -9.260927347074229e-05,
           0.0011856368490699145,
           -0.0009852664395451243,
           0.0003201823342854648,
           -0.00032686988563327866,
           -0.0005416628791602605,
           -0.0008141216438973746,
           0.0003662380118529723,
           -0.0012352831533956282,
           0.0035645904480776313,
           -0.000782295667836372,
           -0.001287343165201063,
           0.0010284195630865856,
           -0.0016701318625782552,
           1,
           -0.0008263242941725543,
           0.000450219315820858,
           0.000966083374334477
          ],
          [
           -0.001387012489514096,
           0.0005524351996118682,
           -0.0015035875469012964,
           0.0008240709263778052,
           -0.0002179273213074755,
           0.0009158792230724631,
           3.168678414855202e-05,
           -0.0007593038072496054,
           0.00018148010907771236,
           -6.765604151575159e-05,
           0.0008151460825754955,
           0.00023955239726456678,
           -0.0011015992238865807,
           -0.0013589599814288781,
           -0.00011712544370351973,
           -0.0013771848219666489,
           -0.0013255253293403624,
           9.26933091093104e-05,
           4.6684570862882744e-05,
           7.039774777351157e-05,
           0.0003641136670927075,
           -0.0011509779965209698,
           -0.0013022430575787994,
           0.00012764466563053707,
           -0.0008849150440565294,
           3.4775541413476665e-05,
           0.00034706241877984433,
           -0.0010009801233348515,
           0.0016412416111071387,
           0.0007416018344101211,
           -0.0004828954298308084,
           0.0009303397770717671,
           0.0011092144691557332,
           -0.0004058525742929777,
           0.0020048012309301956,
           -0.0003107324412774847,
           0.00020163232378118568,
           -0.0010941080196175384,
           -0.0016175662068407665,
           -0.0009601810727423088,
           8.383414231002459e-05,
           0.0005639452300591455,
           -0.001062548766009112,
           -0.0008488737176590117,
           0.0007356946834426283,
           -0.0008263242941725543,
           1,
           -0.000256999749001877,
           0.0005221041491486967
          ],
          [
           0.00019422494950414269,
           -0.0017438319546571681,
           -0.00016221628124592368,
           0.0003668294896141741,
           -0.0008816797556198087,
           -0.0019656334704160304,
           0.0002764781762418728,
           0.0027907331412144387,
           -0.0013611791678382662,
           -0.0009190393767006633,
           -0.0011026523735666283,
           0.0015546541592544052,
           -0.001240728524270899,
           -0.001779382287807932,
           0.002079286759967088,
           -0.0010118034751282255,
           0.0017437917830255083,
           0.0003020462737220039,
           -0.0007755225209412626,
           -0.0007859433395340347,
           0.0005198560815098639,
           -0.0014296408355096264,
           -0.00041450859584372094,
           -0.0003200957840412163,
           -0.0024179401571196727,
           -0.0023403993866281878,
           0.001779644692049721,
           0.00037910847774122794,
           0.0012730291759389459,
           -0.0005855613681816042,
           -0.0003423887666784932,
           0.002231261537685798,
           0.0009016703557466313,
           0.00026514988456800864,
           0.0011850203585599686,
           -0.0011828498563552455,
           0.0007846466422613709,
           0.00044405455709718906,
           -0.001302425409365104,
           -0.00137650887645121,
           0.0010213745943391099,
           0.001945194513245508,
           -7.567114607784398e-05,
           0.0008350357428591773,
           7.729719133329158e-05,
           0.000450219315820858,
           -0.000256999749001877,
           1,
           3.0900791451786126e-05
          ],
          [
           -0.0012665168671921183,
           -0.0010722284275397982,
           -0.0014640083176233343,
           -0.0020700765230598026,
           -0.003709408579276534,
           0.001243938381928246,
           0.00027869054705161115,
           0.00020310560100537925,
           -0.0009608000950925157,
           0.0009953591808107968,
           -0.00012315711435225912,
           -0.003389818864850354,
           0.0004094125500090158,
           0.0031663201946022547,
           -0.0009808134646700517,
           0.0017825538619420395,
           -0.0020395145220801205,
           0.001519207560397156,
           -0.001922700612824353,
           0.0007240485980728472,
           -0.0005613985985714569,
           0.0009304624944871983,
           0.0014224541267771362,
           -0.0005301916337567397,
           0.0001499412738778608,
           -0.0005226832895863497,
           -0.0023689086360795504,
           0.0002479460755647001,
           0.000545645086234742,
           0.00023838942051957303,
           0.0015132572839368853,
           0.0012800385583023688,
           0.00014614969739931504,
           0.0014943221390320992,
           0.0008642753852533274,
           0.00039425142162196534,
           -0.000767841727863593,
           6.652856730239221e-05,
           -0.00033573429390100083,
           -0.00016434196923967553,
           -0.0005819389857347308,
           -0.0016489428988119895,
           -0.00047695089701226727,
           0.0028691848832983202,
           -8.498697276466257e-05,
           0.000966083374334477,
           0.0005221041491486967,
           3.0900791451786126e-05,
           1
          ]
         ]
        }
       ],
       "layout": {
        "height": 700,
        "template": {
         "data": {
          "bar": [
           {
            "error_x": {
             "color": "#2a3f5f"
            },
            "error_y": {
             "color": "#2a3f5f"
            },
            "marker": {
             "line": {
              "color": "#E5ECF6",
              "width": 0.5
             }
            },
            "type": "bar"
           }
          ],
          "barpolar": [
           {
            "marker": {
             "line": {
              "color": "#E5ECF6",
              "width": 0.5
             }
            },
            "type": "barpolar"
           }
          ],
          "carpet": [
           {
            "aaxis": {
             "endlinecolor": "#2a3f5f",
             "gridcolor": "white",
             "linecolor": "white",
             "minorgridcolor": "white",
             "startlinecolor": "#2a3f5f"
            },
            "baxis": {
             "endlinecolor": "#2a3f5f",
             "gridcolor": "white",
             "linecolor": "white",
             "minorgridcolor": "white",
             "startlinecolor": "#2a3f5f"
            },
            "type": "carpet"
           }
          ],
          "choropleth": [
           {
            "colorbar": {
             "outlinewidth": 0,
             "ticks": ""
            },
            "type": "choropleth"
           }
          ],
          "contour": [
           {
            "colorbar": {
             "outlinewidth": 0,
             "ticks": ""
            },
            "colorscale": [
             [
              0,
              "#0d0887"
             ],
             [
              0.1111111111111111,
              "#46039f"
             ],
             [
              0.2222222222222222,
              "#7201a8"
             ],
             [
              0.3333333333333333,
              "#9c179e"
             ],
             [
              0.4444444444444444,
              "#bd3786"
             ],
             [
              0.5555555555555556,
              "#d8576b"
             ],
             [
              0.6666666666666666,
              "#ed7953"
             ],
             [
              0.7777777777777778,
              "#fb9f3a"
             ],
             [
              0.8888888888888888,
              "#fdca26"
             ],
             [
              1,
              "#f0f921"
             ]
            ],
            "type": "contour"
           }
          ],
          "contourcarpet": [
           {
            "colorbar": {
             "outlinewidth": 0,
             "ticks": ""
            },
            "type": "contourcarpet"
           }
          ],
          "heatmap": [
           {
            "colorbar": {
             "outlinewidth": 0,
             "ticks": ""
            },
            "colorscale": [
             [
              0,
              "#0d0887"
             ],
             [
              0.1111111111111111,
              "#46039f"
             ],
             [
              0.2222222222222222,
              "#7201a8"
             ],
             [
              0.3333333333333333,
              "#9c179e"
             ],
             [
              0.4444444444444444,
              "#bd3786"
             ],
             [
              0.5555555555555556,
              "#d8576b"
             ],
             [
              0.6666666666666666,
              "#ed7953"
             ],
             [
              0.7777777777777778,
              "#fb9f3a"
             ],
             [
              0.8888888888888888,
              "#fdca26"
             ],
             [
              1,
              "#f0f921"
             ]
            ],
            "type": "heatmap"
           }
          ],
          "heatmapgl": [
           {
            "colorbar": {
             "outlinewidth": 0,
             "ticks": ""
            },
            "colorscale": [
             [
              0,
              "#0d0887"
             ],
             [
              0.1111111111111111,
              "#46039f"
             ],
             [
              0.2222222222222222,
              "#7201a8"
             ],
             [
              0.3333333333333333,
              "#9c179e"
             ],
             [
              0.4444444444444444,
              "#bd3786"
             ],
             [
              0.5555555555555556,
              "#d8576b"
             ],
             [
              0.6666666666666666,
              "#ed7953"
             ],
             [
              0.7777777777777778,
              "#fb9f3a"
             ],
             [
              0.8888888888888888,
              "#fdca26"
             ],
             [
              1,
              "#f0f921"
             ]
            ],
            "type": "heatmapgl"
           }
          ],
          "histogram": [
           {
            "marker": {
             "colorbar": {
              "outlinewidth": 0,
              "ticks": ""
             }
            },
            "type": "histogram"
           }
          ],
          "histogram2d": [
           {
            "colorbar": {
             "outlinewidth": 0,
             "ticks": ""
            },
            "colorscale": [
             [
              0,
              "#0d0887"
             ],
             [
              0.1111111111111111,
              "#46039f"
             ],
             [
              0.2222222222222222,
              "#7201a8"
             ],
             [
              0.3333333333333333,
              "#9c179e"
             ],
             [
              0.4444444444444444,
              "#bd3786"
             ],
             [
              0.5555555555555556,
              "#d8576b"
             ],
             [
              0.6666666666666666,
              "#ed7953"
             ],
             [
              0.7777777777777778,
              "#fb9f3a"
             ],
             [
              0.8888888888888888,
              "#fdca26"
             ],
             [
              1,
              "#f0f921"
             ]
            ],
            "type": "histogram2d"
           }
          ],
          "histogram2dcontour": [
           {
            "colorbar": {
             "outlinewidth": 0,
             "ticks": ""
            },
            "colorscale": [
             [
              0,
              "#0d0887"
             ],
             [
              0.1111111111111111,
              "#46039f"
             ],
             [
              0.2222222222222222,
              "#7201a8"
             ],
             [
              0.3333333333333333,
              "#9c179e"
             ],
             [
              0.4444444444444444,
              "#bd3786"
             ],
             [
              0.5555555555555556,
              "#d8576b"
             ],
             [
              0.6666666666666666,
              "#ed7953"
             ],
             [
              0.7777777777777778,
              "#fb9f3a"
             ],
             [
              0.8888888888888888,
              "#fdca26"
             ],
             [
              1,
              "#f0f921"
             ]
            ],
            "type": "histogram2dcontour"
           }
          ],
          "mesh3d": [
           {
            "colorbar": {
             "outlinewidth": 0,
             "ticks": ""
            },
            "type": "mesh3d"
           }
          ],
          "parcoords": [
           {
            "line": {
             "colorbar": {
              "outlinewidth": 0,
              "ticks": ""
             }
            },
            "type": "parcoords"
           }
          ],
          "pie": [
           {
            "automargin": true,
            "type": "pie"
           }
          ],
          "scatter": [
           {
            "marker": {
             "colorbar": {
              "outlinewidth": 0,
              "ticks": ""
             }
            },
            "type": "scatter"
           }
          ],
          "scatter3d": [
           {
            "line": {
             "colorbar": {
              "outlinewidth": 0,
              "ticks": ""
             }
            },
            "marker": {
             "colorbar": {
              "outlinewidth": 0,
              "ticks": ""
             }
            },
            "type": "scatter3d"
           }
          ],
          "scattercarpet": [
           {
            "marker": {
             "colorbar": {
              "outlinewidth": 0,
              "ticks": ""
             }
            },
            "type": "scattercarpet"
           }
          ],
          "scattergeo": [
           {
            "marker": {
             "colorbar": {
              "outlinewidth": 0,
              "ticks": ""
             }
            },
            "type": "scattergeo"
           }
          ],
          "scattergl": [
           {
            "marker": {
             "colorbar": {
              "outlinewidth": 0,
              "ticks": ""
             }
            },
            "type": "scattergl"
           }
          ],
          "scattermapbox": [
           {
            "marker": {
             "colorbar": {
              "outlinewidth": 0,
              "ticks": ""
             }
            },
            "type": "scattermapbox"
           }
          ],
          "scatterpolar": [
           {
            "marker": {
             "colorbar": {
              "outlinewidth": 0,
              "ticks": ""
             }
            },
            "type": "scatterpolar"
           }
          ],
          "scatterpolargl": [
           {
            "marker": {
             "colorbar": {
              "outlinewidth": 0,
              "ticks": ""
             }
            },
            "type": "scatterpolargl"
           }
          ],
          "scatterternary": [
           {
            "marker": {
             "colorbar": {
              "outlinewidth": 0,
              "ticks": ""
             }
            },
            "type": "scatterternary"
           }
          ],
          "surface": [
           {
            "colorbar": {
             "outlinewidth": 0,
             "ticks": ""
            },
            "colorscale": [
             [
              0,
              "#0d0887"
             ],
             [
              0.1111111111111111,
              "#46039f"
             ],
             [
              0.2222222222222222,
              "#7201a8"
             ],
             [
              0.3333333333333333,
              "#9c179e"
             ],
             [
              0.4444444444444444,
              "#bd3786"
             ],
             [
              0.5555555555555556,
              "#d8576b"
             ],
             [
              0.6666666666666666,
              "#ed7953"
             ],
             [
              0.7777777777777778,
              "#fb9f3a"
             ],
             [
              0.8888888888888888,
              "#fdca26"
             ],
             [
              1,
              "#f0f921"
             ]
            ],
            "type": "surface"
           }
          ],
          "table": [
           {
            "cells": {
             "fill": {
              "color": "#EBF0F8"
             },
             "line": {
              "color": "white"
             }
            },
            "header": {
             "fill": {
              "color": "#C8D4E3"
             },
             "line": {
              "color": "white"
             }
            },
            "type": "table"
           }
          ]
         },
         "layout": {
          "annotationdefaults": {
           "arrowcolor": "#2a3f5f",
           "arrowhead": 0,
           "arrowwidth": 1
          },
          "autotypenumbers": "strict",
          "coloraxis": {
           "colorbar": {
            "outlinewidth": 0,
            "ticks": ""
           }
          },
          "colorscale": {
           "diverging": [
            [
             0,
             "#8e0152"
            ],
            [
             0.1,
             "#c51b7d"
            ],
            [
             0.2,
             "#de77ae"
            ],
            [
             0.3,
             "#f1b6da"
            ],
            [
             0.4,
             "#fde0ef"
            ],
            [
             0.5,
             "#f7f7f7"
            ],
            [
             0.6,
             "#e6f5d0"
            ],
            [
             0.7,
             "#b8e186"
            ],
            [
             0.8,
             "#7fbc41"
            ],
            [
             0.9,
             "#4d9221"
            ],
            [
             1,
             "#276419"
            ]
           ],
           "sequential": [
            [
             0,
             "#0d0887"
            ],
            [
             0.1111111111111111,
             "#46039f"
            ],
            [
             0.2222222222222222,
             "#7201a8"
            ],
            [
             0.3333333333333333,
             "#9c179e"
            ],
            [
             0.4444444444444444,
             "#bd3786"
            ],
            [
             0.5555555555555556,
             "#d8576b"
            ],
            [
             0.6666666666666666,
             "#ed7953"
            ],
            [
             0.7777777777777778,
             "#fb9f3a"
            ],
            [
             0.8888888888888888,
             "#fdca26"
            ],
            [
             1,
             "#f0f921"
            ]
           ],
           "sequentialminus": [
            [
             0,
             "#0d0887"
            ],
            [
             0.1111111111111111,
             "#46039f"
            ],
            [
             0.2222222222222222,
             "#7201a8"
            ],
            [
             0.3333333333333333,
             "#9c179e"
            ],
            [
             0.4444444444444444,
             "#bd3786"
            ],
            [
             0.5555555555555556,
             "#d8576b"
            ],
            [
             0.6666666666666666,
             "#ed7953"
            ],
            [
             0.7777777777777778,
             "#fb9f3a"
            ],
            [
             0.8888888888888888,
             "#fdca26"
            ],
            [
             1,
             "#f0f921"
            ]
           ]
          },
          "colorway": [
           "#636efa",
           "#EF553B",
           "#00cc96",
           "#ab63fa",
           "#FFA15A",
           "#19d3f3",
           "#FF6692",
           "#B6E880",
           "#FF97FF",
           "#FECB52"
          ],
          "font": {
           "color": "#2a3f5f"
          },
          "geo": {
           "bgcolor": "white",
           "lakecolor": "white",
           "landcolor": "#E5ECF6",
           "showlakes": true,
           "showland": true,
           "subunitcolor": "white"
          },
          "hoverlabel": {
           "align": "left"
          },
          "hovermode": "closest",
          "mapbox": {
           "style": "light"
          },
          "paper_bgcolor": "white",
          "plot_bgcolor": "#E5ECF6",
          "polar": {
           "angularaxis": {
            "gridcolor": "white",
            "linecolor": "white",
            "ticks": ""
           },
           "bgcolor": "#E5ECF6",
           "radialaxis": {
            "gridcolor": "white",
            "linecolor": "white",
            "ticks": ""
           }
          },
          "scene": {
           "xaxis": {
            "backgroundcolor": "#E5ECF6",
            "gridcolor": "white",
            "gridwidth": 2,
            "linecolor": "white",
            "showbackground": true,
            "ticks": "",
            "zerolinecolor": "white"
           },
           "yaxis": {
            "backgroundcolor": "#E5ECF6",
            "gridcolor": "white",
            "gridwidth": 2,
            "linecolor": "white",
            "showbackground": true,
            "ticks": "",
            "zerolinecolor": "white"
           },
           "zaxis": {
            "backgroundcolor": "#E5ECF6",
            "gridcolor": "white",
            "gridwidth": 2,
            "linecolor": "white",
            "showbackground": true,
            "ticks": "",
            "zerolinecolor": "white"
           }
          },
          "shapedefaults": {
           "line": {
            "color": "#2a3f5f"
           }
          },
          "ternary": {
           "aaxis": {
            "gridcolor": "white",
            "linecolor": "white",
            "ticks": ""
           },
           "baxis": {
            "gridcolor": "white",
            "linecolor": "white",
            "ticks": ""
           },
           "bgcolor": "#E5ECF6",
           "caxis": {
            "gridcolor": "white",
            "linecolor": "white",
            "ticks": ""
           }
          },
          "title": {
           "x": 0.05
          },
          "xaxis": {
           "automargin": true,
           "gridcolor": "white",
           "linecolor": "white",
           "ticks": "",
           "title": {
            "standoff": 15
           },
           "zerolinecolor": "white",
           "zerolinewidth": 2
          },
          "yaxis": {
           "automargin": true,
           "gridcolor": "white",
           "linecolor": "white",
           "ticks": "",
           "title": {
            "standoff": 15
           },
           "zerolinecolor": "white",
           "zerolinewidth": 2
          }
         }
        },
        "title": {
         "text": "Pearson Correlation of Integer-type features"
        },
        "width": 900,
        "xaxis": {
         "nticks": 36,
         "ticks": ""
        },
        "yaxis": {
         "ticks": ""
        }
       }
      },
      "text/html": [
       "<div>                            <div id=\"314b7a63-fd28-4a9b-be8e-0a7b0e8711cb\" class=\"plotly-graph-div\" style=\"height:700px; width:900px;\"></div>            <script type=\"text/javascript\">                require([\"plotly\"], function(Plotly) {                    window.PLOTLYENV=window.PLOTLYENV || {};                                    if (document.getElementById(\"314b7a63-fd28-4a9b-be8e-0a7b0e8711cb\")) {                    Plotly.newPlot(                        \"314b7a63-fd28-4a9b-be8e-0a7b0e8711cb\",                        [{\"colorscale\": [[0.0, \"#440154\"], [0.1111111111111111, \"#482878\"], [0.2222222222222222, \"#3e4989\"], [0.3333333333333333, \"#31688e\"], [0.4444444444444444, \"#26828e\"], [0.5555555555555556, \"#1f9e89\"], [0.6666666666666666, \"#35b779\"], [0.7777777777777778, \"#6ece58\"], [0.8888888888888888, \"#b5de2b\"], [1.0, \"#fde725\"]], \"opacity\": 1.0, \"reversescale\": false, \"type\": \"heatmap\", \"x\": [\"id\", \"target\", \"ps_ind_01\", \"ps_ind_02_cat\", \"ps_ind_03\", \"ps_ind_04_cat\", \"ps_ind_05_cat\", \"ps_ind_06_bin\", \"ps_ind_07_bin\", \"ps_ind_08_bin\", \"ps_ind_09_bin\", \"ps_ind_10_bin\", \"ps_ind_11_bin\", \"ps_ind_12_bin\", \"ps_ind_13_bin\", \"ps_ind_14\", \"ps_ind_15\", \"ps_ind_16_bin\", \"ps_ind_17_bin\", \"ps_ind_18_bin\", \"ps_car_01_cat\", \"ps_car_02_cat\", \"ps_car_03_cat\", \"ps_car_04_cat\", \"ps_car_05_cat\", \"ps_car_06_cat\", \"ps_car_07_cat\", \"ps_car_08_cat\", \"ps_car_09_cat\", \"ps_car_10_cat\", \"ps_car_11_cat\", \"ps_car_11\", \"ps_calc_04\", \"ps_calc_05\", \"ps_calc_06\", \"ps_calc_07\", \"ps_calc_08\", \"ps_calc_09\", \"ps_calc_10\", \"ps_calc_11\", \"ps_calc_12\", \"ps_calc_13\", \"ps_calc_14\", \"ps_calc_15_bin\", \"ps_calc_16_bin\", \"ps_calc_17_bin\", \"ps_calc_18_bin\", \"ps_calc_19_bin\", \"ps_calc_20_bin\"], \"y\": [\"id\", \"target\", \"ps_ind_01\", \"ps_ind_02_cat\", \"ps_ind_03\", \"ps_ind_04_cat\", \"ps_ind_05_cat\", \"ps_ind_06_bin\", \"ps_ind_07_bin\", \"ps_ind_08_bin\", \"ps_ind_09_bin\", \"ps_ind_10_bin\", \"ps_ind_11_bin\", \"ps_ind_12_bin\", \"ps_ind_13_bin\", \"ps_ind_14\", \"ps_ind_15\", \"ps_ind_16_bin\", \"ps_ind_17_bin\", \"ps_ind_18_bin\", \"ps_car_01_cat\", \"ps_car_02_cat\", \"ps_car_03_cat\", \"ps_car_04_cat\", \"ps_car_05_cat\", \"ps_car_06_cat\", \"ps_car_07_cat\", \"ps_car_08_cat\", \"ps_car_09_cat\", \"ps_car_10_cat\", \"ps_car_11_cat\", \"ps_car_11\", \"ps_calc_04\", \"ps_calc_05\", \"ps_calc_06\", \"ps_calc_07\", \"ps_calc_08\", \"ps_calc_09\", \"ps_calc_10\", \"ps_calc_11\", \"ps_calc_12\", \"ps_calc_13\", \"ps_calc_14\", \"ps_calc_15_bin\", \"ps_calc_16_bin\", \"ps_calc_17_bin\", \"ps_calc_18_bin\", \"ps_calc_19_bin\", \"ps_calc_20_bin\"], \"z\": [[1.0, -0.0001884755338288617, 0.0008258854725725193, 0.0016461276514639531, -0.0013074125556911606, 0.00016792048870333093, 2.1710319687882825e-05, -9.329673377344849e-05, 0.0024732074670059754, -0.00047893199093797294, -0.002207988997674901, -0.0012612850576084315, -0.0012098044261431328, -0.00017701120228207589, -0.0017178219451470902, -0.0011293527970858794, -0.001934992325309598, -0.0005004384418482244, 0.0013438936799832733, 0.0008157280242293081, -0.0010523840432399496, -0.0004033449463715611, 0.0003544609372827726, 0.0023098896739933137, -0.0008497364319568806, -0.0010096893760928646, -0.0029555818094072015, 0.0007475961383355612, 0.0004940853380072005, -0.0009282837448050599, 0.0020474413080606444, 0.0026413932462155797, 0.0036383179612103017, -0.0005915908500661377, 0.0009574769937878764, 0.0007882447910808956, 0.0008356128476278207, 0.0005176341988577643, 0.0009805335540469448, -0.0012488250195915361, -0.0010934546530963374, -0.00015701023640565565, 0.001609423824807779, -0.0012272973917304445, -0.0014120059005200628, -0.001266582915695949, -0.001387012489514096, 0.00019422494950414269, -0.0012665168671921183], [-0.0001884755338288617, 1.0, 0.018570258657506535, 0.00453383136849816, 0.008359590302657097, 0.009360445255589966, 0.029164946850886355, -0.03401686970378876, 0.03421807451412262, 0.01314697843872615, -0.00823681598558299, 0.0018147796965898109, 0.0020281711723569625, 0.007810308443393542, 0.00246029083193403, 0.007442830964742972, -0.021506221687934316, -0.027778075788542734, 0.037052606335855005, 0.004555455715152848, 0.016255693742637686, -0.03153359612457287, 0.032400970694275104, 0.032899874940120546, 0.020754434132826776, 0.011536659955726385, -0.03639522258780317, -0.020341933485980065, 0.005322494909291872, 0.0010382993212007298, 0.006128798326757138, -0.0012133568962176696, 3.2720455100222405e-05, 0.0007708801365326378, 8.182225978075785e-05, -0.00010347690485278524, -0.0010058548384191393, 0.0007189675843641542, 0.0010608340444789083, 0.00037143739489093637, -0.0011325853981362505, -0.0004464645318087174, 0.0013622753431191557, -0.0004904242506719329, 0.0006238280115020942, -0.00017012817365768916, 0.0005524351996118682, -0.0017438319546571681, -0.0010722284275397982], [0.0008258854725725193, 0.018570258657506535, 1.0, -0.0017931329140775944, 0.22340759382986847, 0.06664546508353122, 0.014822561201261034, -0.27745768415808075, 0.00569969365795639, 0.18858311700154065, 0.16279998618735886, 0.0018472289098374266, -0.01672658784345133, -0.023405980337517524, -0.008775500240628932, -0.024971197063820172, 0.12213672531018317, 0.03689566374827914, 0.1012570941332376, -0.11222626697683716, -0.05612096023073561, -0.1169866467920175, 0.04375596050029653, 0.0790415505477597, 0.21300928032912675, 0.07019202187337271, -0.0006393452905868237, 0.13811162890080816, -0.1025823298042105, 0.010793696829651062, 0.008187861301734246, 0.00825152755479824, -0.0009430787753138474, -0.0011711899555747148, 0.0001468321352008793, -0.0006583998180255231, 0.002992806788917109, -8.533923304090555e-05, -0.0013449818796920148, -0.0012629092646128783, 0.0015206567146658348, 0.00019895341092257275, -0.0008910685014910404, -0.000396790212426193, -1.1545248111385099e-05, -0.0008675973201928163, -0.0015035875469012964, -0.00016221628124592368, -0.0014640083176233343], [0.0016461276514639531, 0.00453383136849816, -0.0017931329140775944, 1.0, -0.06118914649577105, 0.14710969879178076, -0.014859825528708296, -0.12565283345802725, 0.016398444130573675, 0.030944960292278265, 0.1100758227176296, -0.0007443279033836952, 0.0007716519259243583, -0.004615510735839973, -0.0011867308079089051, -0.0036493908922690084, -0.0038542040298691796, 0.012682148590420253, -0.018727145555724953, -0.0003739401590444408, 0.00214850245374989, 0.04523308396698348, -0.0025317202816092376, -0.07218977632989523, -0.008406520927741008, -0.01730091230637514, -0.011780550385044154, 0.0015257604786327662, 0.009434534021788725, 0.011401456422615553, 0.014955195806606505, 0.019948833190253253, -0.0021110487327914455, -0.0015478301217311035, 8.548689230280353e-05, -0.00017173251468899272, -0.0027117639544354424, 0.00035567580972401837, -2.5425203495046437e-05, 3.793867444663322e-05, -0.0008836458794260957, -0.0008928474834448281, -0.0005185257387862071, -0.0001091639435274442, 0.0009195635201452163, 0.0005472321892405295, 0.0008240709263778052, 0.0003668294896141741, -0.0020700765230598026], [-0.0013074125556911606, 0.008359590302657097, 0.22340759382986847, -0.06118914649577105, 1.0, -0.09585556869304393, 0.05325005441445909, -0.04515789199467836, -0.060367903957314756, 0.014036610712041087, 0.11130640018521898, 0.006865123190642358, -0.003986479232333661, 0.001697689177732781, 0.003928626513903295, 0.0019895460604955257, 0.17044861491667543, -0.018251258015265386, 0.027691181225138046, 0.0013157749639168585, -0.028519891228702923, -0.04490674148712065, 0.09565776668522333, 0.07298961054229085, 0.14359654865840238, 0.008021293226146316, 0.056336933251669705, 0.003607155114376228, -0.013205469282503664, -0.008560954021639582, -0.025965901728807413, -0.059357784611531364, 0.0007029223319983066, -0.001244839816125983, 0.0023614979575574675, 0.0015325306198597161, 0.001266664959910297, -0.0015441777405826916, 0.000230287338373583, -0.0027155418811399185, -0.002352333366999052, 0.00013288787890949408, 0.00020474960687078366, 0.0001344327694191131, -0.0007442327813944093, 0.000157731563274207, -0.0002179273213074755, -0.0008816797556198087, -0.003709408579276534], [0.00016792048870333093, 0.009360445255589966, 0.06664546508353122, 0.14710969879178076, -0.09585556869304393, 1.0, 0.013052691401692348, -0.2977366046477001, 0.3049493783334564, 0.04497847332634309, -0.01144165781525834, 0.0007887076973389001, 0.0010183114528574887, -0.0012169376250814334, -0.0008934939930098885, -0.0006905936003553212, 0.07707144391312327, 0.01749705676812147, 0.007830396023881593, -0.025797485873876425, 0.02937937195109524, 0.003162109877964889, 0.022744376399026083, -0.04536129801832949, 0.06339932427116321, 0.025323615320999925, 0.06465523285480476, -0.00814754846801753, -0.04198301253597798, 0.02301043283394903, -0.0006146254081094967, 0.07348633332430111, 0.0008255181087075699, 0.0010277988730797306, 0.0026258399586142943, -0.00015073832344163923, -0.0027755450296133074, 0.00048656988775536863, 0.00012727421795224745, -0.0020008312385538024, -0.0008139493139821727, 0.0002834052581409762, 0.0015645496382111165, 0.0027346762054245234, 0.002295346203964965, 0.0007734421027413762, 0.0009158792230724631, -0.0019656334704160304, 0.001243938381928246], [2.1710319687882825e-05, 0.029164946850886355, 0.014822561201261034, -0.014859825528708296, 0.05325005441445909, 0.013052691401692348, 1.0, 0.009618800838443482, -0.010382188667300002, 0.004880747623598223, -0.005068731202141701, 0.001742475414532642, -0.0006363666372238363, -0.001831240440546116, 0.0013128732605405674, -0.0010128313488101447, 0.012326335746025272, 0.0043148996980541775, 0.007162777067762242, -0.008252314414916537, -0.036212853041022904, 0.012878919847941928, -0.011398778782571815, -0.01087319521611484, -0.006561608550007696, -0.0072299632053995895, 0.05377652521320651, -0.002083953743338254, -0.008333774284921073, 0.002168074446652444, -0.002249565476062125, 0.00107554475707992, 0.0012916973382756894, -0.0006420444921112528, -0.00024941758434445855, -0.0019023900274815755, -0.0001449036161313121, -0.0008217959389452798, -0.0010698729509168899, -0.0015247002980472058, 0.0009753755080751557, 0.001549156967187013, 0.002170835213002712, 0.0015480474512491566, -0.0003682362393573745, 0.00015309117899007583, 3.168678414855202e-05, 0.0002764781762418728, 0.00027869054705161115], [-9.329673377344849e-05, -0.03401686970378876, -0.27745768415808075, -0.12565283345802725, -0.04515789199467836, -0.2977366046477001, 0.009618800838443482, 1.0, -0.47400904185590065, -0.35683833274578663, -0.3843451401407788, -0.008977535013244928, -0.005229382248971487, -0.017498505238443797, -0.008390064166738214, -0.018333861999931117, 0.016406205154351216, 0.02835208353213777, -0.03712107367499544, -0.011750963576176823, -0.07554574375145577, 0.13638274599348738, -0.07572310218075869, -0.18701667626422974, -0.16489012332440905, -0.059887308797517635, 0.03899368073100131, 0.03831307031695165, 0.09918393763824071, -0.04105681120507276, -0.031296227706447, 0.019617618116459623, -0.0004089715175719974, -0.0005006935696663839, -0.0014131826801772216, -0.0015526558607739192, -0.0011636516201258254, -0.001955110116004253, -0.0011970978269563854, 0.000822002616531646, 0.0013465275777943119, -0.0013011186998591806, 0.00030393290259254327, 0.002087860311907922, -0.0003814511646830381, -1.2555595091234793e-06, -0.0007593038072496054, 0.0027907331412144387, 0.00020310560100537925], [0.0024732074670059754, 0.03421807451412262, 0.00569969365795639, 0.016398444130573675, -0.060367903957314756, 0.3049493783334564, -0.010382188667300002, -0.47400904185590065, 1.0, -0.2604376422119483, -0.28051342276950764, 0.010739652662842743, 0.010118980387019564, 0.03661915640731901, 0.012124758822770546, 0.03557264161494319, -0.12072867940687827, -0.07232059014992281, 0.02077615194714269, 0.07656187216203816, 0.06206386799788505, -0.1626010123600336, 0.09648343943349459, 0.19970161209131007, 0.09210731694598842, 0.021012550690521433, -0.06470797501921204, -0.12382519653908655, -0.0592293173221672, 0.03055616289712624, 0.047940110791918684, 0.06745692509835807, 0.0004704805518061534, -0.00020263779193792028, 0.002257467971971457, -0.0007715341800744943, -0.001416721144687028, 0.0031034025355962443, 0.0027643720885982604, -0.0004476413449922488, -0.0010438535583305107, 0.0005412369024749237, 0.0016655249364763605, 0.0005749746503449937, 0.0012197619159721711, -0.0005167363145836902, 0.00018148010907771236, -0.0013611791678382662, -0.0009608000950925157], [-0.00047893199093797294, 0.01314697843872615, 0.18858311700154065, 0.030944960292278265, 0.014036610712041087, 0.04497847332634309, 0.004880747623598223, -0.35683833274578663, -0.2604376422119483, 1.0, -0.21117306476257283, 0.00648910678812291, 0.01004126116128275, 0.012254073500153414, 0.00789832266424952, 0.015413123032177485, 0.05277557417447597, 0.005854905555369783, 0.03603562289265076, -0.033272544654311044, 0.0009741110543532989, -0.02998861680480674, 0.038462429631775534, 0.08495716267080043, 0.06388874607199731, 0.0633731246240447, -0.010976242373907905, 0.0427922674881171, -0.01092006270648234, 0.025327537974384917, 0.04137147693429582, -0.08219336872997224, -0.000886292161431818, 0.0006032890364046535, 0.0012489817846111845, 0.0015137952726527234, 0.0008268945510473188, -0.0011713719830285256, -0.0010929434068361558, -0.0006318117597186088, -0.0012414424693482822, -0.0004320285599226011, -0.001959159535716181, -0.0027823010069026946, -0.002047724572754881, -0.0005794594623613974, -6.765604151575159e-05, -0.0009190393767006633, 0.0009953591808107968], [-0.002207988997674901, -0.00823681598558299, 0.16279998618735886, 0.1100758227176296, 0.11130640018521898, -0.01144165781525834, -0.005068731202141701, -0.3843451401407788, -0.28051342276950764, -0.21117306476257283, 1.0, -0.006972868230142464, -0.014372442368659335, -0.03085777558224147, -0.01061212790836212, -0.03164026527129085, 0.0648696072412233, 0.04010922430466359, -0.011023469836738858, -0.039631180000228874, 0.024264102635430683, 0.03995547974899175, -0.04994363372858587, -0.07038654070759681, 0.042876133486040684, -0.008708840542970362, 0.0342025767359246, 0.05031732944387525, -0.04769976109596489, -0.0068714152391403166, -0.05398346478905472, -0.022223839633944514, 0.0008295720883777965, 0.00028269745744931654, -0.0019519948882590844, 0.001377811100217233, 0.0022687777239878753, 8.41415927831592e-05, -0.0005624466536854737, 7.181830788419638e-05, 0.0006636678133101164, 0.0014390105937547816, -0.0003887243838992524, -0.000621106833525824, 0.0010588568857560125, 0.0011348640561092116, 0.0008151460825754955, -0.0011026523735666283, -0.00012315711435225912], [-0.0012612850576084315, 0.0018147796965898109, 0.0018472289098374266, -0.0007443279033836952, 0.006865123190642358, 0.0007887076973389001, 0.001742475414532642, -0.008977535013244928, 0.010739652662842743, 0.00648910678812291, -0.006972868230142464, 1.0, 0.06483734787255138, 0.09799846252846069, 0.08141549712952234, 0.26621523092448607, -0.022122320890722195, -0.02402137565373142, 0.005366401619387072, 0.027264135678883677, 0.007989028500674941, -0.015804418556358685, 0.024833271794445742, 0.016566215782234283, 0.015251836567305199, 0.004487183793875703, -0.017804258593691946, -0.00365962070244524, 0.00826644095651261, 0.0007083813828402774, 0.005909491658796863, 0.0025262371890389795, 3.1000198017766065e-05, 0.0013288695124036788, -0.002677298661139917, 0.0012737060249414815, 0.0014216349339402805, 0.002842382982119299, -0.00036716982018740517, -0.0023492443946824377, 0.0013666102034255417, 0.001968875596117635, 0.00023239812553012024, -0.0032329018832703716, 0.0010115230415514774, 0.00034511455870640405, 0.00023955239726456678, 0.0015546541592544052, -0.003389818864850354], [-0.0012098044261431328, 0.0020281711723569625, -0.01672658784345133, 0.0007716519259243583, -0.003986479232333661, 0.0010183114528574887, -0.0006363666372238363, -0.005229382248971487, 0.010118980387019564, 0.01004126116128275, -0.014372442368659335, 0.06483734787255138, 1.0, 0.25007638185970965, 0.1794321903326253, 0.5649029739333457, -0.061251275473340375, -0.0540074226643599, 0.0035177531682558942, 0.06901728994326506, 0.0042048920721662105, -0.002474353574915442, 0.04610459759768675, 0.0085945059625506, 0.030782623751734642, 0.0022573006998290747, -0.016299801093019185, -0.0044735785340234025, 0.021168527983197474, -0.0018207469445127144, 0.005671365912101772, 0.001154208305592368, -0.0011960063936610893, -0.00011120385630559379, 0.0009108295017515643, -0.0017878545885293084, 0.0009946385801930036, 0.0006751295016578906, 0.0010608594409770634, 0.00018449154616455044, -0.0006120933976261155, 0.00030406758932433335, -0.0007858590549898202, -0.0006590162500354598, 0.0014178496831878235, 0.0010641208942453434, -0.0011015992238865807, -0.001240728524270899, 0.0004094125500090158], [-0.00017701120228207589, 0.007810308443393542, -0.023405980337517524, -0.004615510735839973, 0.001697689177732781, -0.0012169376250814334, -0.001831240440546116, -0.017498505238443797, 0.03661915640731901, 0.012254073500153414, -0.03085777558224147, 0.09799846252846069, 0.25007638185970965, 1.0, 0.15172760153857986, 0.8901272526545638, -0.11699521962411863, -0.09944135106476579, 0.02518058116953121, 0.10928667412377306, 0.016351323808765986, -0.01722907241506039, 0.12076679710050318, 0.027940354431978034, 0.07047807765090647, 0.004409331864014702, -0.03441622646998587, -0.013323354070164575, 0.044120564246909987, -0.00508592585113693, 0.011473568431545473, 0.004440512322791722, -0.0010630051163157137, 0.00018512789954192084, 0.0005169369254961482, 0.0017231519792362958, 0.0037837821118346824, -0.0020161776675533686, 0.0019267518147431442, 0.00012896012169149823, 0.0008132382695526005, 0.0005585972004819212, -0.0005013388256770008, -0.0016324069179149605, 0.0017539182011456023, 0.0013843957989970695, -0.0013589599814288781, -0.001779382287807932, 0.0031663201946022547], [-0.0017178219451470902, 0.00246029083193403, -0.008775500240628932, -0.0011867308079089051, 0.003928626513903295, -0.0008934939930098885, 0.0013128732605405674, -0.008390064166738214, 0.012124758822770546, 0.00789832266424952, -0.01061212790836212, 0.08141549712952234, 0.1794321903326253, 0.15172760153857986, 1.0, 0.4263998836255218, -0.040485851127797366, -0.04068044208739153, 0.0041361256641475955, 0.050823104091766845, 0.005814603173879321, -0.008441249275001582, 0.0377182760422602, 0.014655985827389813, 0.02347110679423096, 0.0016058356563030697, -0.015614273025673404, -0.005009607474508767, 0.014756941996862139, 0.00025957963229845135, 0.004531083396472349, 0.0012340690299426076, 0.00034928436518941267, -0.0004156835108901136, -0.0021626888021852183, 0.0004136479843598627, 0.002790331203399629, -0.002330326502165297, 0.0009485297239872661, -0.00018583926200945724, -0.0014181281398898933, -0.002125385276738932, 0.0008745250585350082, 0.0004916403631589377, 0.0015699943019599183, -0.0029176616014177973, -0.00011712544370351973, 0.002079286759967088, -0.0009808134646700517], [-0.0011293527970858794, 0.007442830964742972, -0.024971197063820172, -0.0036493908922690084, 0.0019895460604955257, -0.0006905936003553212, -0.0010128313488101447, -0.018333861999931117, 0.03557264161494319, 0.015413123032177485, -0.03164026527129085, 0.26621523092448607, 0.5649029739333457, 0.8901272526545638, 0.4263998836255218, 1.0, -0.12154712140311677, -0.106239689861127, 0.02203333701058792, 0.12147762405541038, 0.016363129867995888, -0.01828775355074768, 0.11926866345761901, 0.029994631058182668, 0.07131983388437584, 0.005136795765281479, -0.03780543277647762, -0.013304549300039097, 0.04508043877617706, -0.004272510572028673, 0.012513326139616473, 0.004418449708877969, -0.0011022975070719497, 0.00020541688400003567, -0.0002416453387590575, 0.0010228747040333251, 0.004077353989613895, -0.0014427896242199597, 0.001975748285363052, -0.0002432697006175229, 0.0002840910135919725, 0.00030681115008979426, -0.0003871413338074719, -0.001820720685571289, 0.002318386702039322, 0.0007408167748215124, -0.0013771848219666489, -0.0010118034751282255, 0.0017825538619420395], [-0.001934992325309598, -0.021506221687934316, 0.12213672531018317, -0.0038542040298691796, 0.17044861491667543, 0.07707144391312327, 0.012326335746025272, 0.016406205154351216, -0.12072867940687827, 0.05277557417447597, 0.0648696072412233, -0.022122320890722195, -0.061251275473340375, -0.11699521962411863, -0.040485851127797366, -0.12154712140311677, 1.0, 0.3124495031022657, -0.02188413031183136, -0.4516894099742072, 0.02569045128606022, 0.00899010637483375, 0.06539839780086634, -0.047147427101064614, 0.05151699052704684, 0.0008576242267399711, 0.05970332843157361, 0.016783815050164748, 0.03787983280939092, 0.016128999534946106, -0.014094740994885382, 0.02299969506196376, 0.001583612723436242, 0.0008742837980309493, 3.349415158363572e-05, 0.0017213970445803973, -0.0013086573803491668, -0.0009849673818418103, -0.0012787059555369506, -0.0019515651504138044, -0.0012626527588530665, -0.000921686741159908, 0.0013483433788114031, 0.0007020649300867855, -0.001915365956106812, 0.0011762611405260832, -0.0013255253293403624, 0.0017437917830255083, -0.0020395145220801205], [-0.0005004384418482244, -0.027778075788542734, 0.03689566374827914, 0.012682148590420253, -0.018251258015265386, 0.01749705676812147, 0.0043148996980541775, 0.02835208353213777, -0.07232059014992281, 0.005854905555369783, 0.04010922430466359, -0.02402137565373142, -0.0540074226643599, -0.09944135106476579, -0.04068044208739153, -0.106239689861127, 0.3124495031022657, 1.0, -0.5180763597376604, -0.5942654327422761, 0.00044932875105786117, 0.030264159750243883, -0.04949269493946449, -0.04443245801607432, -0.058248842391420516, -0.016400415460856074, 0.04383000428941703, 0.03026590825430404, 0.015873261962410123, 0.006596901955516886, -0.009989048367143528, 0.021089277139603096, -0.00015427566393725136, 0.0013615649246193945, -0.0003549050683784064, 0.0010701810792920843, -0.0019205651214934604, -0.0004273838950783198, -0.0009309516956551648, -0.0005474330902515618, 0.00047885679021953564, -0.0012057081347718506, -0.00016701443375198525, 0.000928933859436279, -0.0004946092252123201, -0.000432323026064183, 9.26933091093104e-05, 0.0003020462737220039, 0.001519207560397156], [0.0013438936799832733, 0.037052606335855005, 0.1012570941332376, -0.018727145555724953, 0.027691181225138046, 0.007830396023881593, 0.007162777067762242, -0.03712107367499544, 0.02077615194714269, 0.03603562289265076, -0.011023469836738858, 0.005366401619387072, 0.0035177531682558942, 0.02518058116953121, 0.0041361256641475955, 0.02203333701058792, -0.02188413031183136, -0.5180763597376604, 1.0, -0.15802098729292113, 0.058875653615432226, -0.05625958463625057, 0.13732818747640027, 0.044550019804100456, 0.06773302596234079, 0.0340671326887404, -0.04366212443161366, -0.00820021619366301, 0.07609946186510466, -0.008669005786247434, 0.007732623493302297, 0.008827122880141482, 0.0006707357574948884, -0.002826707031906842, -0.00033818799337827937, -0.0007815553133850878, -0.0006022847454017239, 0.000591321147031268, -0.0006993075561928123, -0.0010905132359761071, -0.0008502466566824664, 0.00042878043890859477, 0.0007460892730811583, -0.0015898973720920525, -0.00021109233161472496, -0.0002421374844425615, 4.6684570862882744e-05, -0.0007755225209412626, -0.001922700612824353], [0.0008157280242293081, 0.004555455715152848, -0.11222626697683716, -0.0003739401590444408, 0.0013157749639168585, -0.025797485873876425, -0.008252314414916537, -0.011750963576176823, 0.07656187216203816, -0.033272544654311044, -0.039631180000228874, 0.027264135678883677, 0.06901728994326506, 0.10928667412377306, 0.050823104091766845, 0.12147762405541038, -0.4516894099742072, -0.5942654327422761, -0.15802098729292113, 1.0, -0.04596757669594359, 0.006388259993779028, -0.041079456852142725, 0.018748038227366905, -0.003212068860615737, -0.007200395427363072, -0.017357635513052336, -0.027826551074893967, -0.044733473917460624, -0.003241940278548797, 0.004609844546416747, -0.02613502452139039, -0.0009732616497496337, -0.0001956279446045222, 0.001124606656781667, -2.5850049554222618e-05, 0.0018345907179115205, 0.00011597648018878906, 0.0013640036829747895, 0.002110541450555667, 0.0015743622718326646, 0.0019922297476804548, -0.0012387502670017302, -0.0003786053015244637, -8.221784186824308e-05, 6.434466221087021e-05, 7.039774777351157e-05, -0.0007859433395340347, 0.0007240485980728472], [-0.0010523840432399496, 0.016255693742637686, -0.05612096023073561, 0.00214850245374989, -0.028519891228702923, 0.02937937195109524, -0.036212853041022904, -0.07554574375145577, 0.06206386799788505, 0.0009741110543532989, 0.024264102635430683, 0.007989028500674941, 0.0042048920721662105, 0.016351323808765986, 0.005814603173879321, 0.016363129867995888, 0.02569045128606022, 0.00044932875105786117, 0.058875653615432226, -0.04596757669594359, 1.0, -0.1527326305202657, 0.13805458898633027, 0.067732393302395, -0.14725757311134435, 0.05332586747347315, 0.0010712044261129016, -0.05954768418603375, 0.27290021926541275, 0.006355097797608369, 0.010497666747185217, 0.11092050571881658, 0.0003954303917060711, -0.0012297197856098755, -0.0012509298116333439, -0.0006230035403697138, -0.001207073641473125, 4.220234506755867e-05, 0.0014431604443318454, -0.0004247629899175609, -0.0007933308500309729, 0.0008740417878425334, 6.95669943874719e-05, 0.0009652394539101881, -0.0010678795853459174, 0.0004024551616458192, 0.0003641136670927075, 0.0005198560815098639, -0.0005613985985714569], [-0.0004033449463715611, -0.03153359612457287, -0.1169866467920175, 0.04523308396698348, -0.04490674148712065, 0.003162109877964889, 0.012878919847941928, 0.13638274599348738, -0.1626010123600336, -0.02998861680480674, 0.03995547974899175, -0.015804418556358685, -0.002474353574915442, -0.01722907241506039, -0.008441249275001582, -0.01828775355074768, 0.00899010637483375, 0.030264159750243883, -0.05625958463625057, 0.006388259993779028, -0.1527326305202657, 1.0, -0.11109462485657533, -0.27367236888619156, -0.09208322478163421, -0.25308889280600144, 0.10363238078759578, 0.03604366860466036, -0.012977575535680831, -0.019088186796559166, -0.0009649638104166794, -0.09014365639883624, 0.00028670069159318856, 0.00043965375966645417, -0.0018349663534806147, -4.2806839795007884e-05, 0.000685063371450163, -0.0005509059261274756, -0.0005988402310767637, -0.0008341968657931889, 0.0020520906048643517, 0.0012427813649456252, -9.926418773619016e-05, -1.4807280235949815e-05, -0.0029475272140969564, -0.001077583489975626, -0.0011509779965209698, -0.0014296408355096264, 0.0009304624944871983], [0.0003544609372827726, 0.032400970694275104, 0.04375596050029653, -0.0025317202816092376, 0.09565776668522333, 0.022744376399026083, -0.011398778782571815, -0.07572310218075869, 0.09648343943349459, 0.038462429631775534, -0.04994363372858587, 0.024833271794445742, 0.04610459759768675, 0.12076679710050318, 0.0377182760422602, 0.11926866345761901, 0.06539839780086634, -0.04949269493946449, 0.13732818747640027, -0.041079456852142725, 0.13805458898633027, -0.11109462485657533, 1.0, 0.09719274174853969, 0.48978942740784726, 0.03305829220475693, -0.1483385551523895, -0.24866229809247814, 0.2724071564135307, 0.014220105244585708, 0.015778200128538252, 0.08254922005109025, -0.0004509803278143931, -0.0003693202386897241, 0.00043014794862627587, 0.003070667843488631, 0.0021179978533095375, 0.0003282253752557591, 0.0012104089806038827, -0.0026947000599002163, -0.002595880715245505, 0.0008592066483024779, 0.0012823032623227356, -0.0004809622024844747, -0.000900009112242032, -0.0021900877080210674, -0.0013022430575787994, -0.00041450859584372094, 0.0014224541267771362], [0.0023098896739933137, 0.032899874940120546, 0.0790415505477597, -0.07218977632989523, 0.07298961054229085, -0.04536129801832949, -0.01087319521611484, -0.18701667626422974, 0.19970161209131007, 0.08495716267080043, -0.07038654070759681, 0.016566215782234283, 0.0085945059625506, 0.027940354431978034, 0.014655985827389813, 0.029994631058182668, -0.047147427101064614, -0.04443245801607432, 0.044550019804100456, 0.018748038227366905, 0.067732393302395, -0.27367236888619156, 0.09719274174853969, 1.0, 0.14100313376171197, 0.19401461615439022, -0.18337425915248687, -0.051065725258350535, -0.039405291747578, 0.000720610959039244, 0.0704461484683812, -0.0573260789818462, 0.0009314839836572797, 0.0015387904761009362, 0.000871700118205042, 0.0002434918758918964, 0.001215931309403626, -0.0003188249939387811, 0.0014737778917998585, 0.001198066784985588, 0.0017213100009014935, 0.00042311633950088267, -0.0023388274799040387, 0.0013882598831327169, 0.000579727172497131, 0.0006342039000327394, 0.00012764466563053707, -0.0003200957840412163, -0.0005301916337567397], [-0.0008497364319568806, 0.020754434132826776, 0.21300928032912675, -0.008406520927741008, 0.14359654865840238, 0.06339932427116321, -0.006561608550007696, -0.16489012332440905, 0.09210731694598842, 0.06388874607199731, 0.042876133486040684, 0.015251836567305199, 0.030782623751734642, 0.07047807765090647, 0.02347110679423096, 0.07131983388437584, 0.05151699052704684, -0.058248842391420516, 0.06773302596234079, -0.003212068860615737, -0.14725757311134435, -0.09208322478163421, 0.48978942740784726, 0.14100313376171197, 1.0, 0.0610682766238693, -0.08375675814605713, -0.039809019414298305, -0.3277505348268821, 0.02348969807689091, 0.038105414387586516, -0.07678547179357709, -0.0016589918561348144, 0.00045146382393345454, 0.0004128396727017668, 0.0004412278133604194, 0.0016640401043848303, 4.603530801216634e-05, -0.0016082481209460618, -0.0017017001612186584, -0.00035882930966854473, 0.0013216260013875014, 0.001863807293097441, -0.0014997038236239928, 0.0013959473143630471, -0.0028145541534887798, -0.0008849150440565294, -0.0024179401571196727, 0.0001499412738778608], [-0.0010096893760928646, 0.011536659955726385, 0.07019202187337271, -0.01730091230637514, 0.008021293226146316, 0.025323615320999925, -0.0072299632053995895, -0.059887308797517635, 0.021012550690521433, 0.0633731246240447, -0.008708840542970362, 0.004487183793875703, 0.0022573006998290747, 0.004409331864014702, 0.0016058356563030697, 0.005136795765281479, 0.0008576242267399711, -0.016400415460856074, 0.0340671326887404, -0.007200395427363072, 0.05332586747347315, -0.25308889280600144, 0.03305829220475693, 0.19401461615439022, 0.0610682766238693, 1.0, -0.02611622835411814, -0.014611818480659572, 0.00332556907391343, -0.0032214358762773622, 0.02538467026236855, -0.030801632989563767, 0.0008598200601896396, 0.00157461285245382, 0.0011103477393886192, -4.896531776827232e-05, 0.0004921695588309738, 0.0025789004953305486, -0.0008241917715071704, 0.0011949560411559218, 0.0004671486827777795, -0.0020202515720043877, 0.0008061524226690235, 0.000689803382340044, 0.0012045255571496128, 0.0001356500415863611, 3.4775541413476665e-05, -0.0023403993866281878, -0.0005226832895863497], [-0.0029555818094072015, -0.03639522258780317, -0.0006393452905868237, -0.011780550385044154, 0.056336933251669705, 0.06465523285480476, 0.05377652521320651, 0.03899368073100131, -0.06470797501921204, -0.010976242373907905, 0.0342025767359246, -0.017804258593691946, -0.016299801093019185, -0.03441622646998587, -0.015614273025673404, -0.03780543277647762, 0.05970332843157361, 0.04383000428941703, -0.04366212443161366, -0.017357635513052336, 0.0010712044261129016, 0.10363238078759578, -0.1483385551523895, -0.18337425915248687, -0.08375675814605713, -0.02611622835411814, 1.0, 0.06452922604343284, -0.03960711477269268, 0.0044291015579415146, -0.07832725913625221, 0.05573757109188191, 0.00014317246993780027, -0.001766245537550099, 0.0013053744161650508, -9.291203883231048e-05, 0.0005499792456161905, -0.0014661881547167342, -0.00126972104570452, 0.0005028118507514468, 0.0001369791532856534, 0.0014953290730697968, 0.00029514287044668617, -0.0004381102787180161, -0.0012544219062167932, 0.0005855222178469649, 0.00034706241877984433, 0.001779644692049721, -0.0023689086360795504], [0.0007475961383355612, -0.020341933485980065, 0.13811162890080816, 0.0015257604786327662, 0.003607155114376228, -0.00814754846801753, -0.002083953743338254, 0.03831307031695165, -0.12382519653908655, 0.0427922674881171, 0.05031732944387525, -0.00365962070244524, -0.0044735785340234025, -0.013323354070164575, -0.005009607474508767, -0.013304549300039097, 0.016783815050164748, 0.03026590825430404, -0.00820021619366301, -0.027826551074893967, -0.05954768418603375, 0.03604366860466036, -0.24866229809247814, -0.051065725258350535, -0.039809019414298305, -0.014611818480659572, 0.06452922604343284, 1.0, -0.01629853642416545, -0.03125167998581104, 0.034364928649546336, -0.03852390264179931, -0.0013407294190590567, -0.0005443907527122171, -0.0014563424458635254, -0.0014425071088963843, 2.6762473594795134e-05, -0.0005307547879908729, -0.002119260300436465, 0.0015842335640350936, 0.0006383022193048909, 0.0003935211621869506, -0.0011690267707114414, -0.0010101875324818037, 0.0020955546330995254, 0.0013782617362007408, -0.0010009801233348515, 0.00037910847774122794, 0.0002479460755647001], [0.0004940853380072005, 0.005322494909291872, -0.1025823298042105, 0.009434534021788725, -0.013205469282503664, -0.04198301253597798, -0.008333774284921073, 0.09918393763824071, -0.0592293173221672, -0.01092006270648234, -0.04769976109596489, 0.00826644095651261, 0.021168527983197474, 0.044120564246909987, 0.014756941996862139, 0.04508043877617706, 0.03787983280939092, 0.015873261962410123, 0.07609946186510466, -0.044733473917460624, 0.27290021926541275, -0.012977575535680831, 0.2724071564135307, -0.039405291747578, -0.3277505348268821, 0.00332556907391343, -0.03960711477269268, -0.01629853642416545, 1.0, -0.023541068642756197, -0.011188268526019807, 0.11896944421500298, 0.0010399053973847712, 0.0007423801429440459, -0.0017702971365074723, 0.0020812179822101546, -0.0016920322564635982, -0.0012319557421361167, 0.0012705153842238798, -0.0011916824704647467, -0.0004672662506228167, -0.0004903231499660531, -0.0010919839975845078, 0.0009521778464269998, -0.0010595306612710786, -0.0005462931019553125, 0.0016412416111071387, 0.0012730291759389459, 0.000545645086234742], [-0.0009282837448050599, 0.0010382993212007298, 0.010793696829651062, 0.011401456422615553, -0.008560954021639582, 0.02301043283394903, 0.002168074446652444, -0.04105681120507276, 0.03055616289712624, 0.025327537974384917, -0.0068714152391403166, 0.0007083813828402774, -0.0018207469445127144, -0.00508592585113693, 0.00025957963229845135, -0.004272510572028673, 0.016128999534946106, 0.006596901955516886, -0.008669005786247434, -0.003241940278548797, 0.006355097797608369, -0.019088186796559166, 0.014220105244585708, 0.000720610959039244, 0.02348969807689091, -0.0032214358762773622, 0.0044291015579415146, -0.03125167998581104, -0.023541068642756197, 1.0, 0.0034926119778279107, 0.013412995647663671, -0.0022041886801724966, -0.00016428189498505667, -0.0016314199086927635, 3.345833882899232e-06, 0.002907789216375729, -0.0014115273416177374, -0.0015616995757234328, 0.001816659689651751, 0.0024027112854159804, 0.0029880880242695684, -0.0003593050636786701, -0.0008346704499100793, 0.001021239320656569, -0.0005117859571024149, 0.0007416018344101211, -0.0005855613681816042, 0.00023838942051957303], [0.0020474413080606444, 0.006128798326757138, 0.008187861301734246, 0.014955195806606505, -0.025965901728807413, -0.0006146254081094967, -0.002249565476062125, -0.031296227706447, 0.047940110791918684, 0.04137147693429582, -0.05398346478905472, 0.005909491658796863, 0.005671365912101772, 0.011473568431545473, 0.004531083396472349, 0.012513326139616473, -0.014094740994885382, -0.009989048367143528, 0.007732623493302297, 0.004609844546416747, 0.010497666747185217, -0.0009649638104166794, 0.015778200128538252, 0.0704461484683812, 0.038105414387586516, 0.02538467026236855, -0.07832725913625221, 0.034364928649546336, -0.011188268526019807, 0.0034926119778279107, 1.0, -0.04976970779843196, 0.00021324227842177014, -0.00018470178610373135, -0.001030552732421399, 0.0016531383200807618, -7.104884064442889e-05, 0.0016651672130308952, 0.001661053471775787, 1.1254065435811081e-05, -0.00035862222351401715, -0.000578026659641811, 0.0002478062054979929, -0.0011744468682769224, 0.0020541819917924507, 0.0029192141505096658, -0.0004828954298308084, -0.0003423887666784932, 0.0015132572839368853], [0.0026413932462155797, -0.0012133568962176696, 0.00825152755479824, 0.019948833190253253, -0.059357784611531364, 0.07348633332430111, 0.00107554475707992, 0.019617618116459623, 0.06745692509835807, -0.08219336872997224, -0.022223839633944514, 0.0025262371890389795, 0.001154208305592368, 0.004440512322791722, 0.0012340690299426076, 0.004418449708877969, 0.02299969506196376, 0.021089277139603096, 0.008827122880141482, -0.02613502452139039, 0.11092050571881658, -0.09014365639883624, 0.08254922005109025, -0.0573260789818462, -0.07678547179357709, -0.030801632989563767, 0.05573757109188191, -0.03852390264179931, 0.11896944421500298, 0.013412995647663671, -0.04976970779843196, 1.0, 0.0002249694527866357, 0.002458872518486961, -0.0002511156074101972, -0.0003302318320871622, -0.002458276048013527, -0.0005101365289598746, -0.0005672563408689047, -0.001206330546667298, -0.0011809019951366634, 0.0011334652327895202, 0.0009449124419320974, -0.0007033351603276393, 0.0005081330268082903, -9.260927347074229e-05, 0.0009303397770717671, 0.002231261537685798, 0.0012800385583023688], [0.0036383179612103017, 3.2720455100222405e-05, -0.0009430787753138474, -0.0021110487327914455, 0.0007029223319983066, 0.0008255181087075699, 0.0012916973382756894, -0.0004089715175719974, 0.0004704805518061534, -0.000886292161431818, 0.0008295720883777965, 3.1000198017766065e-05, -0.0011960063936610893, -0.0010630051163157137, 0.00034928436518941267, -0.0011022975070719497, 0.001583612723436242, -0.00015427566393725136, 0.0006707357574948884, -0.0009732616497496337, 0.0003954303917060711, 0.00028670069159318856, -0.0004509803278143931, 0.0009314839836572797, -0.0016589918561348144, 0.0008598200601896396, 0.00014317246993780027, -0.0013407294190590567, 0.0010399053973847712, -0.0022041886801724966, 0.00021324227842177014, 0.0002249694527866357, 1.0, 0.0006326671086388928, -0.0018453210760898278, 0.0014451241140302868, -0.001846554928669249, -3.835483364152018e-05, 5.835325109212987e-08, 0.00024456774542824333, 0.0009784493310665636, -0.00021462815569388283, 0.0011795606084717045, 0.0001718927120025671, -0.0008738127601136779, 0.0011856368490699145, 0.0011092144691557332, 0.0009016703557466313, 0.00014614969739931504], [-0.0005915908500661377, 0.0007708801365326378, -0.0011711899555747148, -0.0015478301217311035, -0.001244839816125983, 0.0010277988730797306, -0.0006420444921112528, -0.0005006935696663839, -0.00020263779193792028, 0.0006032890364046535, 0.00028269745744931654, 0.0013288695124036788, -0.00011120385630559379, 0.00018512789954192084, -0.0004156835108901136, 0.00020541688400003567, 0.0008742837980309493, 0.0013615649246193945, -0.002826707031906842, -0.0001956279446045222, -0.0012297197856098755, 0.00043965375966645417, -0.0003693202386897241, 0.0015387904761009362, 0.00045146382393345454, 0.00157461285245382, -0.001766245537550099, -0.0005443907527122171, 0.0007423801429440459, -0.00016428189498505667, -0.00018470178610373135, 0.002458872518486961, 0.0006326671086388928, 1.0, -0.0013940213742289157, -0.002211754327912519, -0.0017921422616910185, 0.0011537560131772333, -0.00023581508931643148, 0.00038680272386482404, -0.0002117009452892736, 0.0002703331399211816, -0.0009686463055697029, 7.896468850627976e-05, -0.0009427509379795304, -0.0009852664395451243, -0.0004058525742929777, 0.00026514988456800864, 0.0014943221390320992], [0.0009574769937878764, 8.182225978075785e-05, 0.0001468321352008793, 8.548689230280353e-05, 0.0023614979575574675, 0.0026258399586142943, -0.00024941758434445855, -0.0014131826801772216, 0.002257467971971457, 0.0012489817846111845, -0.0019519948882590844, -0.002677298661139917, 0.0009108295017515643, 0.0005169369254961482, -0.0021626888021852183, -0.0002416453387590575, 3.349415158363572e-05, -0.0003549050683784064, -0.00033818799337827937, 0.001124606656781667, -0.0012509298116333439, -0.0018349663534806147, 0.00043014794862627587, 0.000871700118205042, 0.0004128396727017668, 0.0011103477393886192, 0.0013053744161650508, -0.0014563424458635254, -0.0017702971365074723, -0.0016314199086927635, -0.001030552732421399, -0.0002511156074101972, -0.0018453210760898278, -0.0013940213742289157, 1.0, -7.531912940689786e-05, -0.0006033795317028932, 0.0017095886432573152, -0.0015344104636122683, -0.0005749585705772388, 0.0006068798883348734, 0.0009738384019128626, -0.0008696868262333401, 0.0006305110709911789, 0.00013999232688368619, 0.0003201823342854648, 0.0020048012309301956, 0.0011850203585599686, 0.0008642753852533274], [0.0007882447910808956, -0.00010347690485278524, -0.0006583998180255231, -0.00017173251468899272, 0.0015325306198597161, -0.00015073832344163923, -0.0019023900274815755, -0.0015526558607739192, -0.0007715341800744943, 0.0015137952726527234, 0.001377811100217233, 0.0012737060249414815, -0.0017878545885293084, 0.0017231519792362958, 0.0004136479843598627, 0.0010228747040333251, 0.0017213970445803973, 0.0010701810792920843, -0.0007815553133850878, -2.5850049554222618e-05, -0.0006230035403697138, -4.2806839795007884e-05, 0.003070667843488631, 0.0002434918758918964, 0.0004412278133604194, -4.896531776827232e-05, -9.291203883231048e-05, -0.0014425071088963843, 0.0020812179822101546, 3.345833882899232e-06, 0.0016531383200807618, -0.0003302318320871622, 0.0014451241140302868, -0.002211754327912519, -7.531912940689786e-05, 1.0, -0.002084624044028694, 0.0007561854950545017, -0.0005302751847781065, -0.00010937354438558475, -0.000388693249963843, -0.0005993891804417921, 0.0019081420282568305, 9.663145891527551e-05, -0.001410586889796412, -0.00032686988563327866, -0.0003107324412774847, -0.0011828498563552455, 0.00039425142162196534], [0.0008356128476278207, -0.0010058548384191393, 0.002992806788917109, -0.0027117639544354424, 0.001266664959910297, -0.0027755450296133074, -0.0001449036161313121, -0.0011636516201258254, -0.001416721144687028, 0.0008268945510473188, 0.0022687777239878753, 0.0014216349339402805, 0.0009946385801930036, 0.0037837821118346824, 0.002790331203399629, 0.004077353989613895, -0.0013086573803491668, -0.0019205651214934604, -0.0006022847454017239, 0.0018345907179115205, -0.001207073641473125, 0.000685063371450163, 0.0021179978533095375, 0.001215931309403626, 0.0016640401043848303, 0.0004921695588309738, 0.0005499792456161905, 2.6762473594795134e-05, -0.0016920322564635982, 0.002907789216375729, -7.104884064442889e-05, -0.002458276048013527, -0.001846554928669249, -0.0017921422616910185, -0.0006033795317028932, -0.002084624044028694, 1.0, 1.3082467919241126e-05, -0.002665668626238483, 0.0020156141257340952, 0.00010930539163796438, -0.00030400026811709164, -0.00017056886242362965, -0.000265653880402289, 0.002133458533910172, -0.0005416628791602605, 0.00020163232378118568, 0.0007846466422613709, -0.000767841727863593], [0.0005176341988577643, 0.0007189675843641542, -8.533923304090555e-05, 0.00035567580972401837, -0.0015441777405826916, 0.00048656988775536863, -0.0008217959389452798, -0.001955110116004253, 0.0031034025355962443, -0.0011713719830285256, 8.41415927831592e-05, 0.002842382982119299, 0.0006751295016578906, -0.0020161776675533686, -0.002330326502165297, -0.0014427896242199597, -0.0009849673818418103, -0.0004273838950783198, 0.000591321147031268, 0.00011597648018878906, 4.220234506755867e-05, -0.0005509059261274756, 0.0003282253752557591, -0.0003188249939387811, 4.603530801216634e-05, 0.0025789004953305486, -0.0014661881547167342, -0.0005307547879908729, -0.0012319557421361167, -0.0014115273416177374, 0.0016651672130308952, -0.0005101365289598746, -3.835483364152018e-05, 0.0011537560131772333, 0.0017095886432573152, 0.0007561854950545017, 1.3082467919241126e-05, 1.0, -0.00018191557849844383, -0.0008978648417160443, -0.0014087261304251072, -0.000629603966515466, -6.618237838926016e-05, 0.0009232509440580107, -0.0012912698712921724, -0.0008141216438973746, -0.0010941080196175384, 0.00044405455709718906, 6.652856730239221e-05], [0.0009805335540469448, 0.0010608340444789083, -0.0013449818796920148, -2.5425203495046437e-05, 0.000230287338373583, 0.00012727421795224745, -0.0010698729509168899, -0.0011970978269563854, 0.0027643720885982604, -0.0010929434068361558, -0.0005624466536854737, -0.00036716982018740517, 0.0010608594409770634, 0.0019267518147431442, 0.0009485297239872661, 0.001975748285363052, -0.0012787059555369506, -0.0009309516956551648, -0.0006993075561928123, 0.0013640036829747895, 0.0014431604443318454, -0.0005988402310767637, 0.0012104089806038827, 0.0014737778917998585, -0.0016082481209460618, -0.0008241917715071704, -0.00126972104570452, -0.002119260300436465, 0.0012705153842238798, -0.0015616995757234328, 0.001661053471775787, -0.0005672563408689047, 5.835325109212987e-08, -0.00023581508931643148, -0.0015344104636122683, -0.0005302751847781065, -0.002665668626238483, -0.00018191557849844383, 1.0, 0.00039421911394115384, 0.0020861464734087494, 0.0012790179252293843, 0.0012524127188469519, -0.0003206519285674346, 0.00042152585442363353, 0.0003662380118529723, -0.0016175662068407665, -0.001302425409365104, -0.00033573429390100083], [-0.0012488250195915361, 0.00037143739489093637, -0.0012629092646128783, 3.793867444663322e-05, -0.0027155418811399185, -0.0020008312385538024, -0.0015247002980472058, 0.000822002616531646, -0.0004476413449922488, -0.0006318117597186088, 7.181830788419638e-05, -0.0023492443946824377, 0.00018449154616455044, 0.00012896012169149823, -0.00018583926200945724, -0.0002432697006175229, -0.0019515651504138044, -0.0005474330902515618, -0.0010905132359761071, 0.002110541450555667, -0.0004247629899175609, -0.0008341968657931889, -0.0026947000599002163, 0.001198066784985588, -0.0017017001612186584, 0.0011949560411559218, 0.0005028118507514468, 0.0015842335640350936, -0.0011916824704647467, 0.001816659689651751, 1.1254065435811081e-05, -0.001206330546667298, 0.00024456774542824333, 0.00038680272386482404, -0.0005749585705772388, -0.00010937354438558475, 0.0020156141257340952, -0.0008978648417160443, 0.00039421911394115384, 1.0, 0.0010363096506184925, 0.003702293503296481, 0.0004796006799337871, 0.0008337638553276428, 0.0008795353242781085, -0.0012352831533956282, -0.0009601810727423088, -0.00137650887645121, -0.00016434196923967553], [-0.0010934546530963374, -0.0011325853981362505, 0.0015206567146658348, -0.0008836458794260957, -0.002352333366999052, -0.0008139493139821727, 0.0009753755080751557, 0.0013465275777943119, -0.0010438535583305107, -0.0012414424693482822, 0.0006636678133101164, 0.0013666102034255417, -0.0006120933976261155, 0.0008132382695526005, -0.0014181281398898933, 0.0002840910135919725, -0.0012626527588530665, 0.00047885679021953564, -0.0008502466566824664, 0.0015743622718326646, -0.0007933308500309729, 0.0020520906048643517, -0.002595880715245505, 0.0017213100009014935, -0.00035882930966854473, 0.0004671486827777795, 0.0001369791532856534, 0.0006383022193048909, -0.0004672662506228167, 0.0024027112854159804, -0.00035862222351401715, -0.0011809019951366634, 0.0009784493310665636, -0.0002117009452892736, 0.0006068798883348734, -0.000388693249963843, 0.00010930539163796438, -0.0014087261304251072, 0.0020861464734087494, 0.0010363096506184925, 1.0, -0.00030006427820138517, 0.000980441223865989, 0.0015570118184771945, -0.0009128274758467554, 0.0035645904480776313, 8.383414231002459e-05, 0.0010213745943391099, -0.0005819389857347308], [-0.00015701023640565565, -0.0004464645318087174, 0.00019895341092257275, -0.0008928474834448281, 0.00013288787890949408, 0.0002834052581409762, 0.001549156967187013, -0.0013011186998591806, 0.0005412369024749237, -0.0004320285599226011, 0.0014390105937547816, 0.001968875596117635, 0.00030406758932433335, 0.0005585972004819212, -0.002125385276738932, 0.00030681115008979426, -0.000921686741159908, -0.0012057081347718506, 0.00042878043890859477, 0.0019922297476804548, 0.0008740417878425334, 0.0012427813649456252, 0.0008592066483024779, 0.00042311633950088267, 0.0013216260013875014, -0.0020202515720043877, 0.0014953290730697968, 0.0003935211621869506, -0.0004903231499660531, 0.0029880880242695684, -0.000578026659641811, 0.0011334652327895202, -0.00021462815569388283, 0.0002703331399211816, 0.0009738384019128626, -0.0005993891804417921, -0.00030400026811709164, -0.000629603966515466, 0.0012790179252293843, 0.003702293503296481, -0.00030006427820138517, 1.0, -0.0023253997103759288, 0.0007633285228823364, 0.0026328685607141223, -0.000782295667836372, 0.0005639452300591455, 0.001945194513245508, -0.0016489428988119895], [0.001609423824807779, 0.0013622753431191557, -0.0008910685014910404, -0.0005185257387862071, 0.00020474960687078366, 0.0015645496382111165, 0.002170835213002712, 0.00030393290259254327, 0.0016655249364763605, -0.001959159535716181, -0.0003887243838992524, 0.00023239812553012024, -0.0007858590549898202, -0.0005013388256770008, 0.0008745250585350082, -0.0003871413338074719, 0.0013483433788114031, -0.00016701443375198525, 0.0007460892730811583, -0.0012387502670017302, 6.95669943874719e-05, -9.926418773619016e-05, 0.0012823032623227356, -0.0023388274799040387, 0.001863807293097441, 0.0008061524226690235, 0.00029514287044668617, -0.0011690267707114414, -0.0010919839975845078, -0.0003593050636786701, 0.0002478062054979929, 0.0009449124419320974, 0.0011795606084717045, -0.0009686463055697029, -0.0008696868262333401, 0.0019081420282568305, -0.00017056886242362965, -6.618237838926016e-05, 0.0012524127188469519, 0.0004796006799337871, 0.000980441223865989, -0.0023253997103759288, 1.0, 0.001713387982008056, 0.00019854594292474138, -0.001287343165201063, -0.001062548766009112, -7.567114607784398e-05, -0.00047695089701226727], [-0.0012272973917304445, -0.0004904242506719329, -0.000396790212426193, -0.0001091639435274442, 0.0001344327694191131, 0.0027346762054245234, 0.0015480474512491566, 0.002087860311907922, 0.0005749746503449937, -0.0027823010069026946, -0.000621106833525824, -0.0032329018832703716, -0.0006590162500354598, -0.0016324069179149605, 0.0004916403631589377, -0.001820720685571289, 0.0007020649300867855, 0.000928933859436279, -0.0015898973720920525, -0.0003786053015244637, 0.0009652394539101881, -1.4807280235949815e-05, -0.0004809622024844747, 0.0013882598831327169, -0.0014997038236239928, 0.000689803382340044, -0.0004381102787180161, -0.0010101875324818037, 0.0009521778464269998, -0.0008346704499100793, -0.0011744468682769224, -0.0007033351603276393, 0.0001718927120025671, 7.896468850627976e-05, 0.0006305110709911789, 9.663145891527551e-05, -0.000265653880402289, 0.0009232509440580107, -0.0003206519285674346, 0.0008337638553276428, 0.0015570118184771945, 0.0007633285228823364, 0.001713387982008056, 1.0, 0.0003847799596326076, 0.0010284195630865856, -0.0008488737176590117, 0.0008350357428591773, 0.0028691848832983202], [-0.0014120059005200628, 0.0006238280115020942, -1.1545248111385099e-05, 0.0009195635201452163, -0.0007442327813944093, 0.002295346203964965, -0.0003682362393573745, -0.0003814511646830381, 0.0012197619159721711, -0.002047724572754881, 0.0010588568857560125, 0.0010115230415514774, 0.0014178496831878235, 0.0017539182011456023, 0.0015699943019599183, 0.002318386702039322, -0.001915365956106812, -0.0004946092252123201, -0.00021109233161472496, -8.221784186824308e-05, -0.0010678795853459174, -0.0029475272140969564, -0.000900009112242032, 0.000579727172497131, 0.0013959473143630471, 0.0012045255571496128, -0.0012544219062167932, 0.0020955546330995254, -0.0010595306612710786, 0.001021239320656569, 0.0020541819917924507, 0.0005081330268082903, -0.0008738127601136779, -0.0009427509379795304, 0.00013999232688368619, -0.001410586889796412, 0.002133458533910172, -0.0012912698712921724, 0.00042152585442363353, 0.0008795353242781085, -0.0009128274758467554, 0.0026328685607141223, 0.00019854594292474138, 0.0003847799596326076, 1.0, -0.0016701318625782552, 0.0007356946834426283, 7.729719133329158e-05, -8.498697276466257e-05], [-0.001266582915695949, -0.00017012817365768916, -0.0008675973201928163, 0.0005472321892405295, 0.000157731563274207, 0.0007734421027413762, 0.00015309117899007583, -1.2555595091234793e-06, -0.0005167363145836902, -0.0005794594623613974, 0.0011348640561092116, 0.00034511455870640405, 0.0010641208942453434, 0.0013843957989970695, -0.0029176616014177973, 0.0007408167748215124, 0.0011762611405260832, -0.000432323026064183, -0.0002421374844425615, 6.434466221087021e-05, 0.0004024551616458192, -0.001077583489975626, -0.0021900877080210674, 0.0006342039000327394, -0.0028145541534887798, 0.0001356500415863611, 0.0005855222178469649, 0.0013782617362007408, -0.0005462931019553125, -0.0005117859571024149, 0.0029192141505096658, -9.260927347074229e-05, 0.0011856368490699145, -0.0009852664395451243, 0.0003201823342854648, -0.00032686988563327866, -0.0005416628791602605, -0.0008141216438973746, 0.0003662380118529723, -0.0012352831533956282, 0.0035645904480776313, -0.000782295667836372, -0.001287343165201063, 0.0010284195630865856, -0.0016701318625782552, 1.0, -0.0008263242941725543, 0.000450219315820858, 0.000966083374334477], [-0.001387012489514096, 0.0005524351996118682, -0.0015035875469012964, 0.0008240709263778052, -0.0002179273213074755, 0.0009158792230724631, 3.168678414855202e-05, -0.0007593038072496054, 0.00018148010907771236, -6.765604151575159e-05, 0.0008151460825754955, 0.00023955239726456678, -0.0011015992238865807, -0.0013589599814288781, -0.00011712544370351973, -0.0013771848219666489, -0.0013255253293403624, 9.26933091093104e-05, 4.6684570862882744e-05, 7.039774777351157e-05, 0.0003641136670927075, -0.0011509779965209698, -0.0013022430575787994, 0.00012764466563053707, -0.0008849150440565294, 3.4775541413476665e-05, 0.00034706241877984433, -0.0010009801233348515, 0.0016412416111071387, 0.0007416018344101211, -0.0004828954298308084, 0.0009303397770717671, 0.0011092144691557332, -0.0004058525742929777, 0.0020048012309301956, -0.0003107324412774847, 0.00020163232378118568, -0.0010941080196175384, -0.0016175662068407665, -0.0009601810727423088, 8.383414231002459e-05, 0.0005639452300591455, -0.001062548766009112, -0.0008488737176590117, 0.0007356946834426283, -0.0008263242941725543, 1.0, -0.000256999749001877, 0.0005221041491486967], [0.00019422494950414269, -0.0017438319546571681, -0.00016221628124592368, 0.0003668294896141741, -0.0008816797556198087, -0.0019656334704160304, 0.0002764781762418728, 0.0027907331412144387, -0.0013611791678382662, -0.0009190393767006633, -0.0011026523735666283, 0.0015546541592544052, -0.001240728524270899, -0.001779382287807932, 0.002079286759967088, -0.0010118034751282255, 0.0017437917830255083, 0.0003020462737220039, -0.0007755225209412626, -0.0007859433395340347, 0.0005198560815098639, -0.0014296408355096264, -0.00041450859584372094, -0.0003200957840412163, -0.0024179401571196727, -0.0023403993866281878, 0.001779644692049721, 0.00037910847774122794, 0.0012730291759389459, -0.0005855613681816042, -0.0003423887666784932, 0.002231261537685798, 0.0009016703557466313, 0.00026514988456800864, 0.0011850203585599686, -0.0011828498563552455, 0.0007846466422613709, 0.00044405455709718906, -0.001302425409365104, -0.00137650887645121, 0.0010213745943391099, 0.001945194513245508, -7.567114607784398e-05, 0.0008350357428591773, 7.729719133329158e-05, 0.000450219315820858, -0.000256999749001877, 1.0, 3.0900791451786126e-05], [-0.0012665168671921183, -0.0010722284275397982, -0.0014640083176233343, -0.0020700765230598026, -0.003709408579276534, 0.001243938381928246, 0.00027869054705161115, 0.00020310560100537925, -0.0009608000950925157, 0.0009953591808107968, -0.00012315711435225912, -0.003389818864850354, 0.0004094125500090158, 0.0031663201946022547, -0.0009808134646700517, 0.0017825538619420395, -0.0020395145220801205, 0.001519207560397156, -0.001922700612824353, 0.0007240485980728472, -0.0005613985985714569, 0.0009304624944871983, 0.0014224541267771362, -0.0005301916337567397, 0.0001499412738778608, -0.0005226832895863497, -0.0023689086360795504, 0.0002479460755647001, 0.000545645086234742, 0.00023838942051957303, 0.0015132572839368853, 0.0012800385583023688, 0.00014614969739931504, 0.0014943221390320992, 0.0008642753852533274, 0.00039425142162196534, -0.000767841727863593, 6.652856730239221e-05, -0.00033573429390100083, -0.00016434196923967553, -0.0005819389857347308, -0.0016489428988119895, -0.00047695089701226727, 0.0028691848832983202, -8.498697276466257e-05, 0.000966083374334477, 0.0005221041491486967, 3.0900791451786126e-05, 1.0]]}],                        {\"height\": 700, \"template\": {\"data\": {\"bar\": [{\"error_x\": {\"color\": \"#2a3f5f\"}, \"error_y\": {\"color\": \"#2a3f5f\"}, \"marker\": {\"line\": {\"color\": \"#E5ECF6\", \"width\": 0.5}}, \"type\": \"bar\"}], \"barpolar\": [{\"marker\": {\"line\": {\"color\": \"#E5ECF6\", \"width\": 0.5}}, \"type\": \"barpolar\"}], \"carpet\": [{\"aaxis\": {\"endlinecolor\": \"#2a3f5f\", \"gridcolor\": \"white\", \"linecolor\": \"white\", \"minorgridcolor\": \"white\", \"startlinecolor\": \"#2a3f5f\"}, \"baxis\": {\"endlinecolor\": \"#2a3f5f\", \"gridcolor\": \"white\", \"linecolor\": \"white\", \"minorgridcolor\": \"white\", \"startlinecolor\": \"#2a3f5f\"}, \"type\": \"carpet\"}], \"choropleth\": [{\"colorbar\": {\"outlinewidth\": 0, \"ticks\": \"\"}, \"type\": \"choropleth\"}], \"contour\": [{\"colorbar\": {\"outlinewidth\": 0, \"ticks\": \"\"}, \"colorscale\": [[0.0, \"#0d0887\"], [0.1111111111111111, \"#46039f\"], [0.2222222222222222, \"#7201a8\"], [0.3333333333333333, \"#9c179e\"], [0.4444444444444444, \"#bd3786\"], [0.5555555555555556, \"#d8576b\"], [0.6666666666666666, \"#ed7953\"], [0.7777777777777778, \"#fb9f3a\"], [0.8888888888888888, \"#fdca26\"], [1.0, \"#f0f921\"]], \"type\": \"contour\"}], \"contourcarpet\": [{\"colorbar\": {\"outlinewidth\": 0, \"ticks\": \"\"}, \"type\": \"contourcarpet\"}], \"heatmap\": [{\"colorbar\": {\"outlinewidth\": 0, \"ticks\": \"\"}, \"colorscale\": [[0.0, \"#0d0887\"], [0.1111111111111111, \"#46039f\"], [0.2222222222222222, \"#7201a8\"], [0.3333333333333333, \"#9c179e\"], [0.4444444444444444, \"#bd3786\"], [0.5555555555555556, \"#d8576b\"], [0.6666666666666666, \"#ed7953\"], [0.7777777777777778, \"#fb9f3a\"], [0.8888888888888888, \"#fdca26\"], [1.0, \"#f0f921\"]], \"type\": \"heatmap\"}], \"heatmapgl\": [{\"colorbar\": {\"outlinewidth\": 0, \"ticks\": \"\"}, \"colorscale\": [[0.0, \"#0d0887\"], [0.1111111111111111, \"#46039f\"], [0.2222222222222222, \"#7201a8\"], [0.3333333333333333, \"#9c179e\"], [0.4444444444444444, \"#bd3786\"], [0.5555555555555556, \"#d8576b\"], [0.6666666666666666, \"#ed7953\"], [0.7777777777777778, \"#fb9f3a\"], [0.8888888888888888, \"#fdca26\"], [1.0, \"#f0f921\"]], \"type\": \"heatmapgl\"}], \"histogram\": [{\"marker\": {\"colorbar\": {\"outlinewidth\": 0, \"ticks\": \"\"}}, \"type\": \"histogram\"}], \"histogram2d\": [{\"colorbar\": {\"outlinewidth\": 0, \"ticks\": \"\"}, \"colorscale\": [[0.0, \"#0d0887\"], [0.1111111111111111, \"#46039f\"], [0.2222222222222222, \"#7201a8\"], [0.3333333333333333, \"#9c179e\"], [0.4444444444444444, \"#bd3786\"], [0.5555555555555556, \"#d8576b\"], [0.6666666666666666, \"#ed7953\"], [0.7777777777777778, \"#fb9f3a\"], [0.8888888888888888, \"#fdca26\"], [1.0, \"#f0f921\"]], \"type\": \"histogram2d\"}], \"histogram2dcontour\": [{\"colorbar\": {\"outlinewidth\": 0, \"ticks\": \"\"}, \"colorscale\": [[0.0, \"#0d0887\"], [0.1111111111111111, \"#46039f\"], [0.2222222222222222, \"#7201a8\"], [0.3333333333333333, \"#9c179e\"], [0.4444444444444444, \"#bd3786\"], [0.5555555555555556, \"#d8576b\"], [0.6666666666666666, \"#ed7953\"], [0.7777777777777778, \"#fb9f3a\"], [0.8888888888888888, \"#fdca26\"], [1.0, \"#f0f921\"]], \"type\": \"histogram2dcontour\"}], \"mesh3d\": [{\"colorbar\": {\"outlinewidth\": 0, \"ticks\": \"\"}, \"type\": \"mesh3d\"}], \"parcoords\": [{\"line\": {\"colorbar\": {\"outlinewidth\": 0, \"ticks\": \"\"}}, \"type\": \"parcoords\"}], \"pie\": [{\"automargin\": true, \"type\": \"pie\"}], \"scatter\": [{\"marker\": {\"colorbar\": {\"outlinewidth\": 0, \"ticks\": \"\"}}, \"type\": \"scatter\"}], \"scatter3d\": [{\"line\": {\"colorbar\": {\"outlinewidth\": 0, \"ticks\": \"\"}}, \"marker\": {\"colorbar\": {\"outlinewidth\": 0, \"ticks\": \"\"}}, \"type\": \"scatter3d\"}], \"scattercarpet\": [{\"marker\": {\"colorbar\": {\"outlinewidth\": 0, \"ticks\": \"\"}}, \"type\": \"scattercarpet\"}], \"scattergeo\": [{\"marker\": {\"colorbar\": {\"outlinewidth\": 0, \"ticks\": \"\"}}, \"type\": \"scattergeo\"}], \"scattergl\": [{\"marker\": {\"colorbar\": {\"outlinewidth\": 0, \"ticks\": \"\"}}, \"type\": \"scattergl\"}], \"scattermapbox\": [{\"marker\": {\"colorbar\": {\"outlinewidth\": 0, \"ticks\": \"\"}}, \"type\": \"scattermapbox\"}], \"scatterpolar\": [{\"marker\": {\"colorbar\": {\"outlinewidth\": 0, \"ticks\": \"\"}}, \"type\": \"scatterpolar\"}], \"scatterpolargl\": [{\"marker\": {\"colorbar\": {\"outlinewidth\": 0, \"ticks\": \"\"}}, \"type\": \"scatterpolargl\"}], \"scatterternary\": [{\"marker\": {\"colorbar\": {\"outlinewidth\": 0, \"ticks\": \"\"}}, \"type\": \"scatterternary\"}], \"surface\": [{\"colorbar\": {\"outlinewidth\": 0, \"ticks\": \"\"}, \"colorscale\": [[0.0, \"#0d0887\"], [0.1111111111111111, \"#46039f\"], [0.2222222222222222, \"#7201a8\"], [0.3333333333333333, \"#9c179e\"], [0.4444444444444444, \"#bd3786\"], [0.5555555555555556, \"#d8576b\"], [0.6666666666666666, \"#ed7953\"], [0.7777777777777778, \"#fb9f3a\"], [0.8888888888888888, \"#fdca26\"], [1.0, \"#f0f921\"]], \"type\": \"surface\"}], \"table\": [{\"cells\": {\"fill\": {\"color\": \"#EBF0F8\"}, \"line\": {\"color\": \"white\"}}, \"header\": {\"fill\": {\"color\": \"#C8D4E3\"}, \"line\": {\"color\": \"white\"}}, \"type\": \"table\"}]}, \"layout\": {\"annotationdefaults\": {\"arrowcolor\": \"#2a3f5f\", \"arrowhead\": 0, \"arrowwidth\": 1}, \"autotypenumbers\": \"strict\", \"coloraxis\": {\"colorbar\": {\"outlinewidth\": 0, \"ticks\": \"\"}}, \"colorscale\": {\"diverging\": [[0, \"#8e0152\"], [0.1, \"#c51b7d\"], [0.2, \"#de77ae\"], [0.3, \"#f1b6da\"], [0.4, \"#fde0ef\"], [0.5, \"#f7f7f7\"], [0.6, \"#e6f5d0\"], [0.7, \"#b8e186\"], [0.8, \"#7fbc41\"], [0.9, \"#4d9221\"], [1, \"#276419\"]], \"sequential\": [[0.0, \"#0d0887\"], [0.1111111111111111, \"#46039f\"], [0.2222222222222222, \"#7201a8\"], [0.3333333333333333, \"#9c179e\"], [0.4444444444444444, \"#bd3786\"], [0.5555555555555556, \"#d8576b\"], [0.6666666666666666, \"#ed7953\"], [0.7777777777777778, \"#fb9f3a\"], [0.8888888888888888, \"#fdca26\"], [1.0, \"#f0f921\"]], \"sequentialminus\": [[0.0, \"#0d0887\"], [0.1111111111111111, \"#46039f\"], [0.2222222222222222, \"#7201a8\"], [0.3333333333333333, \"#9c179e\"], [0.4444444444444444, \"#bd3786\"], [0.5555555555555556, \"#d8576b\"], [0.6666666666666666, \"#ed7953\"], [0.7777777777777778, \"#fb9f3a\"], [0.8888888888888888, \"#fdca26\"], [1.0, \"#f0f921\"]]}, \"colorway\": [\"#636efa\", \"#EF553B\", \"#00cc96\", \"#ab63fa\", \"#FFA15A\", \"#19d3f3\", \"#FF6692\", \"#B6E880\", \"#FF97FF\", \"#FECB52\"], \"font\": {\"color\": \"#2a3f5f\"}, \"geo\": {\"bgcolor\": \"white\", \"lakecolor\": \"white\", \"landcolor\": \"#E5ECF6\", \"showlakes\": true, \"showland\": true, \"subunitcolor\": \"white\"}, \"hoverlabel\": {\"align\": \"left\"}, \"hovermode\": \"closest\", \"mapbox\": {\"style\": \"light\"}, \"paper_bgcolor\": \"white\", \"plot_bgcolor\": \"#E5ECF6\", \"polar\": {\"angularaxis\": {\"gridcolor\": \"white\", \"linecolor\": \"white\", \"ticks\": \"\"}, \"bgcolor\": \"#E5ECF6\", \"radialaxis\": {\"gridcolor\": \"white\", \"linecolor\": \"white\", \"ticks\": \"\"}}, \"scene\": {\"xaxis\": {\"backgroundcolor\": \"#E5ECF6\", \"gridcolor\": \"white\", \"gridwidth\": 2, \"linecolor\": \"white\", \"showbackground\": true, \"ticks\": \"\", \"zerolinecolor\": \"white\"}, \"yaxis\": {\"backgroundcolor\": \"#E5ECF6\", \"gridcolor\": \"white\", \"gridwidth\": 2, \"linecolor\": \"white\", \"showbackground\": true, \"ticks\": \"\", \"zerolinecolor\": \"white\"}, \"zaxis\": {\"backgroundcolor\": \"#E5ECF6\", \"gridcolor\": \"white\", \"gridwidth\": 2, \"linecolor\": \"white\", \"showbackground\": true, \"ticks\": \"\", \"zerolinecolor\": \"white\"}}, \"shapedefaults\": {\"line\": {\"color\": \"#2a3f5f\"}}, \"ternary\": {\"aaxis\": {\"gridcolor\": \"white\", \"linecolor\": \"white\", \"ticks\": \"\"}, \"baxis\": {\"gridcolor\": \"white\", \"linecolor\": \"white\", \"ticks\": \"\"}, \"bgcolor\": \"#E5ECF6\", \"caxis\": {\"gridcolor\": \"white\", \"linecolor\": \"white\", \"ticks\": \"\"}}, \"title\": {\"x\": 0.05}, \"xaxis\": {\"automargin\": true, \"gridcolor\": \"white\", \"linecolor\": \"white\", \"ticks\": \"\", \"title\": {\"standoff\": 15}, \"zerolinecolor\": \"white\", \"zerolinewidth\": 2}, \"yaxis\": {\"automargin\": true, \"gridcolor\": \"white\", \"linecolor\": \"white\", \"ticks\": \"\", \"title\": {\"standoff\": 15}, \"zerolinecolor\": \"white\", \"zerolinewidth\": 2}}}, \"title\": {\"text\": \"Pearson Correlation of Integer-type features\"}, \"width\": 900, \"xaxis\": {\"nticks\": 36, \"ticks\": \"\"}, \"yaxis\": {\"ticks\": \"\"}},                        {\"responsive\": true}                    ).then(function(){\n",
       "                            \n",
       "var gd = document.getElementById('314b7a63-fd28-4a9b-be8e-0a7b0e8711cb');\n",
       "var x = new MutationObserver(function (mutations, observer) {{\n",
       "        var display = window.getComputedStyle(gd).display;\n",
       "        if (!display || display === 'none') {{\n",
       "            console.log([gd, 'removed!']);\n",
       "            Plotly.purge(gd);\n",
       "            observer.disconnect();\n",
       "        }}\n",
       "}});\n",
       "\n",
       "// Listen for the removal of the full notebook cells\n",
       "var notebookContainer = gd.closest('#notebook-container');\n",
       "if (notebookContainer) {{\n",
       "    x.observe(notebookContainer, {childList: true});\n",
       "}}\n",
       "\n",
       "// Listen for the clearing of the current output cell\n",
       "var outputEl = gd.closest('.output');\n",
       "if (outputEl) {{\n",
       "    x.observe(outputEl, {childList: true});\n",
       "}}\n",
       "\n",
       "                        })                };                });            </script>        </div>"
      ]
     },
     "metadata": {},
     "output_type": "display_data"
    }
   ],
   "source": [
    "data = [\n",
    "    go.Heatmap(\n",
    "        z = train_int.corr().values,\n",
    "        x = train_int.columns.values,\n",
    "        y = train_int.columns.values,\n",
    "        colorscale = 'Viridis',\n",
    "        reversescale = False,\n",
    "        opacity = 1.0)\n",
    "]\n",
    "\n",
    "layout = go.Layout(\n",
    "    title = 'Pearson Correlation of Integer-type features',\n",
    "    xaxis = dict(ticks = '', nticks = 36),\n",
    "    yaxis = dict(ticks = ''),\n",
    "    width = 900, height = 700)\n",
    "\n",
    "fig = go.Figure(data = data, layout = layout)\n",
    "py.iplot(fig, filename = 'labelled-heatmap')"
   ]
  },
  {
   "cell_type": "code",
   "execution_count": 22,
   "id": "abstract-rough",
   "metadata": {},
   "outputs": [
    {
     "name": "stdout",
     "output_type": "stream",
     "text": [
      "[0.01402035 0.00431986 0.0055185  0.00778454 0.00157233 0.00197537\n",
      " 0.01226    0.00553038 0.00545101 0.00562139]\n"
     ]
    }
   ],
   "source": [
    "mf = mutual_info_classif(train_float.values, train.target.values, n_neighbors = 3, random_state = 17)\n",
    "print(mf)"
   ]
  },
  {
   "cell_type": "code",
   "execution_count": 23,
   "id": "brilliant-little",
   "metadata": {},
   "outputs": [],
   "source": [
    "bin_col = [col for col in train.columns if '_bin' in col]\n",
    "zero_list = []\n",
    "one_list = []\n",
    "\n",
    "for col in bin_col:\n",
    "    zero_list.append((train[col] == 0).sum())\n",
    "    one_list.append((train[col] == 1).sum())"
   ]
  },
  {
   "cell_type": "code",
   "execution_count": 26,
   "id": "canadian-province",
   "metadata": {},
   "outputs": [
    {
     "data": {
      "application/vnd.plotly.v1+json": {
       "config": {
        "linkText": "Export to plot.ly",
        "plotlyServerURL": "https://plot.ly",
        "showLink": false
       },
       "data": [
        {
         "name": "Zero count",
         "type": "bar",
         "x": [
          "ps_ind_06_bin",
          "ps_ind_07_bin",
          "ps_ind_08_bin",
          "ps_ind_09_bin",
          "ps_ind_10_bin",
          "ps_ind_11_bin",
          "ps_ind_12_bin",
          "ps_ind_13_bin",
          "ps_ind_16_bin",
          "ps_ind_17_bin",
          "ps_ind_18_bin",
          "ps_calc_15_bin",
          "ps_calc_16_bin",
          "ps_calc_17_bin",
          "ps_calc_18_bin",
          "ps_calc_19_bin",
          "ps_calc_20_bin"
         ],
         "y": [
          360852,
          442223,
          497644,
          484917,
          594990,
          594205,
          589594,
          594648,
          201882,
          523143,
          503879,
          522342,
          221514,
          265356,
          424278,
          387469,
          503955
         ]
        },
        {
         "name": "One count",
         "type": "bar",
         "x": [
          "ps_ind_06_bin",
          "ps_ind_07_bin",
          "ps_ind_08_bin",
          "ps_ind_09_bin",
          "ps_ind_10_bin",
          "ps_ind_11_bin",
          "ps_ind_12_bin",
          "ps_ind_13_bin",
          "ps_ind_16_bin",
          "ps_ind_17_bin",
          "ps_ind_18_bin",
          "ps_calc_15_bin",
          "ps_calc_16_bin",
          "ps_calc_17_bin",
          "ps_calc_18_bin",
          "ps_calc_19_bin",
          "ps_calc_20_bin"
         ],
         "y": [
          234360,
          152989,
          97568,
          110295,
          222,
          1007,
          5618,
          564,
          393330,
          72069,
          91333,
          72870,
          373698,
          329856,
          170934,
          207743,
          91257
         ]
        }
       ],
       "layout": {
        "barmode": "stack",
        "template": {
         "data": {
          "bar": [
           {
            "error_x": {
             "color": "#2a3f5f"
            },
            "error_y": {
             "color": "#2a3f5f"
            },
            "marker": {
             "line": {
              "color": "#E5ECF6",
              "width": 0.5
             }
            },
            "type": "bar"
           }
          ],
          "barpolar": [
           {
            "marker": {
             "line": {
              "color": "#E5ECF6",
              "width": 0.5
             }
            },
            "type": "barpolar"
           }
          ],
          "carpet": [
           {
            "aaxis": {
             "endlinecolor": "#2a3f5f",
             "gridcolor": "white",
             "linecolor": "white",
             "minorgridcolor": "white",
             "startlinecolor": "#2a3f5f"
            },
            "baxis": {
             "endlinecolor": "#2a3f5f",
             "gridcolor": "white",
             "linecolor": "white",
             "minorgridcolor": "white",
             "startlinecolor": "#2a3f5f"
            },
            "type": "carpet"
           }
          ],
          "choropleth": [
           {
            "colorbar": {
             "outlinewidth": 0,
             "ticks": ""
            },
            "type": "choropleth"
           }
          ],
          "contour": [
           {
            "colorbar": {
             "outlinewidth": 0,
             "ticks": ""
            },
            "colorscale": [
             [
              0,
              "#0d0887"
             ],
             [
              0.1111111111111111,
              "#46039f"
             ],
             [
              0.2222222222222222,
              "#7201a8"
             ],
             [
              0.3333333333333333,
              "#9c179e"
             ],
             [
              0.4444444444444444,
              "#bd3786"
             ],
             [
              0.5555555555555556,
              "#d8576b"
             ],
             [
              0.6666666666666666,
              "#ed7953"
             ],
             [
              0.7777777777777778,
              "#fb9f3a"
             ],
             [
              0.8888888888888888,
              "#fdca26"
             ],
             [
              1,
              "#f0f921"
             ]
            ],
            "type": "contour"
           }
          ],
          "contourcarpet": [
           {
            "colorbar": {
             "outlinewidth": 0,
             "ticks": ""
            },
            "type": "contourcarpet"
           }
          ],
          "heatmap": [
           {
            "colorbar": {
             "outlinewidth": 0,
             "ticks": ""
            },
            "colorscale": [
             [
              0,
              "#0d0887"
             ],
             [
              0.1111111111111111,
              "#46039f"
             ],
             [
              0.2222222222222222,
              "#7201a8"
             ],
             [
              0.3333333333333333,
              "#9c179e"
             ],
             [
              0.4444444444444444,
              "#bd3786"
             ],
             [
              0.5555555555555556,
              "#d8576b"
             ],
             [
              0.6666666666666666,
              "#ed7953"
             ],
             [
              0.7777777777777778,
              "#fb9f3a"
             ],
             [
              0.8888888888888888,
              "#fdca26"
             ],
             [
              1,
              "#f0f921"
             ]
            ],
            "type": "heatmap"
           }
          ],
          "heatmapgl": [
           {
            "colorbar": {
             "outlinewidth": 0,
             "ticks": ""
            },
            "colorscale": [
             [
              0,
              "#0d0887"
             ],
             [
              0.1111111111111111,
              "#46039f"
             ],
             [
              0.2222222222222222,
              "#7201a8"
             ],
             [
              0.3333333333333333,
              "#9c179e"
             ],
             [
              0.4444444444444444,
              "#bd3786"
             ],
             [
              0.5555555555555556,
              "#d8576b"
             ],
             [
              0.6666666666666666,
              "#ed7953"
             ],
             [
              0.7777777777777778,
              "#fb9f3a"
             ],
             [
              0.8888888888888888,
              "#fdca26"
             ],
             [
              1,
              "#f0f921"
             ]
            ],
            "type": "heatmapgl"
           }
          ],
          "histogram": [
           {
            "marker": {
             "colorbar": {
              "outlinewidth": 0,
              "ticks": ""
             }
            },
            "type": "histogram"
           }
          ],
          "histogram2d": [
           {
            "colorbar": {
             "outlinewidth": 0,
             "ticks": ""
            },
            "colorscale": [
             [
              0,
              "#0d0887"
             ],
             [
              0.1111111111111111,
              "#46039f"
             ],
             [
              0.2222222222222222,
              "#7201a8"
             ],
             [
              0.3333333333333333,
              "#9c179e"
             ],
             [
              0.4444444444444444,
              "#bd3786"
             ],
             [
              0.5555555555555556,
              "#d8576b"
             ],
             [
              0.6666666666666666,
              "#ed7953"
             ],
             [
              0.7777777777777778,
              "#fb9f3a"
             ],
             [
              0.8888888888888888,
              "#fdca26"
             ],
             [
              1,
              "#f0f921"
             ]
            ],
            "type": "histogram2d"
           }
          ],
          "histogram2dcontour": [
           {
            "colorbar": {
             "outlinewidth": 0,
             "ticks": ""
            },
            "colorscale": [
             [
              0,
              "#0d0887"
             ],
             [
              0.1111111111111111,
              "#46039f"
             ],
             [
              0.2222222222222222,
              "#7201a8"
             ],
             [
              0.3333333333333333,
              "#9c179e"
             ],
             [
              0.4444444444444444,
              "#bd3786"
             ],
             [
              0.5555555555555556,
              "#d8576b"
             ],
             [
              0.6666666666666666,
              "#ed7953"
             ],
             [
              0.7777777777777778,
              "#fb9f3a"
             ],
             [
              0.8888888888888888,
              "#fdca26"
             ],
             [
              1,
              "#f0f921"
             ]
            ],
            "type": "histogram2dcontour"
           }
          ],
          "mesh3d": [
           {
            "colorbar": {
             "outlinewidth": 0,
             "ticks": ""
            },
            "type": "mesh3d"
           }
          ],
          "parcoords": [
           {
            "line": {
             "colorbar": {
              "outlinewidth": 0,
              "ticks": ""
             }
            },
            "type": "parcoords"
           }
          ],
          "pie": [
           {
            "automargin": true,
            "type": "pie"
           }
          ],
          "scatter": [
           {
            "marker": {
             "colorbar": {
              "outlinewidth": 0,
              "ticks": ""
             }
            },
            "type": "scatter"
           }
          ],
          "scatter3d": [
           {
            "line": {
             "colorbar": {
              "outlinewidth": 0,
              "ticks": ""
             }
            },
            "marker": {
             "colorbar": {
              "outlinewidth": 0,
              "ticks": ""
             }
            },
            "type": "scatter3d"
           }
          ],
          "scattercarpet": [
           {
            "marker": {
             "colorbar": {
              "outlinewidth": 0,
              "ticks": ""
             }
            },
            "type": "scattercarpet"
           }
          ],
          "scattergeo": [
           {
            "marker": {
             "colorbar": {
              "outlinewidth": 0,
              "ticks": ""
             }
            },
            "type": "scattergeo"
           }
          ],
          "scattergl": [
           {
            "marker": {
             "colorbar": {
              "outlinewidth": 0,
              "ticks": ""
             }
            },
            "type": "scattergl"
           }
          ],
          "scattermapbox": [
           {
            "marker": {
             "colorbar": {
              "outlinewidth": 0,
              "ticks": ""
             }
            },
            "type": "scattermapbox"
           }
          ],
          "scatterpolar": [
           {
            "marker": {
             "colorbar": {
              "outlinewidth": 0,
              "ticks": ""
             }
            },
            "type": "scatterpolar"
           }
          ],
          "scatterpolargl": [
           {
            "marker": {
             "colorbar": {
              "outlinewidth": 0,
              "ticks": ""
             }
            },
            "type": "scatterpolargl"
           }
          ],
          "scatterternary": [
           {
            "marker": {
             "colorbar": {
              "outlinewidth": 0,
              "ticks": ""
             }
            },
            "type": "scatterternary"
           }
          ],
          "surface": [
           {
            "colorbar": {
             "outlinewidth": 0,
             "ticks": ""
            },
            "colorscale": [
             [
              0,
              "#0d0887"
             ],
             [
              0.1111111111111111,
              "#46039f"
             ],
             [
              0.2222222222222222,
              "#7201a8"
             ],
             [
              0.3333333333333333,
              "#9c179e"
             ],
             [
              0.4444444444444444,
              "#bd3786"
             ],
             [
              0.5555555555555556,
              "#d8576b"
             ],
             [
              0.6666666666666666,
              "#ed7953"
             ],
             [
              0.7777777777777778,
              "#fb9f3a"
             ],
             [
              0.8888888888888888,
              "#fdca26"
             ],
             [
              1,
              "#f0f921"
             ]
            ],
            "type": "surface"
           }
          ],
          "table": [
           {
            "cells": {
             "fill": {
              "color": "#EBF0F8"
             },
             "line": {
              "color": "white"
             }
            },
            "header": {
             "fill": {
              "color": "#C8D4E3"
             },
             "line": {
              "color": "white"
             }
            },
            "type": "table"
           }
          ]
         },
         "layout": {
          "annotationdefaults": {
           "arrowcolor": "#2a3f5f",
           "arrowhead": 0,
           "arrowwidth": 1
          },
          "autotypenumbers": "strict",
          "coloraxis": {
           "colorbar": {
            "outlinewidth": 0,
            "ticks": ""
           }
          },
          "colorscale": {
           "diverging": [
            [
             0,
             "#8e0152"
            ],
            [
             0.1,
             "#c51b7d"
            ],
            [
             0.2,
             "#de77ae"
            ],
            [
             0.3,
             "#f1b6da"
            ],
            [
             0.4,
             "#fde0ef"
            ],
            [
             0.5,
             "#f7f7f7"
            ],
            [
             0.6,
             "#e6f5d0"
            ],
            [
             0.7,
             "#b8e186"
            ],
            [
             0.8,
             "#7fbc41"
            ],
            [
             0.9,
             "#4d9221"
            ],
            [
             1,
             "#276419"
            ]
           ],
           "sequential": [
            [
             0,
             "#0d0887"
            ],
            [
             0.1111111111111111,
             "#46039f"
            ],
            [
             0.2222222222222222,
             "#7201a8"
            ],
            [
             0.3333333333333333,
             "#9c179e"
            ],
            [
             0.4444444444444444,
             "#bd3786"
            ],
            [
             0.5555555555555556,
             "#d8576b"
            ],
            [
             0.6666666666666666,
             "#ed7953"
            ],
            [
             0.7777777777777778,
             "#fb9f3a"
            ],
            [
             0.8888888888888888,
             "#fdca26"
            ],
            [
             1,
             "#f0f921"
            ]
           ],
           "sequentialminus": [
            [
             0,
             "#0d0887"
            ],
            [
             0.1111111111111111,
             "#46039f"
            ],
            [
             0.2222222222222222,
             "#7201a8"
            ],
            [
             0.3333333333333333,
             "#9c179e"
            ],
            [
             0.4444444444444444,
             "#bd3786"
            ],
            [
             0.5555555555555556,
             "#d8576b"
            ],
            [
             0.6666666666666666,
             "#ed7953"
            ],
            [
             0.7777777777777778,
             "#fb9f3a"
            ],
            [
             0.8888888888888888,
             "#fdca26"
            ],
            [
             1,
             "#f0f921"
            ]
           ]
          },
          "colorway": [
           "#636efa",
           "#EF553B",
           "#00cc96",
           "#ab63fa",
           "#FFA15A",
           "#19d3f3",
           "#FF6692",
           "#B6E880",
           "#FF97FF",
           "#FECB52"
          ],
          "font": {
           "color": "#2a3f5f"
          },
          "geo": {
           "bgcolor": "white",
           "lakecolor": "white",
           "landcolor": "#E5ECF6",
           "showlakes": true,
           "showland": true,
           "subunitcolor": "white"
          },
          "hoverlabel": {
           "align": "left"
          },
          "hovermode": "closest",
          "mapbox": {
           "style": "light"
          },
          "paper_bgcolor": "white",
          "plot_bgcolor": "#E5ECF6",
          "polar": {
           "angularaxis": {
            "gridcolor": "white",
            "linecolor": "white",
            "ticks": ""
           },
           "bgcolor": "#E5ECF6",
           "radialaxis": {
            "gridcolor": "white",
            "linecolor": "white",
            "ticks": ""
           }
          },
          "scene": {
           "xaxis": {
            "backgroundcolor": "#E5ECF6",
            "gridcolor": "white",
            "gridwidth": 2,
            "linecolor": "white",
            "showbackground": true,
            "ticks": "",
            "zerolinecolor": "white"
           },
           "yaxis": {
            "backgroundcolor": "#E5ECF6",
            "gridcolor": "white",
            "gridwidth": 2,
            "linecolor": "white",
            "showbackground": true,
            "ticks": "",
            "zerolinecolor": "white"
           },
           "zaxis": {
            "backgroundcolor": "#E5ECF6",
            "gridcolor": "white",
            "gridwidth": 2,
            "linecolor": "white",
            "showbackground": true,
            "ticks": "",
            "zerolinecolor": "white"
           }
          },
          "shapedefaults": {
           "line": {
            "color": "#2a3f5f"
           }
          },
          "ternary": {
           "aaxis": {
            "gridcolor": "white",
            "linecolor": "white",
            "ticks": ""
           },
           "baxis": {
            "gridcolor": "white",
            "linecolor": "white",
            "ticks": ""
           },
           "bgcolor": "#E5ECF6",
           "caxis": {
            "gridcolor": "white",
            "linecolor": "white",
            "ticks": ""
           }
          },
          "title": {
           "x": 0.05
          },
          "xaxis": {
           "automargin": true,
           "gridcolor": "white",
           "linecolor": "white",
           "ticks": "",
           "title": {
            "standoff": 15
           },
           "zerolinecolor": "white",
           "zerolinewidth": 2
          },
          "yaxis": {
           "automargin": true,
           "gridcolor": "white",
           "linecolor": "white",
           "ticks": "",
           "title": {
            "standoff": 15
           },
           "zerolinecolor": "white",
           "zerolinewidth": 2
          }
         }
        },
        "title": {
         "text": "Count of 1 and 0 in binary variables"
        }
       }
      },
      "text/html": [
       "<div>                            <div id=\"87267726-6767-48b3-b025-0becac5d346d\" class=\"plotly-graph-div\" style=\"height:525px; width:100%;\"></div>            <script type=\"text/javascript\">                require([\"plotly\"], function(Plotly) {                    window.PLOTLYENV=window.PLOTLYENV || {};                                    if (document.getElementById(\"87267726-6767-48b3-b025-0becac5d346d\")) {                    Plotly.newPlot(                        \"87267726-6767-48b3-b025-0becac5d346d\",                        [{\"name\": \"Zero count\", \"type\": \"bar\", \"x\": [\"ps_ind_06_bin\", \"ps_ind_07_bin\", \"ps_ind_08_bin\", \"ps_ind_09_bin\", \"ps_ind_10_bin\", \"ps_ind_11_bin\", \"ps_ind_12_bin\", \"ps_ind_13_bin\", \"ps_ind_16_bin\", \"ps_ind_17_bin\", \"ps_ind_18_bin\", \"ps_calc_15_bin\", \"ps_calc_16_bin\", \"ps_calc_17_bin\", \"ps_calc_18_bin\", \"ps_calc_19_bin\", \"ps_calc_20_bin\"], \"y\": [360852, 442223, 497644, 484917, 594990, 594205, 589594, 594648, 201882, 523143, 503879, 522342, 221514, 265356, 424278, 387469, 503955]}, {\"name\": \"One count\", \"type\": \"bar\", \"x\": [\"ps_ind_06_bin\", \"ps_ind_07_bin\", \"ps_ind_08_bin\", \"ps_ind_09_bin\", \"ps_ind_10_bin\", \"ps_ind_11_bin\", \"ps_ind_12_bin\", \"ps_ind_13_bin\", \"ps_ind_16_bin\", \"ps_ind_17_bin\", \"ps_ind_18_bin\", \"ps_calc_15_bin\", \"ps_calc_16_bin\", \"ps_calc_17_bin\", \"ps_calc_18_bin\", \"ps_calc_19_bin\", \"ps_calc_20_bin\"], \"y\": [234360, 152989, 97568, 110295, 222, 1007, 5618, 564, 393330, 72069, 91333, 72870, 373698, 329856, 170934, 207743, 91257]}],                        {\"barmode\": \"stack\", \"template\": {\"data\": {\"bar\": [{\"error_x\": {\"color\": \"#2a3f5f\"}, \"error_y\": {\"color\": \"#2a3f5f\"}, \"marker\": {\"line\": {\"color\": \"#E5ECF6\", \"width\": 0.5}}, \"type\": \"bar\"}], \"barpolar\": [{\"marker\": {\"line\": {\"color\": \"#E5ECF6\", \"width\": 0.5}}, \"type\": \"barpolar\"}], \"carpet\": [{\"aaxis\": {\"endlinecolor\": \"#2a3f5f\", \"gridcolor\": \"white\", \"linecolor\": \"white\", \"minorgridcolor\": \"white\", \"startlinecolor\": \"#2a3f5f\"}, \"baxis\": {\"endlinecolor\": \"#2a3f5f\", \"gridcolor\": \"white\", \"linecolor\": \"white\", \"minorgridcolor\": \"white\", \"startlinecolor\": \"#2a3f5f\"}, \"type\": \"carpet\"}], \"choropleth\": [{\"colorbar\": {\"outlinewidth\": 0, \"ticks\": \"\"}, \"type\": \"choropleth\"}], \"contour\": [{\"colorbar\": {\"outlinewidth\": 0, \"ticks\": \"\"}, \"colorscale\": [[0.0, \"#0d0887\"], [0.1111111111111111, \"#46039f\"], [0.2222222222222222, \"#7201a8\"], [0.3333333333333333, \"#9c179e\"], [0.4444444444444444, \"#bd3786\"], [0.5555555555555556, \"#d8576b\"], [0.6666666666666666, \"#ed7953\"], [0.7777777777777778, \"#fb9f3a\"], [0.8888888888888888, \"#fdca26\"], [1.0, \"#f0f921\"]], \"type\": \"contour\"}], \"contourcarpet\": [{\"colorbar\": {\"outlinewidth\": 0, \"ticks\": \"\"}, \"type\": \"contourcarpet\"}], \"heatmap\": [{\"colorbar\": {\"outlinewidth\": 0, \"ticks\": \"\"}, \"colorscale\": [[0.0, \"#0d0887\"], [0.1111111111111111, \"#46039f\"], [0.2222222222222222, \"#7201a8\"], [0.3333333333333333, \"#9c179e\"], [0.4444444444444444, \"#bd3786\"], [0.5555555555555556, \"#d8576b\"], [0.6666666666666666, \"#ed7953\"], [0.7777777777777778, \"#fb9f3a\"], [0.8888888888888888, \"#fdca26\"], [1.0, \"#f0f921\"]], \"type\": \"heatmap\"}], \"heatmapgl\": [{\"colorbar\": {\"outlinewidth\": 0, \"ticks\": \"\"}, \"colorscale\": [[0.0, \"#0d0887\"], [0.1111111111111111, \"#46039f\"], [0.2222222222222222, \"#7201a8\"], [0.3333333333333333, \"#9c179e\"], [0.4444444444444444, \"#bd3786\"], [0.5555555555555556, \"#d8576b\"], [0.6666666666666666, \"#ed7953\"], [0.7777777777777778, \"#fb9f3a\"], [0.8888888888888888, \"#fdca26\"], [1.0, \"#f0f921\"]], \"type\": \"heatmapgl\"}], \"histogram\": [{\"marker\": {\"colorbar\": {\"outlinewidth\": 0, \"ticks\": \"\"}}, \"type\": \"histogram\"}], \"histogram2d\": [{\"colorbar\": {\"outlinewidth\": 0, \"ticks\": \"\"}, \"colorscale\": [[0.0, \"#0d0887\"], [0.1111111111111111, \"#46039f\"], [0.2222222222222222, \"#7201a8\"], [0.3333333333333333, \"#9c179e\"], [0.4444444444444444, \"#bd3786\"], [0.5555555555555556, \"#d8576b\"], [0.6666666666666666, \"#ed7953\"], [0.7777777777777778, \"#fb9f3a\"], [0.8888888888888888, \"#fdca26\"], [1.0, \"#f0f921\"]], \"type\": \"histogram2d\"}], \"histogram2dcontour\": [{\"colorbar\": {\"outlinewidth\": 0, \"ticks\": \"\"}, \"colorscale\": [[0.0, \"#0d0887\"], [0.1111111111111111, \"#46039f\"], [0.2222222222222222, \"#7201a8\"], [0.3333333333333333, \"#9c179e\"], [0.4444444444444444, \"#bd3786\"], [0.5555555555555556, \"#d8576b\"], [0.6666666666666666, \"#ed7953\"], [0.7777777777777778, \"#fb9f3a\"], [0.8888888888888888, \"#fdca26\"], [1.0, \"#f0f921\"]], \"type\": \"histogram2dcontour\"}], \"mesh3d\": [{\"colorbar\": {\"outlinewidth\": 0, \"ticks\": \"\"}, \"type\": \"mesh3d\"}], \"parcoords\": [{\"line\": {\"colorbar\": {\"outlinewidth\": 0, \"ticks\": \"\"}}, \"type\": \"parcoords\"}], \"pie\": [{\"automargin\": true, \"type\": \"pie\"}], \"scatter\": [{\"marker\": {\"colorbar\": {\"outlinewidth\": 0, \"ticks\": \"\"}}, \"type\": \"scatter\"}], \"scatter3d\": [{\"line\": {\"colorbar\": {\"outlinewidth\": 0, \"ticks\": \"\"}}, \"marker\": {\"colorbar\": {\"outlinewidth\": 0, \"ticks\": \"\"}}, \"type\": \"scatter3d\"}], \"scattercarpet\": [{\"marker\": {\"colorbar\": {\"outlinewidth\": 0, \"ticks\": \"\"}}, \"type\": \"scattercarpet\"}], \"scattergeo\": [{\"marker\": {\"colorbar\": {\"outlinewidth\": 0, \"ticks\": \"\"}}, \"type\": \"scattergeo\"}], \"scattergl\": [{\"marker\": {\"colorbar\": {\"outlinewidth\": 0, \"ticks\": \"\"}}, \"type\": \"scattergl\"}], \"scattermapbox\": [{\"marker\": {\"colorbar\": {\"outlinewidth\": 0, \"ticks\": \"\"}}, \"type\": \"scattermapbox\"}], \"scatterpolar\": [{\"marker\": {\"colorbar\": {\"outlinewidth\": 0, \"ticks\": \"\"}}, \"type\": \"scatterpolar\"}], \"scatterpolargl\": [{\"marker\": {\"colorbar\": {\"outlinewidth\": 0, \"ticks\": \"\"}}, \"type\": \"scatterpolargl\"}], \"scatterternary\": [{\"marker\": {\"colorbar\": {\"outlinewidth\": 0, \"ticks\": \"\"}}, \"type\": \"scatterternary\"}], \"surface\": [{\"colorbar\": {\"outlinewidth\": 0, \"ticks\": \"\"}, \"colorscale\": [[0.0, \"#0d0887\"], [0.1111111111111111, \"#46039f\"], [0.2222222222222222, \"#7201a8\"], [0.3333333333333333, \"#9c179e\"], [0.4444444444444444, \"#bd3786\"], [0.5555555555555556, \"#d8576b\"], [0.6666666666666666, \"#ed7953\"], [0.7777777777777778, \"#fb9f3a\"], [0.8888888888888888, \"#fdca26\"], [1.0, \"#f0f921\"]], \"type\": \"surface\"}], \"table\": [{\"cells\": {\"fill\": {\"color\": \"#EBF0F8\"}, \"line\": {\"color\": \"white\"}}, \"header\": {\"fill\": {\"color\": \"#C8D4E3\"}, \"line\": {\"color\": \"white\"}}, \"type\": \"table\"}]}, \"layout\": {\"annotationdefaults\": {\"arrowcolor\": \"#2a3f5f\", \"arrowhead\": 0, \"arrowwidth\": 1}, \"autotypenumbers\": \"strict\", \"coloraxis\": {\"colorbar\": {\"outlinewidth\": 0, \"ticks\": \"\"}}, \"colorscale\": {\"diverging\": [[0, \"#8e0152\"], [0.1, \"#c51b7d\"], [0.2, \"#de77ae\"], [0.3, \"#f1b6da\"], [0.4, \"#fde0ef\"], [0.5, \"#f7f7f7\"], [0.6, \"#e6f5d0\"], [0.7, \"#b8e186\"], [0.8, \"#7fbc41\"], [0.9, \"#4d9221\"], [1, \"#276419\"]], \"sequential\": [[0.0, \"#0d0887\"], [0.1111111111111111, \"#46039f\"], [0.2222222222222222, \"#7201a8\"], [0.3333333333333333, \"#9c179e\"], [0.4444444444444444, \"#bd3786\"], [0.5555555555555556, \"#d8576b\"], [0.6666666666666666, \"#ed7953\"], [0.7777777777777778, \"#fb9f3a\"], [0.8888888888888888, \"#fdca26\"], [1.0, \"#f0f921\"]], \"sequentialminus\": [[0.0, \"#0d0887\"], [0.1111111111111111, \"#46039f\"], [0.2222222222222222, \"#7201a8\"], [0.3333333333333333, \"#9c179e\"], [0.4444444444444444, \"#bd3786\"], [0.5555555555555556, \"#d8576b\"], [0.6666666666666666, \"#ed7953\"], [0.7777777777777778, \"#fb9f3a\"], [0.8888888888888888, \"#fdca26\"], [1.0, \"#f0f921\"]]}, \"colorway\": [\"#636efa\", \"#EF553B\", \"#00cc96\", \"#ab63fa\", \"#FFA15A\", \"#19d3f3\", \"#FF6692\", \"#B6E880\", \"#FF97FF\", \"#FECB52\"], \"font\": {\"color\": \"#2a3f5f\"}, \"geo\": {\"bgcolor\": \"white\", \"lakecolor\": \"white\", \"landcolor\": \"#E5ECF6\", \"showlakes\": true, \"showland\": true, \"subunitcolor\": \"white\"}, \"hoverlabel\": {\"align\": \"left\"}, \"hovermode\": \"closest\", \"mapbox\": {\"style\": \"light\"}, \"paper_bgcolor\": \"white\", \"plot_bgcolor\": \"#E5ECF6\", \"polar\": {\"angularaxis\": {\"gridcolor\": \"white\", \"linecolor\": \"white\", \"ticks\": \"\"}, \"bgcolor\": \"#E5ECF6\", \"radialaxis\": {\"gridcolor\": \"white\", \"linecolor\": \"white\", \"ticks\": \"\"}}, \"scene\": {\"xaxis\": {\"backgroundcolor\": \"#E5ECF6\", \"gridcolor\": \"white\", \"gridwidth\": 2, \"linecolor\": \"white\", \"showbackground\": true, \"ticks\": \"\", \"zerolinecolor\": \"white\"}, \"yaxis\": {\"backgroundcolor\": \"#E5ECF6\", \"gridcolor\": \"white\", \"gridwidth\": 2, \"linecolor\": \"white\", \"showbackground\": true, \"ticks\": \"\", \"zerolinecolor\": \"white\"}, \"zaxis\": {\"backgroundcolor\": \"#E5ECF6\", \"gridcolor\": \"white\", \"gridwidth\": 2, \"linecolor\": \"white\", \"showbackground\": true, \"ticks\": \"\", \"zerolinecolor\": \"white\"}}, \"shapedefaults\": {\"line\": {\"color\": \"#2a3f5f\"}}, \"ternary\": {\"aaxis\": {\"gridcolor\": \"white\", \"linecolor\": \"white\", \"ticks\": \"\"}, \"baxis\": {\"gridcolor\": \"white\", \"linecolor\": \"white\", \"ticks\": \"\"}, \"bgcolor\": \"#E5ECF6\", \"caxis\": {\"gridcolor\": \"white\", \"linecolor\": \"white\", \"ticks\": \"\"}}, \"title\": {\"x\": 0.05}, \"xaxis\": {\"automargin\": true, \"gridcolor\": \"white\", \"linecolor\": \"white\", \"ticks\": \"\", \"title\": {\"standoff\": 15}, \"zerolinecolor\": \"white\", \"zerolinewidth\": 2}, \"yaxis\": {\"automargin\": true, \"gridcolor\": \"white\", \"linecolor\": \"white\", \"ticks\": \"\", \"title\": {\"standoff\": 15}, \"zerolinecolor\": \"white\", \"zerolinewidth\": 2}}}, \"title\": {\"text\": \"Count of 1 and 0 in binary variables\"}},                        {\"responsive\": true}                    ).then(function(){\n",
       "                            \n",
       "var gd = document.getElementById('87267726-6767-48b3-b025-0becac5d346d');\n",
       "var x = new MutationObserver(function (mutations, observer) {{\n",
       "        var display = window.getComputedStyle(gd).display;\n",
       "        if (!display || display === 'none') {{\n",
       "            console.log([gd, 'removed!']);\n",
       "            Plotly.purge(gd);\n",
       "            observer.disconnect();\n",
       "        }}\n",
       "}});\n",
       "\n",
       "// Listen for the removal of the full notebook cells\n",
       "var notebookContainer = gd.closest('#notebook-container');\n",
       "if (notebookContainer) {{\n",
       "    x.observe(notebookContainer, {childList: true});\n",
       "}}\n",
       "\n",
       "// Listen for the clearing of the current output cell\n",
       "var outputEl = gd.closest('.output');\n",
       "if (outputEl) {{\n",
       "    x.observe(outputEl, {childList: true});\n",
       "}}\n",
       "\n",
       "                        })                };                });            </script>        </div>"
      ]
     },
     "metadata": {},
     "output_type": "display_data"
    }
   ],
   "source": [
    "trace1 = go.Bar(\n",
    "    x = bin_col,\n",
    "    y = zero_list,\n",
    "    name = 'Zero count')\n",
    "\n",
    "trace2 = go.Bar(\n",
    "    x = bin_col,\n",
    "    y = one_list,\n",
    "    name = 'One count')\n",
    "\n",
    "data = [trace1, trace2]\n",
    "layout = go.Layout(\n",
    "    barmode = 'stack',\n",
    "    title = 'Count of 1 and 0 in binary variables')\n",
    "\n",
    "fig = go.Figure(data = data, layout = layout)\n",
    "py.iplot(fig, filename = 'stacked - bar')"
   ]
  },
  {
   "cell_type": "code",
   "execution_count": 28,
   "id": "mexican-poetry",
   "metadata": {},
   "outputs": [
    {
     "name": "stdout",
     "output_type": "stream",
     "text": [
      "-----Training Done-----\n"
     ]
    }
   ],
   "source": [
    "from sklearn.ensemble import RandomForestClassifier\n",
    "\n",
    "rf = RandomForestClassifier(n_estimators = 150, max_depth = 8, min_samples_leaf = 4, max_features = 0.2, n_jobs = -1, random_state = 0)\n",
    "rf.fit(train.drop(['id', 'target'], axis = 1), train.target)\n",
    "\n",
    "features = train.drop(['id', 'target'], axis = 1).columns.values\n",
    "\n",
    "print(\"-----Training Done-----\")"
   ]
  },
  {
   "cell_type": "code",
   "execution_count": 33,
   "id": "bronze-parade",
   "metadata": {},
   "outputs": [
    {
     "data": {
      "application/vnd.plotly.v1+json": {
       "config": {
        "linkText": "Export to plot.ly",
        "plotlyServerURL": "https://plot.ly",
        "showLink": false
       },
       "data": [
        {
         "marker": {
          "color": [
           0.01686434542269142,
           0.011053805247045436,
           0.036219170535060755,
           0.019470566624956092,
           0.07861381065229754,
           0.019871398042689628,
           0.02209323746126317,
           0.004198705181889577,
           0.003607748989459628,
           0.0003743181308508165,
           0.000658587568488969,
           0.0013468714834950239,
           0.0006631273358967262,
           0.002396248137555366,
           0.02559893166563769,
           0.013920353817181067,
           0.056972129046208644,
           0.002157913151265299,
           0.016475991648979886,
           0.038131333126062074,
           0.07169756523163816,
           0.025542700975322873,
           0.009404375939580238,
           0.02143813341563879,
           0.028014375170701815,
           0.006161484578645829,
           0.013635548698960633,
           0.031616018789628386,
           0.0033942424985942323,
           0.00931835490969756,
           0.001989572452739753,
           0.0169000533930654,
           0.006131305051533334,
           0.026575212817247448,
           0.12972589668605977,
           0.027730687462900114,
           0.018552997743760267,
           0.012009756930235212,
           0.012160372455969666,
           0.011576231652990453,
           0.008128745850432492,
           0.010594230122584794,
           0.00859806923363534,
           0.011555325103106582,
           0.01014094472565096,
           0.00976021723144253,
           0.019068010059436213,
           0.015948843121933284,
           0.010077793671110571,
           0.011709915331607012,
           0.01718398425858274,
           0.001870133874931154,
           0.002257450267841548,
           0.002469687345810993,
           0.0024558305914006385,
           0.0026302488825493274,
           0.0012870902040590282
          ],
          "colorscale": [
           [
            0,
            "rgb(12,51,131)"
           ],
           [
            0.25,
            "rgb(10,136,186)"
           ],
           [
            0.5,
            "rgb(242,211,56)"
           ],
           [
            0.75,
            "rgb(242,143,56)"
           ],
           [
            1,
            "rgb(217,30,30)"
           ]
          ],
          "showscale": true,
          "size": 13,
          "sizemode": "diameter",
          "sizeref": 1
         },
         "mode": "markers",
         "text": [
          "ps_ind_01",
          "ps_ind_02_cat",
          "ps_ind_03",
          "ps_ind_04_cat",
          "ps_ind_05_cat",
          "ps_ind_06_bin",
          "ps_ind_07_bin",
          "ps_ind_08_bin",
          "ps_ind_09_bin",
          "ps_ind_10_bin",
          "ps_ind_11_bin",
          "ps_ind_12_bin",
          "ps_ind_13_bin",
          "ps_ind_14",
          "ps_ind_15",
          "ps_ind_16_bin",
          "ps_ind_17_bin",
          "ps_ind_18_bin",
          "ps_reg_01",
          "ps_reg_02",
          "ps_reg_03",
          "ps_car_01_cat",
          "ps_car_02_cat",
          "ps_car_03_cat",
          "ps_car_04_cat",
          "ps_car_05_cat",
          "ps_car_06_cat",
          "ps_car_07_cat",
          "ps_car_08_cat",
          "ps_car_09_cat",
          "ps_car_10_cat",
          "ps_car_11_cat",
          "ps_car_11",
          "ps_car_12",
          "ps_car_13",
          "ps_car_14",
          "ps_car_15",
          "ps_calc_01",
          "ps_calc_02",
          "ps_calc_03",
          "ps_calc_04",
          "ps_calc_05",
          "ps_calc_06",
          "ps_calc_07",
          "ps_calc_08",
          "ps_calc_09",
          "ps_calc_10",
          "ps_calc_11",
          "ps_calc_12",
          "ps_calc_13",
          "ps_calc_14",
          "ps_calc_15_bin",
          "ps_calc_16_bin",
          "ps_calc_17_bin",
          "ps_calc_18_bin",
          "ps_calc_19_bin",
          "ps_calc_20_bin"
         ],
         "type": "scatter",
         "x": [
          "ps_ind_01",
          "ps_ind_02_cat",
          "ps_ind_03",
          "ps_ind_04_cat",
          "ps_ind_05_cat",
          "ps_ind_06_bin",
          "ps_ind_07_bin",
          "ps_ind_08_bin",
          "ps_ind_09_bin",
          "ps_ind_10_bin",
          "ps_ind_11_bin",
          "ps_ind_12_bin",
          "ps_ind_13_bin",
          "ps_ind_14",
          "ps_ind_15",
          "ps_ind_16_bin",
          "ps_ind_17_bin",
          "ps_ind_18_bin",
          "ps_reg_01",
          "ps_reg_02",
          "ps_reg_03",
          "ps_car_01_cat",
          "ps_car_02_cat",
          "ps_car_03_cat",
          "ps_car_04_cat",
          "ps_car_05_cat",
          "ps_car_06_cat",
          "ps_car_07_cat",
          "ps_car_08_cat",
          "ps_car_09_cat",
          "ps_car_10_cat",
          "ps_car_11_cat",
          "ps_car_11",
          "ps_car_12",
          "ps_car_13",
          "ps_car_14",
          "ps_car_15",
          "ps_calc_01",
          "ps_calc_02",
          "ps_calc_03",
          "ps_calc_04",
          "ps_calc_05",
          "ps_calc_06",
          "ps_calc_07",
          "ps_calc_08",
          "ps_calc_09",
          "ps_calc_10",
          "ps_calc_11",
          "ps_calc_12",
          "ps_calc_13",
          "ps_calc_14",
          "ps_calc_15_bin",
          "ps_calc_16_bin",
          "ps_calc_17_bin",
          "ps_calc_18_bin",
          "ps_calc_19_bin",
          "ps_calc_20_bin"
         ],
         "y": [
          0.01686434542269142,
          0.011053805247045436,
          0.036219170535060755,
          0.019470566624956092,
          0.07861381065229754,
          0.019871398042689628,
          0.02209323746126317,
          0.004198705181889577,
          0.003607748989459628,
          0.0003743181308508165,
          0.000658587568488969,
          0.0013468714834950239,
          0.0006631273358967262,
          0.002396248137555366,
          0.02559893166563769,
          0.013920353817181067,
          0.056972129046208644,
          0.002157913151265299,
          0.016475991648979886,
          0.038131333126062074,
          0.07169756523163816,
          0.025542700975322873,
          0.009404375939580238,
          0.02143813341563879,
          0.028014375170701815,
          0.006161484578645829,
          0.013635548698960633,
          0.031616018789628386,
          0.0033942424985942323,
          0.00931835490969756,
          0.001989572452739753,
          0.0169000533930654,
          0.006131305051533334,
          0.026575212817247448,
          0.12972589668605977,
          0.027730687462900114,
          0.018552997743760267,
          0.012009756930235212,
          0.012160372455969666,
          0.011576231652990453,
          0.008128745850432492,
          0.010594230122584794,
          0.00859806923363534,
          0.011555325103106582,
          0.01014094472565096,
          0.00976021723144253,
          0.019068010059436213,
          0.015948843121933284,
          0.010077793671110571,
          0.011709915331607012,
          0.01718398425858274,
          0.001870133874931154,
          0.002257450267841548,
          0.002469687345810993,
          0.0024558305914006385,
          0.0026302488825493274,
          0.0012870902040590282
         ]
        }
       ],
       "layout": {
        "autosize": true,
        "hovermode": "closest",
        "showlegend": false,
        "template": {
         "data": {
          "bar": [
           {
            "error_x": {
             "color": "#2a3f5f"
            },
            "error_y": {
             "color": "#2a3f5f"
            },
            "marker": {
             "line": {
              "color": "#E5ECF6",
              "width": 0.5
             }
            },
            "type": "bar"
           }
          ],
          "barpolar": [
           {
            "marker": {
             "line": {
              "color": "#E5ECF6",
              "width": 0.5
             }
            },
            "type": "barpolar"
           }
          ],
          "carpet": [
           {
            "aaxis": {
             "endlinecolor": "#2a3f5f",
             "gridcolor": "white",
             "linecolor": "white",
             "minorgridcolor": "white",
             "startlinecolor": "#2a3f5f"
            },
            "baxis": {
             "endlinecolor": "#2a3f5f",
             "gridcolor": "white",
             "linecolor": "white",
             "minorgridcolor": "white",
             "startlinecolor": "#2a3f5f"
            },
            "type": "carpet"
           }
          ],
          "choropleth": [
           {
            "colorbar": {
             "outlinewidth": 0,
             "ticks": ""
            },
            "type": "choropleth"
           }
          ],
          "contour": [
           {
            "colorbar": {
             "outlinewidth": 0,
             "ticks": ""
            },
            "colorscale": [
             [
              0,
              "#0d0887"
             ],
             [
              0.1111111111111111,
              "#46039f"
             ],
             [
              0.2222222222222222,
              "#7201a8"
             ],
             [
              0.3333333333333333,
              "#9c179e"
             ],
             [
              0.4444444444444444,
              "#bd3786"
             ],
             [
              0.5555555555555556,
              "#d8576b"
             ],
             [
              0.6666666666666666,
              "#ed7953"
             ],
             [
              0.7777777777777778,
              "#fb9f3a"
             ],
             [
              0.8888888888888888,
              "#fdca26"
             ],
             [
              1,
              "#f0f921"
             ]
            ],
            "type": "contour"
           }
          ],
          "contourcarpet": [
           {
            "colorbar": {
             "outlinewidth": 0,
             "ticks": ""
            },
            "type": "contourcarpet"
           }
          ],
          "heatmap": [
           {
            "colorbar": {
             "outlinewidth": 0,
             "ticks": ""
            },
            "colorscale": [
             [
              0,
              "#0d0887"
             ],
             [
              0.1111111111111111,
              "#46039f"
             ],
             [
              0.2222222222222222,
              "#7201a8"
             ],
             [
              0.3333333333333333,
              "#9c179e"
             ],
             [
              0.4444444444444444,
              "#bd3786"
             ],
             [
              0.5555555555555556,
              "#d8576b"
             ],
             [
              0.6666666666666666,
              "#ed7953"
             ],
             [
              0.7777777777777778,
              "#fb9f3a"
             ],
             [
              0.8888888888888888,
              "#fdca26"
             ],
             [
              1,
              "#f0f921"
             ]
            ],
            "type": "heatmap"
           }
          ],
          "heatmapgl": [
           {
            "colorbar": {
             "outlinewidth": 0,
             "ticks": ""
            },
            "colorscale": [
             [
              0,
              "#0d0887"
             ],
             [
              0.1111111111111111,
              "#46039f"
             ],
             [
              0.2222222222222222,
              "#7201a8"
             ],
             [
              0.3333333333333333,
              "#9c179e"
             ],
             [
              0.4444444444444444,
              "#bd3786"
             ],
             [
              0.5555555555555556,
              "#d8576b"
             ],
             [
              0.6666666666666666,
              "#ed7953"
             ],
             [
              0.7777777777777778,
              "#fb9f3a"
             ],
             [
              0.8888888888888888,
              "#fdca26"
             ],
             [
              1,
              "#f0f921"
             ]
            ],
            "type": "heatmapgl"
           }
          ],
          "histogram": [
           {
            "marker": {
             "colorbar": {
              "outlinewidth": 0,
              "ticks": ""
             }
            },
            "type": "histogram"
           }
          ],
          "histogram2d": [
           {
            "colorbar": {
             "outlinewidth": 0,
             "ticks": ""
            },
            "colorscale": [
             [
              0,
              "#0d0887"
             ],
             [
              0.1111111111111111,
              "#46039f"
             ],
             [
              0.2222222222222222,
              "#7201a8"
             ],
             [
              0.3333333333333333,
              "#9c179e"
             ],
             [
              0.4444444444444444,
              "#bd3786"
             ],
             [
              0.5555555555555556,
              "#d8576b"
             ],
             [
              0.6666666666666666,
              "#ed7953"
             ],
             [
              0.7777777777777778,
              "#fb9f3a"
             ],
             [
              0.8888888888888888,
              "#fdca26"
             ],
             [
              1,
              "#f0f921"
             ]
            ],
            "type": "histogram2d"
           }
          ],
          "histogram2dcontour": [
           {
            "colorbar": {
             "outlinewidth": 0,
             "ticks": ""
            },
            "colorscale": [
             [
              0,
              "#0d0887"
             ],
             [
              0.1111111111111111,
              "#46039f"
             ],
             [
              0.2222222222222222,
              "#7201a8"
             ],
             [
              0.3333333333333333,
              "#9c179e"
             ],
             [
              0.4444444444444444,
              "#bd3786"
             ],
             [
              0.5555555555555556,
              "#d8576b"
             ],
             [
              0.6666666666666666,
              "#ed7953"
             ],
             [
              0.7777777777777778,
              "#fb9f3a"
             ],
             [
              0.8888888888888888,
              "#fdca26"
             ],
             [
              1,
              "#f0f921"
             ]
            ],
            "type": "histogram2dcontour"
           }
          ],
          "mesh3d": [
           {
            "colorbar": {
             "outlinewidth": 0,
             "ticks": ""
            },
            "type": "mesh3d"
           }
          ],
          "parcoords": [
           {
            "line": {
             "colorbar": {
              "outlinewidth": 0,
              "ticks": ""
             }
            },
            "type": "parcoords"
           }
          ],
          "pie": [
           {
            "automargin": true,
            "type": "pie"
           }
          ],
          "scatter": [
           {
            "marker": {
             "colorbar": {
              "outlinewidth": 0,
              "ticks": ""
             }
            },
            "type": "scatter"
           }
          ],
          "scatter3d": [
           {
            "line": {
             "colorbar": {
              "outlinewidth": 0,
              "ticks": ""
             }
            },
            "marker": {
             "colorbar": {
              "outlinewidth": 0,
              "ticks": ""
             }
            },
            "type": "scatter3d"
           }
          ],
          "scattercarpet": [
           {
            "marker": {
             "colorbar": {
              "outlinewidth": 0,
              "ticks": ""
             }
            },
            "type": "scattercarpet"
           }
          ],
          "scattergeo": [
           {
            "marker": {
             "colorbar": {
              "outlinewidth": 0,
              "ticks": ""
             }
            },
            "type": "scattergeo"
           }
          ],
          "scattergl": [
           {
            "marker": {
             "colorbar": {
              "outlinewidth": 0,
              "ticks": ""
             }
            },
            "type": "scattergl"
           }
          ],
          "scattermapbox": [
           {
            "marker": {
             "colorbar": {
              "outlinewidth": 0,
              "ticks": ""
             }
            },
            "type": "scattermapbox"
           }
          ],
          "scatterpolar": [
           {
            "marker": {
             "colorbar": {
              "outlinewidth": 0,
              "ticks": ""
             }
            },
            "type": "scatterpolar"
           }
          ],
          "scatterpolargl": [
           {
            "marker": {
             "colorbar": {
              "outlinewidth": 0,
              "ticks": ""
             }
            },
            "type": "scatterpolargl"
           }
          ],
          "scatterternary": [
           {
            "marker": {
             "colorbar": {
              "outlinewidth": 0,
              "ticks": ""
             }
            },
            "type": "scatterternary"
           }
          ],
          "surface": [
           {
            "colorbar": {
             "outlinewidth": 0,
             "ticks": ""
            },
            "colorscale": [
             [
              0,
              "#0d0887"
             ],
             [
              0.1111111111111111,
              "#46039f"
             ],
             [
              0.2222222222222222,
              "#7201a8"
             ],
             [
              0.3333333333333333,
              "#9c179e"
             ],
             [
              0.4444444444444444,
              "#bd3786"
             ],
             [
              0.5555555555555556,
              "#d8576b"
             ],
             [
              0.6666666666666666,
              "#ed7953"
             ],
             [
              0.7777777777777778,
              "#fb9f3a"
             ],
             [
              0.8888888888888888,
              "#fdca26"
             ],
             [
              1,
              "#f0f921"
             ]
            ],
            "type": "surface"
           }
          ],
          "table": [
           {
            "cells": {
             "fill": {
              "color": "#EBF0F8"
             },
             "line": {
              "color": "white"
             }
            },
            "header": {
             "fill": {
              "color": "#C8D4E3"
             },
             "line": {
              "color": "white"
             }
            },
            "type": "table"
           }
          ]
         },
         "layout": {
          "annotationdefaults": {
           "arrowcolor": "#2a3f5f",
           "arrowhead": 0,
           "arrowwidth": 1
          },
          "autotypenumbers": "strict",
          "coloraxis": {
           "colorbar": {
            "outlinewidth": 0,
            "ticks": ""
           }
          },
          "colorscale": {
           "diverging": [
            [
             0,
             "#8e0152"
            ],
            [
             0.1,
             "#c51b7d"
            ],
            [
             0.2,
             "#de77ae"
            ],
            [
             0.3,
             "#f1b6da"
            ],
            [
             0.4,
             "#fde0ef"
            ],
            [
             0.5,
             "#f7f7f7"
            ],
            [
             0.6,
             "#e6f5d0"
            ],
            [
             0.7,
             "#b8e186"
            ],
            [
             0.8,
             "#7fbc41"
            ],
            [
             0.9,
             "#4d9221"
            ],
            [
             1,
             "#276419"
            ]
           ],
           "sequential": [
            [
             0,
             "#0d0887"
            ],
            [
             0.1111111111111111,
             "#46039f"
            ],
            [
             0.2222222222222222,
             "#7201a8"
            ],
            [
             0.3333333333333333,
             "#9c179e"
            ],
            [
             0.4444444444444444,
             "#bd3786"
            ],
            [
             0.5555555555555556,
             "#d8576b"
            ],
            [
             0.6666666666666666,
             "#ed7953"
            ],
            [
             0.7777777777777778,
             "#fb9f3a"
            ],
            [
             0.8888888888888888,
             "#fdca26"
            ],
            [
             1,
             "#f0f921"
            ]
           ],
           "sequentialminus": [
            [
             0,
             "#0d0887"
            ],
            [
             0.1111111111111111,
             "#46039f"
            ],
            [
             0.2222222222222222,
             "#7201a8"
            ],
            [
             0.3333333333333333,
             "#9c179e"
            ],
            [
             0.4444444444444444,
             "#bd3786"
            ],
            [
             0.5555555555555556,
             "#d8576b"
            ],
            [
             0.6666666666666666,
             "#ed7953"
            ],
            [
             0.7777777777777778,
             "#fb9f3a"
            ],
            [
             0.8888888888888888,
             "#fdca26"
            ],
            [
             1,
             "#f0f921"
            ]
           ]
          },
          "colorway": [
           "#636efa",
           "#EF553B",
           "#00cc96",
           "#ab63fa",
           "#FFA15A",
           "#19d3f3",
           "#FF6692",
           "#B6E880",
           "#FF97FF",
           "#FECB52"
          ],
          "font": {
           "color": "#2a3f5f"
          },
          "geo": {
           "bgcolor": "white",
           "lakecolor": "white",
           "landcolor": "#E5ECF6",
           "showlakes": true,
           "showland": true,
           "subunitcolor": "white"
          },
          "hoverlabel": {
           "align": "left"
          },
          "hovermode": "closest",
          "mapbox": {
           "style": "light"
          },
          "paper_bgcolor": "white",
          "plot_bgcolor": "#E5ECF6",
          "polar": {
           "angularaxis": {
            "gridcolor": "white",
            "linecolor": "white",
            "ticks": ""
           },
           "bgcolor": "#E5ECF6",
           "radialaxis": {
            "gridcolor": "white",
            "linecolor": "white",
            "ticks": ""
           }
          },
          "scene": {
           "xaxis": {
            "backgroundcolor": "#E5ECF6",
            "gridcolor": "white",
            "gridwidth": 2,
            "linecolor": "white",
            "showbackground": true,
            "ticks": "",
            "zerolinecolor": "white"
           },
           "yaxis": {
            "backgroundcolor": "#E5ECF6",
            "gridcolor": "white",
            "gridwidth": 2,
            "linecolor": "white",
            "showbackground": true,
            "ticks": "",
            "zerolinecolor": "white"
           },
           "zaxis": {
            "backgroundcolor": "#E5ECF6",
            "gridcolor": "white",
            "gridwidth": 2,
            "linecolor": "white",
            "showbackground": true,
            "ticks": "",
            "zerolinecolor": "white"
           }
          },
          "shapedefaults": {
           "line": {
            "color": "#2a3f5f"
           }
          },
          "ternary": {
           "aaxis": {
            "gridcolor": "white",
            "linecolor": "white",
            "ticks": ""
           },
           "baxis": {
            "gridcolor": "white",
            "linecolor": "white",
            "ticks": ""
           },
           "bgcolor": "#E5ECF6",
           "caxis": {
            "gridcolor": "white",
            "linecolor": "white",
            "ticks": ""
           }
          },
          "title": {
           "x": 0.05
          },
          "xaxis": {
           "automargin": true,
           "gridcolor": "white",
           "linecolor": "white",
           "ticks": "",
           "title": {
            "standoff": 15
           },
           "zerolinecolor": "white",
           "zerolinewidth": 2
          },
          "yaxis": {
           "automargin": true,
           "gridcolor": "white",
           "linecolor": "white",
           "ticks": "",
           "title": {
            "standoff": 15
           },
           "zerolinecolor": "white",
           "zerolinewidth": 2
          }
         }
        },
        "title": {
         "text": "Random Forest Feature Importance"
        },
        "xaxis": {
         "showgrid": false,
         "showline": false,
         "ticklen": 5,
         "zeroline": false
        },
        "yaxis": {
         "gridwidth": 2,
         "showgrid": false,
         "ticklen": 5,
         "title": {
          "text": "Feature Importance"
         },
         "zeroline": false
        }
       }
      },
      "text/html": [
       "<div>                            <div id=\"52362544-17a9-43e9-8fa9-e20c43a656bb\" class=\"plotly-graph-div\" style=\"height:525px; width:100%;\"></div>            <script type=\"text/javascript\">                require([\"plotly\"], function(Plotly) {                    window.PLOTLYENV=window.PLOTLYENV || {};                                    if (document.getElementById(\"52362544-17a9-43e9-8fa9-e20c43a656bb\")) {                    Plotly.newPlot(                        \"52362544-17a9-43e9-8fa9-e20c43a656bb\",                        [{\"marker\": {\"color\": [0.01686434542269142, 0.011053805247045436, 0.036219170535060755, 0.019470566624956092, 0.07861381065229754, 0.019871398042689628, 0.02209323746126317, 0.004198705181889577, 0.003607748989459628, 0.0003743181308508165, 0.000658587568488969, 0.0013468714834950239, 0.0006631273358967262, 0.002396248137555366, 0.02559893166563769, 0.013920353817181067, 0.056972129046208644, 0.002157913151265299, 0.016475991648979886, 0.038131333126062074, 0.07169756523163816, 0.025542700975322873, 0.009404375939580238, 0.02143813341563879, 0.028014375170701815, 0.006161484578645829, 0.013635548698960633, 0.031616018789628386, 0.0033942424985942323, 0.00931835490969756, 0.001989572452739753, 0.0169000533930654, 0.006131305051533334, 0.026575212817247448, 0.12972589668605977, 0.027730687462900114, 0.018552997743760267, 0.012009756930235212, 0.012160372455969666, 0.011576231652990453, 0.008128745850432492, 0.010594230122584794, 0.00859806923363534, 0.011555325103106582, 0.01014094472565096, 0.00976021723144253, 0.019068010059436213, 0.015948843121933284, 0.010077793671110571, 0.011709915331607012, 0.01718398425858274, 0.001870133874931154, 0.002257450267841548, 0.002469687345810993, 0.0024558305914006385, 0.0026302488825493274, 0.0012870902040590282], \"colorscale\": [[0.0, \"rgb(12,51,131)\"], [0.25, \"rgb(10,136,186)\"], [0.5, \"rgb(242,211,56)\"], [0.75, \"rgb(242,143,56)\"], [1.0, \"rgb(217,30,30)\"]], \"showscale\": true, \"size\": 13, \"sizemode\": \"diameter\", \"sizeref\": 1}, \"mode\": \"markers\", \"text\": [\"ps_ind_01\", \"ps_ind_02_cat\", \"ps_ind_03\", \"ps_ind_04_cat\", \"ps_ind_05_cat\", \"ps_ind_06_bin\", \"ps_ind_07_bin\", \"ps_ind_08_bin\", \"ps_ind_09_bin\", \"ps_ind_10_bin\", \"ps_ind_11_bin\", \"ps_ind_12_bin\", \"ps_ind_13_bin\", \"ps_ind_14\", \"ps_ind_15\", \"ps_ind_16_bin\", \"ps_ind_17_bin\", \"ps_ind_18_bin\", \"ps_reg_01\", \"ps_reg_02\", \"ps_reg_03\", \"ps_car_01_cat\", \"ps_car_02_cat\", \"ps_car_03_cat\", \"ps_car_04_cat\", \"ps_car_05_cat\", \"ps_car_06_cat\", \"ps_car_07_cat\", \"ps_car_08_cat\", \"ps_car_09_cat\", \"ps_car_10_cat\", \"ps_car_11_cat\", \"ps_car_11\", \"ps_car_12\", \"ps_car_13\", \"ps_car_14\", \"ps_car_15\", \"ps_calc_01\", \"ps_calc_02\", \"ps_calc_03\", \"ps_calc_04\", \"ps_calc_05\", \"ps_calc_06\", \"ps_calc_07\", \"ps_calc_08\", \"ps_calc_09\", \"ps_calc_10\", \"ps_calc_11\", \"ps_calc_12\", \"ps_calc_13\", \"ps_calc_14\", \"ps_calc_15_bin\", \"ps_calc_16_bin\", \"ps_calc_17_bin\", \"ps_calc_18_bin\", \"ps_calc_19_bin\", \"ps_calc_20_bin\"], \"type\": \"scatter\", \"x\": [\"ps_ind_01\", \"ps_ind_02_cat\", \"ps_ind_03\", \"ps_ind_04_cat\", \"ps_ind_05_cat\", \"ps_ind_06_bin\", \"ps_ind_07_bin\", \"ps_ind_08_bin\", \"ps_ind_09_bin\", \"ps_ind_10_bin\", \"ps_ind_11_bin\", \"ps_ind_12_bin\", \"ps_ind_13_bin\", \"ps_ind_14\", \"ps_ind_15\", \"ps_ind_16_bin\", \"ps_ind_17_bin\", \"ps_ind_18_bin\", \"ps_reg_01\", \"ps_reg_02\", \"ps_reg_03\", \"ps_car_01_cat\", \"ps_car_02_cat\", \"ps_car_03_cat\", \"ps_car_04_cat\", \"ps_car_05_cat\", \"ps_car_06_cat\", \"ps_car_07_cat\", \"ps_car_08_cat\", \"ps_car_09_cat\", \"ps_car_10_cat\", \"ps_car_11_cat\", \"ps_car_11\", \"ps_car_12\", \"ps_car_13\", \"ps_car_14\", \"ps_car_15\", \"ps_calc_01\", \"ps_calc_02\", \"ps_calc_03\", \"ps_calc_04\", \"ps_calc_05\", \"ps_calc_06\", \"ps_calc_07\", \"ps_calc_08\", \"ps_calc_09\", \"ps_calc_10\", \"ps_calc_11\", \"ps_calc_12\", \"ps_calc_13\", \"ps_calc_14\", \"ps_calc_15_bin\", \"ps_calc_16_bin\", \"ps_calc_17_bin\", \"ps_calc_18_bin\", \"ps_calc_19_bin\", \"ps_calc_20_bin\"], \"y\": [0.01686434542269142, 0.011053805247045436, 0.036219170535060755, 0.019470566624956092, 0.07861381065229754, 0.019871398042689628, 0.02209323746126317, 0.004198705181889577, 0.003607748989459628, 0.0003743181308508165, 0.000658587568488969, 0.0013468714834950239, 0.0006631273358967262, 0.002396248137555366, 0.02559893166563769, 0.013920353817181067, 0.056972129046208644, 0.002157913151265299, 0.016475991648979886, 0.038131333126062074, 0.07169756523163816, 0.025542700975322873, 0.009404375939580238, 0.02143813341563879, 0.028014375170701815, 0.006161484578645829, 0.013635548698960633, 0.031616018789628386, 0.0033942424985942323, 0.00931835490969756, 0.001989572452739753, 0.0169000533930654, 0.006131305051533334, 0.026575212817247448, 0.12972589668605977, 0.027730687462900114, 0.018552997743760267, 0.012009756930235212, 0.012160372455969666, 0.011576231652990453, 0.008128745850432492, 0.010594230122584794, 0.00859806923363534, 0.011555325103106582, 0.01014094472565096, 0.00976021723144253, 0.019068010059436213, 0.015948843121933284, 0.010077793671110571, 0.011709915331607012, 0.01718398425858274, 0.001870133874931154, 0.002257450267841548, 0.002469687345810993, 0.0024558305914006385, 0.0026302488825493274, 0.0012870902040590282]}],                        {\"autosize\": true, \"hovermode\": \"closest\", \"showlegend\": false, \"template\": {\"data\": {\"bar\": [{\"error_x\": {\"color\": \"#2a3f5f\"}, \"error_y\": {\"color\": \"#2a3f5f\"}, \"marker\": {\"line\": {\"color\": \"#E5ECF6\", \"width\": 0.5}}, \"type\": \"bar\"}], \"barpolar\": [{\"marker\": {\"line\": {\"color\": \"#E5ECF6\", \"width\": 0.5}}, \"type\": \"barpolar\"}], \"carpet\": [{\"aaxis\": {\"endlinecolor\": \"#2a3f5f\", \"gridcolor\": \"white\", \"linecolor\": \"white\", \"minorgridcolor\": \"white\", \"startlinecolor\": \"#2a3f5f\"}, \"baxis\": {\"endlinecolor\": \"#2a3f5f\", \"gridcolor\": \"white\", \"linecolor\": \"white\", \"minorgridcolor\": \"white\", \"startlinecolor\": \"#2a3f5f\"}, \"type\": \"carpet\"}], \"choropleth\": [{\"colorbar\": {\"outlinewidth\": 0, \"ticks\": \"\"}, \"type\": \"choropleth\"}], \"contour\": [{\"colorbar\": {\"outlinewidth\": 0, \"ticks\": \"\"}, \"colorscale\": [[0.0, \"#0d0887\"], [0.1111111111111111, \"#46039f\"], [0.2222222222222222, \"#7201a8\"], [0.3333333333333333, \"#9c179e\"], [0.4444444444444444, \"#bd3786\"], [0.5555555555555556, \"#d8576b\"], [0.6666666666666666, \"#ed7953\"], [0.7777777777777778, \"#fb9f3a\"], [0.8888888888888888, \"#fdca26\"], [1.0, \"#f0f921\"]], \"type\": \"contour\"}], \"contourcarpet\": [{\"colorbar\": {\"outlinewidth\": 0, \"ticks\": \"\"}, \"type\": \"contourcarpet\"}], \"heatmap\": [{\"colorbar\": {\"outlinewidth\": 0, \"ticks\": \"\"}, \"colorscale\": [[0.0, \"#0d0887\"], [0.1111111111111111, \"#46039f\"], [0.2222222222222222, \"#7201a8\"], [0.3333333333333333, \"#9c179e\"], [0.4444444444444444, \"#bd3786\"], [0.5555555555555556, \"#d8576b\"], [0.6666666666666666, \"#ed7953\"], [0.7777777777777778, \"#fb9f3a\"], [0.8888888888888888, \"#fdca26\"], [1.0, \"#f0f921\"]], \"type\": \"heatmap\"}], \"heatmapgl\": [{\"colorbar\": {\"outlinewidth\": 0, \"ticks\": \"\"}, \"colorscale\": [[0.0, \"#0d0887\"], [0.1111111111111111, \"#46039f\"], [0.2222222222222222, \"#7201a8\"], [0.3333333333333333, \"#9c179e\"], [0.4444444444444444, \"#bd3786\"], [0.5555555555555556, \"#d8576b\"], [0.6666666666666666, \"#ed7953\"], [0.7777777777777778, \"#fb9f3a\"], [0.8888888888888888, \"#fdca26\"], [1.0, \"#f0f921\"]], \"type\": \"heatmapgl\"}], \"histogram\": [{\"marker\": {\"colorbar\": {\"outlinewidth\": 0, \"ticks\": \"\"}}, \"type\": \"histogram\"}], \"histogram2d\": [{\"colorbar\": {\"outlinewidth\": 0, \"ticks\": \"\"}, \"colorscale\": [[0.0, \"#0d0887\"], [0.1111111111111111, \"#46039f\"], [0.2222222222222222, \"#7201a8\"], [0.3333333333333333, \"#9c179e\"], [0.4444444444444444, \"#bd3786\"], [0.5555555555555556, \"#d8576b\"], [0.6666666666666666, \"#ed7953\"], [0.7777777777777778, \"#fb9f3a\"], [0.8888888888888888, \"#fdca26\"], [1.0, \"#f0f921\"]], \"type\": \"histogram2d\"}], \"histogram2dcontour\": [{\"colorbar\": {\"outlinewidth\": 0, \"ticks\": \"\"}, \"colorscale\": [[0.0, \"#0d0887\"], [0.1111111111111111, \"#46039f\"], [0.2222222222222222, \"#7201a8\"], [0.3333333333333333, \"#9c179e\"], [0.4444444444444444, \"#bd3786\"], [0.5555555555555556, \"#d8576b\"], [0.6666666666666666, \"#ed7953\"], [0.7777777777777778, \"#fb9f3a\"], [0.8888888888888888, \"#fdca26\"], [1.0, \"#f0f921\"]], \"type\": \"histogram2dcontour\"}], \"mesh3d\": [{\"colorbar\": {\"outlinewidth\": 0, \"ticks\": \"\"}, \"type\": \"mesh3d\"}], \"parcoords\": [{\"line\": {\"colorbar\": {\"outlinewidth\": 0, \"ticks\": \"\"}}, \"type\": \"parcoords\"}], \"pie\": [{\"automargin\": true, \"type\": \"pie\"}], \"scatter\": [{\"marker\": {\"colorbar\": {\"outlinewidth\": 0, \"ticks\": \"\"}}, \"type\": \"scatter\"}], \"scatter3d\": [{\"line\": {\"colorbar\": {\"outlinewidth\": 0, \"ticks\": \"\"}}, \"marker\": {\"colorbar\": {\"outlinewidth\": 0, \"ticks\": \"\"}}, \"type\": \"scatter3d\"}], \"scattercarpet\": [{\"marker\": {\"colorbar\": {\"outlinewidth\": 0, \"ticks\": \"\"}}, \"type\": \"scattercarpet\"}], \"scattergeo\": [{\"marker\": {\"colorbar\": {\"outlinewidth\": 0, \"ticks\": \"\"}}, \"type\": \"scattergeo\"}], \"scattergl\": [{\"marker\": {\"colorbar\": {\"outlinewidth\": 0, \"ticks\": \"\"}}, \"type\": \"scattergl\"}], \"scattermapbox\": [{\"marker\": {\"colorbar\": {\"outlinewidth\": 0, \"ticks\": \"\"}}, \"type\": \"scattermapbox\"}], \"scatterpolar\": [{\"marker\": {\"colorbar\": {\"outlinewidth\": 0, \"ticks\": \"\"}}, \"type\": \"scatterpolar\"}], \"scatterpolargl\": [{\"marker\": {\"colorbar\": {\"outlinewidth\": 0, \"ticks\": \"\"}}, \"type\": \"scatterpolargl\"}], \"scatterternary\": [{\"marker\": {\"colorbar\": {\"outlinewidth\": 0, \"ticks\": \"\"}}, \"type\": \"scatterternary\"}], \"surface\": [{\"colorbar\": {\"outlinewidth\": 0, \"ticks\": \"\"}, \"colorscale\": [[0.0, \"#0d0887\"], [0.1111111111111111, \"#46039f\"], [0.2222222222222222, \"#7201a8\"], [0.3333333333333333, \"#9c179e\"], [0.4444444444444444, \"#bd3786\"], [0.5555555555555556, \"#d8576b\"], [0.6666666666666666, \"#ed7953\"], [0.7777777777777778, \"#fb9f3a\"], [0.8888888888888888, \"#fdca26\"], [1.0, \"#f0f921\"]], \"type\": \"surface\"}], \"table\": [{\"cells\": {\"fill\": {\"color\": \"#EBF0F8\"}, \"line\": {\"color\": \"white\"}}, \"header\": {\"fill\": {\"color\": \"#C8D4E3\"}, \"line\": {\"color\": \"white\"}}, \"type\": \"table\"}]}, \"layout\": {\"annotationdefaults\": {\"arrowcolor\": \"#2a3f5f\", \"arrowhead\": 0, \"arrowwidth\": 1}, \"autotypenumbers\": \"strict\", \"coloraxis\": {\"colorbar\": {\"outlinewidth\": 0, \"ticks\": \"\"}}, \"colorscale\": {\"diverging\": [[0, \"#8e0152\"], [0.1, \"#c51b7d\"], [0.2, \"#de77ae\"], [0.3, \"#f1b6da\"], [0.4, \"#fde0ef\"], [0.5, \"#f7f7f7\"], [0.6, \"#e6f5d0\"], [0.7, \"#b8e186\"], [0.8, \"#7fbc41\"], [0.9, \"#4d9221\"], [1, \"#276419\"]], \"sequential\": [[0.0, \"#0d0887\"], [0.1111111111111111, \"#46039f\"], [0.2222222222222222, \"#7201a8\"], [0.3333333333333333, \"#9c179e\"], [0.4444444444444444, \"#bd3786\"], [0.5555555555555556, \"#d8576b\"], [0.6666666666666666, \"#ed7953\"], [0.7777777777777778, \"#fb9f3a\"], [0.8888888888888888, \"#fdca26\"], [1.0, \"#f0f921\"]], \"sequentialminus\": [[0.0, \"#0d0887\"], [0.1111111111111111, \"#46039f\"], [0.2222222222222222, \"#7201a8\"], [0.3333333333333333, \"#9c179e\"], [0.4444444444444444, \"#bd3786\"], [0.5555555555555556, \"#d8576b\"], [0.6666666666666666, \"#ed7953\"], [0.7777777777777778, \"#fb9f3a\"], [0.8888888888888888, \"#fdca26\"], [1.0, \"#f0f921\"]]}, \"colorway\": [\"#636efa\", \"#EF553B\", \"#00cc96\", \"#ab63fa\", \"#FFA15A\", \"#19d3f3\", \"#FF6692\", \"#B6E880\", \"#FF97FF\", \"#FECB52\"], \"font\": {\"color\": \"#2a3f5f\"}, \"geo\": {\"bgcolor\": \"white\", \"lakecolor\": \"white\", \"landcolor\": \"#E5ECF6\", \"showlakes\": true, \"showland\": true, \"subunitcolor\": \"white\"}, \"hoverlabel\": {\"align\": \"left\"}, \"hovermode\": \"closest\", \"mapbox\": {\"style\": \"light\"}, \"paper_bgcolor\": \"white\", \"plot_bgcolor\": \"#E5ECF6\", \"polar\": {\"angularaxis\": {\"gridcolor\": \"white\", \"linecolor\": \"white\", \"ticks\": \"\"}, \"bgcolor\": \"#E5ECF6\", \"radialaxis\": {\"gridcolor\": \"white\", \"linecolor\": \"white\", \"ticks\": \"\"}}, \"scene\": {\"xaxis\": {\"backgroundcolor\": \"#E5ECF6\", \"gridcolor\": \"white\", \"gridwidth\": 2, \"linecolor\": \"white\", \"showbackground\": true, \"ticks\": \"\", \"zerolinecolor\": \"white\"}, \"yaxis\": {\"backgroundcolor\": \"#E5ECF6\", \"gridcolor\": \"white\", \"gridwidth\": 2, \"linecolor\": \"white\", \"showbackground\": true, \"ticks\": \"\", \"zerolinecolor\": \"white\"}, \"zaxis\": {\"backgroundcolor\": \"#E5ECF6\", \"gridcolor\": \"white\", \"gridwidth\": 2, \"linecolor\": \"white\", \"showbackground\": true, \"ticks\": \"\", \"zerolinecolor\": \"white\"}}, \"shapedefaults\": {\"line\": {\"color\": \"#2a3f5f\"}}, \"ternary\": {\"aaxis\": {\"gridcolor\": \"white\", \"linecolor\": \"white\", \"ticks\": \"\"}, \"baxis\": {\"gridcolor\": \"white\", \"linecolor\": \"white\", \"ticks\": \"\"}, \"bgcolor\": \"#E5ECF6\", \"caxis\": {\"gridcolor\": \"white\", \"linecolor\": \"white\", \"ticks\": \"\"}}, \"title\": {\"x\": 0.05}, \"xaxis\": {\"automargin\": true, \"gridcolor\": \"white\", \"linecolor\": \"white\", \"ticks\": \"\", \"title\": {\"standoff\": 15}, \"zerolinecolor\": \"white\", \"zerolinewidth\": 2}, \"yaxis\": {\"automargin\": true, \"gridcolor\": \"white\", \"linecolor\": \"white\", \"ticks\": \"\", \"title\": {\"standoff\": 15}, \"zerolinecolor\": \"white\", \"zerolinewidth\": 2}}}, \"title\": {\"text\": \"Random Forest Feature Importance\"}, \"xaxis\": {\"showgrid\": false, \"showline\": false, \"ticklen\": 5, \"zeroline\": false}, \"yaxis\": {\"gridwidth\": 2, \"showgrid\": false, \"ticklen\": 5, \"title\": {\"text\": \"Feature Importance\"}, \"zeroline\": false}},                        {\"responsive\": true}                    ).then(function(){\n",
       "                            \n",
       "var gd = document.getElementById('52362544-17a9-43e9-8fa9-e20c43a656bb');\n",
       "var x = new MutationObserver(function (mutations, observer) {{\n",
       "        var display = window.getComputedStyle(gd).display;\n",
       "        if (!display || display === 'none') {{\n",
       "            console.log([gd, 'removed!']);\n",
       "            Plotly.purge(gd);\n",
       "            observer.disconnect();\n",
       "        }}\n",
       "}});\n",
       "\n",
       "// Listen for the removal of the full notebook cells\n",
       "var notebookContainer = gd.closest('#notebook-container');\n",
       "if (notebookContainer) {{\n",
       "    x.observe(notebookContainer, {childList: true});\n",
       "}}\n",
       "\n",
       "// Listen for the clearing of the current output cell\n",
       "var outputEl = gd.closest('.output');\n",
       "if (outputEl) {{\n",
       "    x.observe(outputEl, {childList: true});\n",
       "}}\n",
       "\n",
       "                        })                };                });            </script>        </div>"
      ]
     },
     "metadata": {},
     "output_type": "display_data"
    }
   ],
   "source": [
    "trace = go.Scatter(\n",
    "    y = rf.feature_importances_,\n",
    "    x = features,\n",
    "    mode = 'markers',\n",
    "    marker = dict(\n",
    "            sizemode = 'diameter',\n",
    "            sizeref = 1,\n",
    "            size = 13,\n",
    "            color = rf.feature_importances_,\n",
    "            colorscale = 'Portland',\n",
    "            showscale = True),\n",
    "    text = features)\n",
    "\n",
    "data = [trace]\n",
    "\n",
    "layout = go.Layout(\n",
    "    autosize = True,\n",
    "    title = 'Random Forest Feature Importance',\n",
    "    hovermode = 'closest',\n",
    "    xaxis = dict(\n",
    "            ticklen = 5,\n",
    "            showgrid = False,\n",
    "            zeroline = False,\n",
    "            showline = False),\n",
    "    \n",
    "    yaxis = dict(\n",
    "            title = 'Feature Importance',\n",
    "            showgrid = False,\n",
    "            zeroline = False,\n",
    "            ticklen = 5,\n",
    "            gridwidth = 2),\n",
    "    showlegend = False)\n",
    "\n",
    "fig = go.Figure(data = data, layout = layout)\n",
    "py.iplot(fig, filename = 'scatter2010')"
   ]
  },
  {
   "cell_type": "code",
   "execution_count": null,
   "id": "equivalent-motivation",
   "metadata": {},
   "outputs": [],
   "source": []
  }
 ],
 "metadata": {
  "kernelspec": {
   "display_name": "Python 3",
   "language": "python",
   "name": "python3"
  },
  "language_info": {
   "codemirror_mode": {
    "name": "ipython",
    "version": 3
   },
   "file_extension": ".py",
   "mimetype": "text/x-python",
   "name": "python",
   "nbconvert_exporter": "python",
   "pygments_lexer": "ipython3",
   "version": "3.8.8"
  }
 },
 "nbformat": 4,
 "nbformat_minor": 5
}
