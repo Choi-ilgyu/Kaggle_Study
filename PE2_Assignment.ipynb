{
 "cells": [
  {
   "cell_type": "code",
   "execution_count": 1,
   "id": "canadian-gauge",
   "metadata": {},
   "outputs": [
    {
     "name": "stdout",
     "output_type": "stream",
     "text": [
      "{'Batch': 'P184640', 'DieColumn': '2', 'DieRow': '0', 'Maskset': 'GORILLA5', 'TestSite': 'DCM_LMZC', 'Wafer': 'D08'}\n"
     ]
    }
   ],
   "source": [
    "import xml.etree.ElementTree as et\n",
    "\n",
    "xtree = et.parse('C:/Users/user/Desktop/Engineering_Programing_2/P184640_D08_(0,2)_GORILLA5_DCM_LMZC.xml')\n",
    "xroot = xtree.getroot()\n",
    "\n",
    "element = xroot.findall('TestSiteInfo')\n",
    "\n",
    "data = element[0].attrib\n",
    "\n",
    "print(data)"
   ]
  },
  {
   "cell_type": "markdown",
   "id": "impressed-shirt",
   "metadata": {},
   "source": [
    "- ### TestSiteInfo가 어떤 형태의 자료형인지 궁금해서 attrib하고 print를 했더니 dictionary형 자료형이었다.\n",
    "    - ##### Dictionary 자료형 \n",
    "    - ##### {key1 : value 1 , key2 : value 2 , key3 : value 3 , ...}\n",
    "    - ##### {}안에 key값과 value값이 짝을 지어 있는 자료형\n",
    "        - ##### 그래서 우리가 처음에 알았던 것은 애초부터 불완전했던 것"
   ]
  },
  {
   "cell_type": "code",
   "execution_count": 2,
   "id": "injured-shadow",
   "metadata": {},
   "outputs": [
    {
     "name": "stdout",
     "output_type": "stream",
     "text": [
      "Batch : P184640\n",
      "\n",
      "DieColumn : 2\n",
      "\n",
      "DieRow : 0\n",
      "\n",
      "Maskset : GORILLA5\n",
      "\n",
      "TestSite : DCM_LMZC\n",
      "\n",
      "Wafer : D08\n"
     ]
    }
   ],
   "source": [
    "Batch = data['Batch']\n",
    "DieColumn = data['DieColumn']\n",
    "DieRow = data['DieRow']\n",
    "Maskset = data['Maskset']\n",
    "TestSite = data['TestSite']\n",
    "Wafer = data['Wafer']\n",
    "\n",
    "print('Batch : ' + Batch)\n",
    "print()\n",
    "print('DieColumn : ' + DieColumn)\n",
    "print()\n",
    "print('DieRow : ' + DieRow)\n",
    "print()\n",
    "print('Maskset : ' + Maskset)\n",
    "print()\n",
    "print('TestSite : ' + TestSite)\n",
    "print()\n",
    "print('Wafer : ' + Wafer)"
   ]
  },
  {
   "cell_type": "markdown",
   "id": "political-absorption",
   "metadata": {},
   "source": [
    "### IV 자료 뽑아오기"
   ]
  },
  {
   "cell_type": "code",
   "execution_count": 3,
   "id": "sweet-amateur",
   "metadata": {},
   "outputs": [
    {
     "name": "stdout",
     "output_type": "stream",
     "text": [
      "['-2.0,-1.75,-1.5,-1.25,-1.0,-0.75,-0.5,-0.25,0.0,0.25,0.5,0.75,1.0']\n",
      "\n",
      "['4.835394e-10,3.260189e-10,2.217012e-10,1.387472e-10,7.961963e-11,3.743334e-11,1.519271e-11,-5.337101e-12,-2.123519e-11,-5.708346e-11,-3.094061e-09,-4.282794e-06,-0.005282801']\n"
     ]
    }
   ],
   "source": [
    "root_1_ = xroot.find('ElectroOpticalMeasurements')\n",
    "root_2_ = root_1_.find('ModulatorSite')\n",
    "root_3_ = root_2_.find('Modulator')\n",
    "root_4_ = root_3_.find('PortCombo')\n",
    "\n",
    "#위에서 한 것 처럼 바로 찾는 것이 아니라 최상위 노드부터 차례차례 내려가야 한다.\n",
    "\n",
    "IVdata = root_4_.findall('IVMeasurement')\n",
    "\n",
    "voltage = [v.findtext('Voltage') for v in IVdata]\n",
    "current = [i.findtext('Current') for i in IVdata]\n",
    "\n",
    "#데이터 중간중간의 컴마(,) 때문에 실수로 받아들이지 못하고 문자로 받아들인다.\n",
    "\n",
    "print(voltage)\n",
    "print()\n",
    "print(current)"
   ]
  },
  {
   "cell_type": "markdown",
   "id": "operating-backing",
   "metadata": {},
   "source": [
    "#### 어찌어찌 자료를 뽑아오긴 했지만 실수가 아닌 문자 형태의 자료이다.\n",
    "\n",
    "#### 이제 문자를 실수 형태로 변환해야 한다."
   ]
  },
  {
   "cell_type": "code",
   "execution_count": 4,
   "id": "hourly-virgin",
   "metadata": {},
   "outputs": [
    {
     "name": "stdout",
     "output_type": "stream",
     "text": [
      "['-2.0', '-1.75', '-1.5', '-1.25', '-1.0', '-0.75', '-0.5', '-0.25', '0.0', '0.25', '0.5', '0.75', '1.0']\n",
      "\n",
      "['4.835394e-10', '3.260189e-10', '2.217012e-10', '1.387472e-10', '7.961963e-11', '3.743334e-11', '1.519271e-11', '-5.337101e-12', '-2.123519e-11', '-5.708346e-11', '-3.094061e-09', '-4.282794e-06', '-0.005282801']\n"
     ]
    }
   ],
   "source": [
    "vtext = voltage[0].split(',')\n",
    "itext = current[0].split(',')\n",
    "\n",
    "#컴마(,) 기준으로 문자들을 전부 쪼개는 과정이다.\n",
    "\n",
    "print(vtext)\n",
    "print()\n",
    "print(itext)"
   ]
  },
  {
   "cell_type": "code",
   "execution_count": 5,
   "id": "running-prisoner",
   "metadata": {},
   "outputs": [
    {
     "name": "stdout",
     "output_type": "stream",
     "text": [
      "[-2.0, -1.75, -1.5, -1.25, -1.0, -0.75, -0.5, -0.25, 0.0, 0.25, 0.5, 0.75, 1.0]\n",
      "\n",
      "[4.835394e-10, 3.260189e-10, 2.217012e-10, 1.387472e-10, 7.961963e-11, 3.743334e-11, 1.519271e-11, -5.337101e-12, -2.123519e-11, -5.708346e-11, -3.094061e-09, -4.282794e-06, -0.005282801]\n"
     ]
    }
   ],
   "source": [
    "vfloat = []\n",
    "ifloat = []\n",
    "\n",
    "#아직은 문자 형태이므로 이제 숫자로 바꿔줘야 한다.\n",
    "\n",
    "#float(text)는 text를 '실수' 형태로 바꿔준 것이다.\n",
    "\n",
    "#int(text)는 '정수'이다. 전압, 전류 둘 다 정수가 아닌 실수이므로 float(text)를 쓴다.\n",
    "\n",
    "#물론 모든 text에 쓰는 것에 무리가 있다. text가 '12345'와 같은 형태여야 한다.\n",
    "\n",
    "for i in range(0,len(vtext)):    \n",
    "    \n",
    "    vfloat.append(float(vtext[i]))\n",
    "    \n",
    "for i in range(0, len(itext)):\n",
    "    \n",
    "    ifloat.append(float(itext[i]))\n",
    "    \n",
    "#for문은 특정한 범위 안에서 반복을 하는 형태이다.\n",
    "\n",
    "#i 값을 0부터 len(list) 이전까지 차례차례 대입해서 밑의 명령어를 반복하겠다는 뜻이다.\n",
    "\n",
    "#len(list)는 리스트 자료형의 길이로, vtext와 itext는 13이다.\n",
    "\n",
    "#range안에 (0, len(list)+1)을 안하는 이유는, 어짜피 0부터 세니 len(list)를 세지 않아도 13개 전부 다 센다.\n",
    "\n",
    "#append(element)는 리스트 자료형에 요소를 차곡차곡 차례대로 쌓겠다는 의미다.\n",
    "\n",
    "#i=0부터 쌓기 시작하므로 우리가 원하는대로 작은 따옴표만 없앤 형태로 리스트를 만들 수 있다.\n",
    "    \n",
    "    \n",
    "print(vfloat)\n",
    "print()\n",
    "print(ifloat)"
   ]
  },
  {
   "cell_type": "markdown",
   "id": "surprised-oxygen",
   "metadata": {},
   "source": [
    "### 지금까지 IV 데이터를 숫자 형태로 뽑아서 리스트 형태로 정리했다.\n",
    "\n",
    "### 이제 리스트로 그래프를 뽑는 방법을 찾아야 한다."
   ]
  },
  {
   "cell_type": "code",
   "execution_count": 14,
   "id": "collaborative-provision",
   "metadata": {},
   "outputs": [
    {
     "data": {
      "image/png": "[encoded data removed]",
      "text/plain": [
       "<Figure size 432x288 with 1 Axes>"
      ]
     },
     "metadata": {
      "needs_background": "light"
     },
     "output_type": "display_data"
    }
   ],
   "source": [
    "import matplotlib.pyplot as plt\n",
    "\n",
    "#matplotlib은 그래프 그려주는 모듈이다.\n",
    "\n",
    "plt.plot(vfloat,ifloat, 'bo')\n",
    "\n",
    "#x축에 전압, y축에 전류를 파란색(b) 점(o)으로 찍은 것이다.\n",
    "\n",
    "plt.xlabel('Voltage [V]')\n",
    "plt.ylabel('Current[A]')\n",
    "\n",
    "#x축과 y축에 이름을 붙여준 것이다.\n",
    "\n",
    "plt.show()"
   ]
  },
  {
   "cell_type": "markdown",
   "id": "accompanied-residence",
   "metadata": {},
   "source": [
    "### 전류값이 다 거기서 거기니 log를 취하는 것도 나쁘지 않는 것 같다."
   ]
  },
  {
   "cell_type": "code",
   "execution_count": 32,
   "id": "under-spending",
   "metadata": {},
   "outputs": [
    {
     "name": "stderr",
     "output_type": "stream",
     "text": [
      "<ipython-input-32-f599efc0b26a>:5: RuntimeWarning: invalid value encountered in log\n",
      "  logscale = (lambda c : np.log(c))(ifloat[i])\n"
     ]
    },
    {
     "data": {
      "image/png": "[encoded data removed]",
      "text/plain": [
       "<Figure size 432x288 with 1 Axes>"
      ]
     },
     "metadata": {
      "needs_background": "light"
     },
     "output_type": "display_data"
    }
   ],
   "source": [
    "import numpy as np\n",
    "\n",
    "logi = []\n",
    "for i in range(0, len(itext)):\n",
    "    logscale = (lambda c : np.log(c))(ifloat[i])\n",
    "    logi.append(logscale)\n",
    "\n",
    "plt.plot(vfloat, logi, 'bo')\n",
    "    \n",
    "plt.xlabel('Voltage [V]')\n",
    "plt.ylabel('Current[A]')\n",
    "\n",
    "plt.show()\n",
    "\n",
    "#근데 우리 전류 전압 데이터가 왤케 없는거 같냐"
   ]
  },
  {
   "cell_type": "markdown",
   "id": "turkish-garden",
   "metadata": {},
   "source": [
    "### 음수는 로그 안되는거 생각을 안했네;;;"
   ]
  },
  {
   "cell_type": "code",
   "execution_count": null,
   "id": "competitive-termination",
   "metadata": {},
   "outputs": [],
   "source": []
  }
 ],
 "metadata": {
  "kernelspec": {
   "display_name": "Python 3",
   "language": "python",
   "name": "python3"
  },
  "language_info": {
   "codemirror_mode": {
    "name": "ipython",
    "version": 3
   },
   "file_extension": ".py",
   "mimetype": "text/x-python",
   "name": "python",
   "nbconvert_exporter": "python",
   "pygments_lexer": "ipython3",
   "version": "3.8.8"
  }
 },
 "nbformat": 4,
 "nbformat_minor": 5
}
